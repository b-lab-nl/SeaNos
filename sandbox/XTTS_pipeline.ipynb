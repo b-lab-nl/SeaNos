{
 "cells": [
  {
   "cell_type": "code",
   "metadata": {
    "ExecuteTime": {
     "end_time": "2024-11-03T15:20:08.683609Z",
     "start_time": "2024-11-03T15:20:08.531613Z"
    }
   },
   "source": [
    "# add autoreload\n",
    "%load_ext autoreload\n",
    "%autoreload 2\n",
    "\n",
    "import os\n",
    "import torch\n",
    "import transformers\n",
    "from TTS.api import TTS # only in v0.22\n",
    "from TTS.tts.models.vits import Vits\n",
    "from TTS.tts.models.xtts import Xtts\n",
    "\n",
    "from TTS.tts.configs.xtts_config import XttsConfig\n",
    "from TTS.tts.configs.vits_config import VitsConfig\n",
    "\n",
    "from TTS.tts.utils.synthesis import synthesis\n",
    "from TTS.utils.audio import AudioProcessor\n",
    "from TTS.tts.utils.text.tokenizer import TTSTokenizer\n",
    "\n",
    "\n",
    "from neon_tts_plugin_coqui import CoquiTTS as neonTTS\n",
    "from IPython.display import Audio\n",
    "from neon_tts_plugin_coqui.configs import tts_config\n",
    "from scipy.io import wavfile\n",
    "from scipy.signal import welch\n",
    "from scipy.signal import iirnotch, filtfilt, sosfiltfilt, butter, sosfilt, sosfreqz\n",
    "\n",
    "import numpy as np\n",
    "\n",
    "import matplotlib\n",
    "import matplotlib.pyplot as plt\n",
    "from tensorflow.python.ops.gen_logging_ops import audio_summary\n",
    "\n",
    "matplotlib.use('Qt5Agg')\n",
    "\n",
    "import noisereduce as nr\n",
    "from src import preprocessing\n",
    "\n",
    "import random\n",
    "\n",
    "import librosa\n",
    "import soundfile as sf\n",
    "\n",
    "from pydub import AudioSegment"
   ],
   "outputs": [
    {
     "name": "stdout",
     "output_type": "stream",
     "text": [
      "The autoreload extension is already loaded. To reload it, use:\n",
      "  %reload_ext autoreload\n"
     ]
    }
   ],
   "execution_count": 124
  },
  {
   "metadata": {},
   "cell_type": "code",
   "source": [
    "def generate_and_save_melspec(mel_spectrogram, sampling_rate, output_path=\"../artifacts/melgram.png\"):\n",
    "    # Generate mel spectrogram\n",
    "    print(f\"Mel spectrogram shape: {mel_spectrogram.shape}\")\n",
    "    print(f\"Sampling rate: {sampling_rate}\")\n",
    "\n",
    "    # Save mel spectrogram as numpy array\n",
    "    np.save(output_path + \".npy\", mel_spectrogram)\n",
    "    print(f\"Mel spectrogram saved to {output_path}.npy\")\n",
    "\n",
    "    # Optionally, visualize and save the mel spectrogram as an image\n",
    "    plt.figure(figsize=(10, 4))\n",
    "    plt.imshow(mel_spectrogram, aspect='auto', origin='lower')\n",
    "    plt.colorbar()\n",
    "    plt.title('Mel Spectrogram')\n",
    "    plt.tight_layout()\n",
    "    plt.savefig(output_path + \".png\")\n",
    "    print(f\"Mel spectrogram visualization saved to {output_path}.png\")\n"
   ],
   "outputs": [],
   "execution_count": null
  },
  {
   "metadata": {},
   "cell_type": "markdown",
   "source": "# Vocoder test"
  },
  {
   "metadata": {},
   "cell_type": "code",
   "source": [
    "def apply_vocoder(synthesizer, mel_spectrogram, output_path=\"../artifacts/vocoder.wav\"):\n",
    "    # Convert to tensor if it's not already\n",
    "    if not isinstance(mel_spectrogram, torch.Tensor):\n",
    "        mel_spectrogram = torch.FloatTensor(mel_spectrogram)\n",
    "\n",
    "    # Ensure mel_spectrogram is the right shape (add batch dimension if needed)\n",
    "    if mel_spectrogram.dim() == 2:\n",
    "        mel_spectrogram = mel_spectrogram.unsqueeze(0)\n",
    "\n",
    "    # Move to the same device as the vocoder (CUDA in this case)\n",
    "    mel_spectrogram = mel_spectrogram.cuda()\n",
    "\n",
    "    # Generate waveform\n",
    "    with torch.no_grad():\n",
    "        waveform = synthesizer.vocoder_model(mel_spectrogram)\n",
    "\n",
    "    # Convert to numpy array\n",
    "    waveform = waveform.cpu().numpy().squeeze()\n",
    "\n",
    "    # Normalize audio to [-1, 1] range\n",
    "    waveform = waveform / np.max(np.abs(waveform))\n",
    "\n",
    "    # Get the sampling rate from the synthesizer\n",
    "    sample_rate = synthesizer.vocoder_model.config.audio.sample_rate\n",
    "    if sample_rate is None:\n",
    "        # Fallback to a common sample rate if not found in config\n",
    "        sample_rate = 22050\n",
    "        print(f\"Warning: Sample rate not found in vocoder config. Using default: {sample_rate}\")\n",
    "\n",
    "\n",
    "    # Save as wav file\n",
    "    sf.write(output_path, waveform, sample_rate)\n",
    "    print(f\"Audio saved to {output_path}\")\n",
    "\n",
    "    return waveform, sample_rate"
   ],
   "outputs": [],
   "execution_count": null
  },
  {
   "metadata": {},
   "cell_type": "markdown",
   "source": ""
  },
  {
   "metadata": {},
   "cell_type": "code",
   "source": "from TTS.utils.synthesizer import Synthesizer",
   "outputs": [],
   "execution_count": null
  },
  {
   "metadata": {},
   "cell_type": "code",
   "source": "# try https://huggingface.co/nvidia/tts_hifigan",
   "outputs": [],
   "execution_count": null
  },
  {
   "metadata": {},
   "cell_type": "code",
   "source": "vocoder_path = \"/media/bramiozo/DATA-FAST/TTS/tts_models/gle/hifigan_vocoder_seanos\"",
   "outputs": [],
   "execution_count": null
  },
  {
   "metadata": {},
   "cell_type": "code",
   "source": [
    "synthesizer = Synthesizer()\n",
    "synthesizer._load_vocoder(model_file=os.path.join(vocoder_path, \"model_file.pth.tar\"), \n",
    "                          model_config=os.path.join(vocoder_path, \"config.json\"), \n",
    "                          use_cuda=True)"
   ],
   "outputs": [],
   "execution_count": null
  },
  {
   "metadata": {},
   "cell_type": "code",
   "source": [
    "tts_path = \"/media/bramiozo/DATA-FAST/TTS/tts_models/gle/tts-vits-cv-ga_seanos\"\n",
    "tts_model = TTS(progress_bar=True,\n",
    "                model_path=os.path.join(tts_path, \"withPhonemes_withSpeakerEncoder_fft4098_allSingers_seperatedByPrep/model_file.pth.tar\"),\n",
    "                config_path=os.path.join(tts_path, \"withPhonemes_withSpeakerEncoder_fft4098_allSingers_seperatedByPrep/config.json\"))"
   ],
   "outputs": [],
   "execution_count": null
  },
  {
   "metadata": {},
   "cell_type": "code",
   "source": [
    "tts_synthesizer = Synthesizer(tts_checkpoint=os.path.join(tts_path, \"withPhonemes_withSpeakerEncoder_fft4098_allSingers_seperatedByPrep/model.pth\"),\n",
    "                              tts_config_path=os.path.join(tts_path, \"withPhonemes_withSpeakerEncoder_fft4098_allSingers_seperatedByPrep/config.json\"),\n",
    "                              tts_speakers_file=os.path.join(tts_path, \"withPhonemes_withSpeakerEncoder_fft4098_allSingers_seperatedByPrep/speakers.pth\"),\n",
    "                              tts_languages_file=os.path.join(tts_path, \"language_ids.pth\"),\n",
    "                              vocoder_config=os.path.join(vocoder_path, \"config.json\"),\n",
    "                              vocoder_checkpoint=os.path.join(vocoder_path, \"best_model.pth\")\n",
    "                              )"
   ],
   "outputs": [],
   "execution_count": null
  },
  {
   "metadata": {},
   "cell_type": "code",
   "source": "_neonTTS = neonTTS(lang=\"ga\", config={})",
   "outputs": [],
   "execution_count": null
  },
  {
   "cell_type": "code",
   "metadata": {
    "ExecuteTime": {
     "end_time": "2024-11-03T15:09:59.614951Z",
     "start_time": "2024-11-03T15:09:59.476553Z"
    }
   },
   "source": [
    "irish_lyrics = \"\"\"\n",
    "Bhí loch ag mo sheanmháthair,\n",
    "Áit ina raibh na lachain ag snámh,\n",
    "Le héadain bhána geal,\n",
    "Is cluimhreach chomh bog le scamall.\n",
    "\"\"\"\n",
    "\n",
    "\"\"\"\n",
    "Ó, a lachain álainn, a sheod,\n",
    "Le do ghlór binn i gconaí ag glaoch,\n",
    "I do loch ghlé geal,\n",
    "Agus tú chomh saor le gaoth.\n",
    "\n",
    "Sa mhaidin chiúin go moch,\n",
    "Bhí an lacha ag éirí as a suan,from scipy.signal import welch\n",
    "\n",
    "Le heireabaill ag crith,\n",
    "Is a sciatháin ag sracadh an uisce.\n",
    "\n",
    "Ó, a lachain álainn, a sheod,\n",
    "Le do ghlór binn i gconaí ag glaoch,\n",
    "I do loch ghlé geal,\n",
    "Agus tú chomh saor le gaoth.\n",
    "\n",
    "Nuair a tháinig an tráthnóna,\n",
    "Bhí na lachain fós ann,\n",
    "Le spraoi is súgradh leo,\n",
    "Agus an ghrian ag dul faoi chiúin.\n",
    "\n",
    "Ó, a lachain álainn, a sheod,\n",
    "Le do ghlór binn i gconaí ag glaoch,\n",
    "I do loch ghlé geal,\n",
    "Agus tú chomh saor le gaoth.\n",
    "\n",
    "Anois tá cuimhne agam ort,\n",
    "A lachain mo sheanmháthar,\n",
    "Áit álainn ar domhan,\n",
    "Nach n-imeoidh uaim go bráth.\n",
    "\n",
    "Ó, a lachain álainn, a sheod,\n",
    "Le do ghlór binn i gconaí ag glaoch,\n",
    "I do loch ghlé geal,\n",
    "Agus tú chomh saor le gaoth\n",
    "\"\"\"\n",
    "\n",
    "dutch_lyrics = \"\"\"\n",
    "Zooals ik eenmaal beminde,\n",
    "Zoo minde er op aarde nooit een,\n",
    "Maar 'k vond, tot wien ik mij wendde,\n",
    "Slechts harten van ijs en van steen.\n",
    "\n",
    "Toen stierf mijn geloof aan de vriendschap,\n",
    "Mijn hoop en mijn liefde verdween,\n",
    "En zooals mijn hart toen haatte,\n",
    "Zoo haatte er op aarde nooit een.\n",
    "\n",
    "En sombere, bittere liederen\n",
    "Zijn aan mijn lippen ontgleên;\n",
    "Zoo somber en bitter als ik zong,\n",
    "Zoo zong er op aarde nooit een.\n",
    "\n",
    "Verveeld heeft mij eindlijk dat haten,\n",
    "Dat eeuwig gezang en geween,\n",
    "Ik zweeg, en zooals ik nu zwijg,\n",
    "Zoo zweeg er op aarde nooit een.\n",
    "\"\"\""
   ],
   "outputs": [],
   "execution_count": 114
  },
  {
   "metadata": {
    "ExecuteTime": {
     "end_time": "2024-11-03T14:35:40.090445Z",
     "start_time": "2024-11-03T14:35:39.952683Z"
    }
   },
   "cell_type": "code",
   "source": "tts_model.speakers",
   "outputs": [
    {
     "data": {
      "text/plain": [
       "['MCV_02e74f10e0327ad868d138f2b4fdd6f0',\n",
       " 'MCV_035a6d8d8721f075d3eeeb25e4413502',\n",
       " 'MCV_04e0d96daa7a8d1dc9948d13bd14c81d',\n",
       " 'MCV_0528c8bed09c276fb6ab058820dbf9e0',\n",
       " 'MCV_07974b511961d09cb0da27c0c959ab8d',\n",
       " 'MCV_08a595a894bb72b93411e8af59144f6a',\n",
       " 'MCV_0923e0456b7e0aaafb778ecb93a6352e',\n",
       " 'MCV_0a319772898ef8163359af630a288669',\n",
       " 'MCV_0beba018a63e28a8583543c6f39f10a6',\n",
       " 'MCV_0cd4065ee07ccc1e3805d3455e077764',\n",
       " 'MCV_0e0de9a39de96770d50e6fedbcaf0f69',\n",
       " 'MCV_13ffa4195f5362d35b67afd6e82b5726',\n",
       " 'MCV_1435de22b9df4a83b5e1898c05995708',\n",
       " 'MCV_15926dcc42125114405323fb1f4cb6ae',\n",
       " 'MCV_1679091c5a880faf6fb5e6087eb1b2dc',\n",
       " 'MCV_17113e351f6032420215195a3525fde3',\n",
       " 'MCV_1b9d967c542355502c235c49000312c1',\n",
       " 'MCV_1be1458e6efbe7005b46b09db27d70db',\n",
       " 'MCV_1ef4c8bd82871dec9d22ed3e1ba1d154',\n",
       " 'MCV_1f0e3dad99908345f7439f8ffabdffc4',\n",
       " 'MCV_1f4b737c6f401b82c2fe066989a534f6',\n",
       " 'MCV_1fdf088d8283fdec89062842d6015afb',\n",
       " 'MCV_1ff1de774005f8da13f42943881c655f',\n",
       " 'MCV_21b30f1a25a5841e6cae632652267c86',\n",
       " 'MCV_22d5ad8e3e1735c816db1fe209f101bf',\n",
       " 'MCV_232fe4c891b54ac6d03d1f428cd65617',\n",
       " 'MCV_23c879ddc30c64b51d10701bd3e0b24d',\n",
       " 'MCV_2501556559295939a4d81ad7221bfb45',\n",
       " 'MCV_2551e9487842331ae26f3796f12ad36c',\n",
       " 'MCV_256799c162703858f33f089fc8b7d3be',\n",
       " 'MCV_26a101934a9fc9878c79115ab85c44d8',\n",
       " 'MCV_26fe77130fdc2c4b83348a4dc100992b',\n",
       " 'MCV_27f28bd5857e9d48438d7ecbb8e530bb',\n",
       " 'MCV_28646468d8481e547077691ae20a4005',\n",
       " 'MCV_2985639a8d23a32f13157efc9428b552',\n",
       " 'MCV_29dde39c77349849ec9558b18f09c4b0',\n",
       " 'MCV_2cb98801549038e4c837310e82c5bd69',\n",
       " 'MCV_2d51c6a17b09095a526eb0bdff430740',\n",
       " 'MCV_2dcbc1a39a13a76aea6c2cac73fb55ea',\n",
       " 'MCV_2e1a0d53fe52efddf489eb03ee27dc63',\n",
       " 'MCV_2effdd560e42c968d0bc525eac9a1fa2',\n",
       " 'MCV_2f41f89e857d722b932dfdfccaaf6c83',\n",
       " 'MCV_32f0c9fa92acba35324f671d868021e4',\n",
       " 'MCV_348205306660c48601127bb527ae6236',\n",
       " 'MCV_3550fb068bb1826ac1fb6620613d559d',\n",
       " 'MCV_37693cfc748049e45d87b8c7d8b9aacd',\n",
       " 'MCV_3c59dc048e8850243be8079a5c74d079',\n",
       " 'MCV_3cfc6593d09c0fe2b6f177d676822b93',\n",
       " 'MCV_4055c6788911dc39f2baf982baf249ea',\n",
       " 'MCV_412622b31da555c37679bf6c0d6c8c1d',\n",
       " 'MCV_41b505b8c735a7a0e4423a67e79b44bd',\n",
       " 'MCV_429ca648a063b27d2e4921e8287bdbf7',\n",
       " 'MCV_451c3cf9b1132013c3ac58b922a44953',\n",
       " 'MCV_45c48cce2e2d7fbdea1afc51c7c6ad26',\n",
       " 'MCV_4692ee512e0a37e682d03d4eb697efec',\n",
       " 'MCV_4a0a0e13f675ef252c1bf61f9ef55958',\n",
       " 'MCV_4ca21f46ae591025ebc2e83eda28a86e',\n",
       " 'MCV_4e732ced3463d06de0ca9a15b6153677',\n",
       " 'MCV_4f3f568df915f015a687e805eb9df1ad',\n",
       " 'MCV_4f46e5a990aa1f893bff89a0add191a9',\n",
       " 'MCV_4fe8ef5361fc005e1c1e37f688244f79',\n",
       " 'MCV_504b2b8dd40f825432edbd2e9faa9b28',\n",
       " 'MCV_50845f6ca0aede609736d33690729e81',\n",
       " 'MCV_51ea13b61ee913ae2b476d4f3f097641',\n",
       " 'MCV_55daf51c7aa748c4aba5583e4a3e8580',\n",
       " 'MCV_57f16c4c848c00f7b177d648ee8a72d1',\n",
       " 'MCV_58def3a28f208045f223007c9f982a95',\n",
       " 'MCV_5c6997153ae4ee1192bee7b9c7f800cb',\n",
       " 'MCV_60e18c27ff377a26531357de8e79ba82',\n",
       " 'MCV_60f099c031d6ae72900bed0c3ea5fd77',\n",
       " 'MCV_61a6a449b8b42aa0b7a895c315647381',\n",
       " 'MCV_6499a22d3eb261061c8c4cd6e8bbccbc',\n",
       " 'MCV_6512bd43d9caa6e02c990b0a82652dca',\n",
       " 'MCV_66e093d3bb2d4a2c2f4795ad9966ceb0',\n",
       " 'MCV_6788efc1be048dc69c3b32e43dee656b',\n",
       " 'MCV_68a4cdad6eb440a9c9e3668966f6e48e',\n",
       " 'MCV_6a3f063a5f98649f8b32a799c9b6b25f',\n",
       " 'MCV_6a6df00ba5c6720cab44efdbdaf6cedb',\n",
       " 'MCV_6c5c6dde1a52adb93b7c14887f3f8c00',\n",
       " 'MCV_6d501fb453dabcd0a39fbf77c8a7cc89',\n",
       " 'MCV_6dcda58340173bac22a06cd437d3f1ed',\n",
       " 'MCV_6f4922f45568161a8cdf4ad2299f6d23',\n",
       " 'MCV_6f758ac581434343506e07e4188b00a7',\n",
       " 'MCV_6fbdc41f3e6b10c0de142c442290a77e',\n",
       " 'MCV_70efdf2ec9b086079795c442636b55fb',\n",
       " 'MCV_739e28eabe7f99176b975805002c9ceb',\n",
       " 'MCV_74231be297432558a7b5b4ca1c42bfcb',\n",
       " 'MCV_74f0a87679a5cd3ef4320bde74af406f',\n",
       " 'MCV_77ff216cb9a2ab711e1b57203fda9be4',\n",
       " 'MCV_7891f451c8dc368c024db122e425ed73',\n",
       " 'MCV_7bf4c9b43df1843240b07bbd50b7546f',\n",
       " 'MCV_7eba9a3da757e3ffbafcb200ed182984',\n",
       " 'MCV_7f9364f35e8ec7566c7838c70a951221',\n",
       " 'MCV_7fb027d4f2689c44ec480d9bf691c48e',\n",
       " 'MCV_80a18697034df465b1389c83a162671e',\n",
       " 'MCV_826ce649b403bee318032cc74758d80e',\n",
       " 'MCV_8372ed51492e532a47a8c9fd7c4730cc',\n",
       " 'MCV_83982d9ae9a3e831a164da4486ea7ce6',\n",
       " 'MCV_8504ce19aa8f1a9ed581c99b9cc32784',\n",
       " 'MCV_868178112c90f6fd40371178c5902401',\n",
       " 'MCV_86e6459417c281be0ad671ba70e39ee8',\n",
       " 'MCV_8856670e0bea13e7c026999320f5bfbd',\n",
       " 'MCV_8895fb4495a5bca3662764c443b88ef9',\n",
       " 'MCV_8cebda732ee5f8b63e18a09b995a505c',\n",
       " 'MCV_8d6346bed9c31e444f9090cf8b420b43',\n",
       " 'MCV_8e296a067a37563370ded05f5a3bf3ec',\n",
       " 'MCV_8e4521f661be9f290754b628b13287cd',\n",
       " 'MCV_8f14e45fceea167a5a36dedd4bea2543',\n",
       " 'MCV_9490ada49a70c4b7dd5e9cfa3176ac90',\n",
       " 'MCV_96caebc2aa4abe6374e87b630babcb1e',\n",
       " 'MCV_97097792cd145f8484763578df2fb09b',\n",
       " 'MCV_98f13708210194c475687be6106a3b84',\n",
       " 'MCV_99d2ba44cf3efa1314ed6fe0588c7792',\n",
       " 'MCV_9b43cdc2c405f95725237e6322b6a0a9',\n",
       " 'MCV_9bf31c7ff062936a96d3c8bd1f8f2ff3',\n",
       " 'MCV_9f6761319521cd8a92ba29927bee0596',\n",
       " 'MCV_a39a202852e165b0b24353cc5874b0ff',\n",
       " 'MCV_a6f902962ac6b46596dcb819c8732e19',\n",
       " 'MCV_a80d59b2dc5a7d6dc5c49ee546e9ce4e',\n",
       " 'MCV_a87ff679a2f3e71d9181a67b7542122c',\n",
       " 'MCV_aaa4996df6c75b01aecfe7dafca7a981',\n",
       " 'MCV_aab3238922bcc25a6f606eb525ffdc56',\n",
       " 'MCV_abe0401a3dbae193faa011d76a5bcb1e',\n",
       " 'MCV_ad118087c422f32529035895cc20139d',\n",
       " 'MCV_adde3dac0fb3d1e473d4f14ffc4515d2',\n",
       " 'MCV_afe40d0e881e7eb41d90b8d7ab6088d7',\n",
       " 'MCV_b0f766ab7be791d42b30395f9417454b',\n",
       " 'MCV_b17c83db240d11a6fad46d0ae192919c',\n",
       " 'MCV_b1b62ea0859f5101b81220c5864923e9',\n",
       " 'MCV_b6d767d2f8ed5d21a44b0e5886680cb9',\n",
       " 'MCV_b6dae536607dde3f4bd703e4ce4503a9',\n",
       " 'MCV_b733ac5f1a735ed6387657de5e407cb9',\n",
       " 'MCV_b7d385f5fbfd47cdd86654a20f8b4d35',\n",
       " 'MCV_b8f29282de3b56f0e7c2004e7692ff39',\n",
       " 'MCV_bc65f8d3f1875de324f299857f6a3ef9',\n",
       " 'MCV_bc7bb2854f8f96d7a784741b1fce837f',\n",
       " 'MCV_be9173972e6d7552e4df4a1fed3eb53a',\n",
       " 'MCV_bf67e709c772755f7826bed48798ab83',\n",
       " 'MCV_c14daf08eebc1c8e351d4e86945a4282',\n",
       " 'MCV_c20ad4d76fe97759aa27a0c99bff6710',\n",
       " 'MCV_c2235af5d00222d1bc96e6dcd9ce2c78',\n",
       " 'MCV_c39933a25e7d54813a682106f17ad6ab',\n",
       " 'MCV_c4ca4238a0b923820dcc509a6f75849b',\n",
       " 'MCV_c51ce410c124a10e0db5e4b97fc2af39',\n",
       " 'MCV_c668114afca6acda3b151b1f5eca6f91',\n",
       " 'MCV_c74d97b01eae257e44aa9d5bade97baf',\n",
       " 'MCV_c81e728d9d4c2f636f067f89cc14862c',\n",
       " 'MCV_c9f0f895fb98ab9159f51fd0297e236d',\n",
       " 'MCV_cbc79f2ae95b0a657843f2024188aa45',\n",
       " 'MCV_cd5847a6edd1ce9f86eca1b999dccfef',\n",
       " 'MCV_ce2ef5c687d84058de94ed02c585e09c',\n",
       " 'MCV_ced7b39ee64b2e1a56cc3e580ed79eec',\n",
       " 'MCV_cf578dcbc64593a2fe63fc4fc5cddb24',\n",
       " 'MCV_d303fa9a92b6355d5da9cbae56b201cf',\n",
       " 'MCV_d3d9446802a44259755d38e6d163e820',\n",
       " 'MCV_d9732b0e1426d2222662d660b35e2a87',\n",
       " 'MCV_d9ca8c156f6f67cf1a33c5e4be78b82d',\n",
       " 'MCV_dc67d09490ed3d92355975ad95f91638',\n",
       " 'MCV_dc7713ab6cf22be5e7e5d8ee8194489f',\n",
       " 'MCV_dd1f4aa398af3c191640b0cc9290fc6d',\n",
       " 'MCV_dd3b52d4520d78ec887f2e126c32b410',\n",
       " 'MCV_e17d6ec332a8b7790b7e84f9afc50d9c',\n",
       " 'MCV_e44c6be17899cf79fdc1997268b5366d',\n",
       " 'MCV_e4da3b7fbbce2345d7772b0674a318d5',\n",
       " 'MCV_e52128b42c4123f1dda4e1e767f5303c',\n",
       " 'MCV_e7f08abc20821b50eafe167f58dc71c7',\n",
       " 'MCV_e83d77f90f9ba19d248c1bade97829fe',\n",
       " 'MCV_ea6d622dc8657595d3ca376ff4152f7a',\n",
       " 'MCV_ec44d8c65ec246011850e7b3b25e28fd',\n",
       " 'MCV_eccbc87e4b5ce2fe28308fd9f2a7baf3',\n",
       " 'MCV_ed1c1efca9d8ffc5d1314595057dfb5d',\n",
       " 'MCV_ed5746b2b1462029c8d53f9717fe4b9d',\n",
       " 'MCV_f289a00eda27794bd63b377387375254',\n",
       " 'MCV_f9ab6409587ab5f2fee48d720559f9bb',\n",
       " 'MCV_fa2987150f77ab01173f94023daa8834',\n",
       " 'MCV_fb5c166015df39c8a2dbb029b5a26560',\n",
       " 'MCV_fbb1a0cf39f11efcc031d950dabb052e',\n",
       " 'MCV_fdf7a919494b1238ca591e34f18a1bc5']"
      ]
     },
     "execution_count": 77,
     "metadata": {},
     "output_type": "execute_result"
    }
   ],
   "execution_count": 77
  },
  {
   "metadata": {
    "ExecuteTime": {
     "end_time": "2024-11-03T15:31:31.641866Z",
     "start_time": "2024-11-03T15:31:31.515045Z"
    }
   },
   "cell_type": "code",
   "source": [
    "good_speakers = [ 'MCV_e4da3b7fbbce2345d7772b0674a318d5',\n",
    "                  'MCV_d3d9446802a44259755d38e6d163e820',\n",
    "                  'MCV_3c59dc048e8850243be8079a5c74d079',\n",
    "                  'MCV_8e296a067a37563370ded05f5a3bf3ec',\n",
    "                  'MCV_4e732ced3463d06de0ca9a15b6153677', \n",
    "                  'MCV_fbb1a0cf39f11efcc031d950dabb052e', \n",
    "                  'MCV_f289a00eda27794bd63b377387375254',\n",
    "                  'MCV_e44c6be17899cf79fdc1997268b5366d',\n",
    "                  'MCV_fbb1a0cf39f11efcc031d950dabb052e', \n",
    "                  'MCV_8f14e45fceea167a5a36dedd4bea2543'\n",
    "                  ]\n"
   ],
   "outputs": [],
   "execution_count": 145
  },
  {
   "metadata": {
    "ExecuteTime": {
     "end_time": "2024-11-03T15:31:31.852873Z",
     "start_time": "2024-11-03T15:31:31.742771Z"
    }
   },
   "cell_type": "code",
   "source": "len(tts_model.speakers), [s in tts_model.speakers for s in good_speakers]",
   "outputs": [
    {
     "data": {
      "text/plain": [
       "(178, [True, True, True, True, True, True, True, True, True, True])"
      ]
     },
     "execution_count": 146,
     "metadata": {},
     "output_type": "execute_result"
    }
   ],
   "execution_count": 146
  },
  {
   "metadata": {
    "ExecuteTime": {
     "end_time": "2024-11-03T15:32:00.461450Z",
     "start_time": "2024-11-03T15:31:32.029448Z"
    }
   },
   "cell_type": "code",
   "source": [
    "# randomly select from speaker list \n",
    "synth = tts_model.synthesizer\n",
    "sampling_rate = synth.output_sample_rate\n",
    "files_written = []\n",
    "waveforms = []\n",
    "for speaker_id in good_speakers:    \n",
    "    irish_waveform = synth.tts(irish_lyrics, speaker_name=speaker_id)\n",
    "    irish_waveform = np.array(irish_waveform)\n",
    "    irish_waveform = np.squeeze(irish_waveform)\n",
    "    \n",
    "    # irish_waveform as the original\n",
    "    fwrite = f\"../artifacts/RAW_irish_finetuned_speaker{speaker_id}.wav\"\n",
    "    wavfile.write(fwrite, rate=sampling_rate, data=irish_waveform)\n",
    "    files_written.append(fwrite)\n",
    "    waveforms.append(irish_waveform)"
   ],
   "outputs": [
    {
     "name": "stdout",
     "output_type": "stream",
     "text": [
      " > Text splitted to sentences.\n",
      "['Bhí loch ag mo sheanmháthair,', 'Áit ina raibh na lachain ag snámh,', 'Le héadain bhána geal,', 'Is cluimhreach chomh bog le scamall.']\n",
      " > Processing time: 2.5453386306762695\n",
      " > Real-time factor: 0.20660824598897007\n",
      " > Text splitted to sentences.\n",
      "['Bhí loch ag mo sheanmháthair,', 'Áit ina raibh na lachain ag snámh,', 'Le héadain bhána geal,', 'Is cluimhreach chomh bog le scamall.']\n",
      " > Processing time: 2.957944869995117\n",
      " > Real-time factor: 0.1830123809806061\n",
      " > Text splitted to sentences.\n",
      "['Bhí loch ag mo sheanmháthair,', 'Áit ina raibh na lachain ag snámh,', 'Le héadain bhána geal,', 'Is cluimhreach chomh bog le scamall.']\n",
      " > Processing time: 3.0347492694854736\n",
      " > Real-time factor: 0.18175853268186304\n",
      " > Text splitted to sentences.\n",
      "['Bhí loch ag mo sheanmháthair,', 'Áit ina raibh na lachain ag snámh,', 'Le héadain bhána geal,', 'Is cluimhreach chomh bog le scamall.']\n",
      " > Processing time: 2.9352593421936035\n",
      " > Real-time factor: 0.18520072708362603\n",
      " > Text splitted to sentences.\n",
      "['Bhí loch ag mo sheanmháthair,', 'Áit ina raibh na lachain ag snámh,', 'Le héadain bhána geal,', 'Is cluimhreach chomh bog le scamall.']\n",
      " > Processing time: 2.577223539352417\n",
      " > Real-time factor: 0.17672087721017266\n",
      " > Text splitted to sentences.\n",
      "['Bhí loch ag mo sheanmháthair,', 'Áit ina raibh na lachain ag snámh,', 'Le héadain bhána geal,', 'Is cluimhreach chomh bog le scamall.']\n",
      " > Processing time: 2.0442323684692383\n",
      " > Real-time factor: 0.1673522474038653\n",
      " > Text splitted to sentences.\n",
      "['Bhí loch ag mo sheanmháthair,', 'Áit ina raibh na lachain ag snámh,', 'Le héadain bhána geal,', 'Is cluimhreach chomh bog le scamall.']\n",
      " > Processing time: 2.1511070728302\n",
      " > Real-time factor: 0.17610160596080074\n",
      " > Text splitted to sentences.\n",
      "['Bhí loch ag mo sheanmháthair,', 'Áit ina raibh na lachain ag snámh,', 'Le héadain bhána geal,', 'Is cluimhreach chomh bog le scamall.']\n",
      " > Processing time: 3.3353586196899414\n",
      " > Real-time factor: 0.19621536317596688\n",
      " > Text splitted to sentences.\n",
      "['Bhí loch ag mo sheanmháthair,', 'Áit ina raibh na lachain ag snámh,', 'Le héadain bhána geal,', 'Is cluimhreach chomh bog le scamall.']\n",
      " > Processing time: 2.4683659076690674\n",
      " > Real-time factor: 0.2020741812110273\n",
      " > Text splitted to sentences.\n",
      "['Bhí loch ag mo sheanmháthair,', 'Áit ina raibh na lachain ag snámh,', 'Le héadain bhána geal,', 'Is cluimhreach chomh bog le scamall.']\n",
      " > Processing time: 3.261687994003296\n",
      " > Real-time factor: 0.19373389219618103\n"
     ]
    }
   ],
   "execution_count": 147
  },
  {
   "metadata": {
    "ExecuteTime": {
     "end_time": "2024-11-03T15:32:00.599420Z",
     "start_time": "2024-11-03T15:32:00.477122Z"
    }
   },
   "cell_type": "code",
   "source": [
    "# load in 10 random reference waveforms\n",
    "import random\n",
    "base_dir = '/media/bramiozo/DATA-FAST/TTS/tts_models/gle/seannos_datasource/clips'\n",
    "ref_wav_files = os.listdir(base_dir)\n",
    "reference_waves = []\n",
    "for ref_wav_file in random.choices(ref_wav_files, k=20):\n",
    "    rate, data = wavfile.read(os.path.join(base_dir, ref_wav_file))\n",
    "    reference_waves.append((rate, data))"
   ],
   "outputs": [],
   "execution_count": 148
  },
  {
   "metadata": {
    "ExecuteTime": {
     "end_time": "2024-11-03T15:32:00.768612Z",
     "start_time": "2024-11-03T15:32:00.650757Z"
    }
   },
   "cell_type": "code",
   "source": [
    "int_files = []\n",
    "for raw_audio_file in files_written:\n",
    "    output_path = raw_audio_file.replace('.wav', '_int16.wav')\n",
    "    sample_rate, data = wavfile.read(raw_audio_file)\n",
    "    \n",
    "    if data.dtype == np.float32 or data.dtype == np.float64:\n",
    "        # Normalize and convert to 16-bit PCM\n",
    "        data_int16 = np.int16(data * 32767)  # Scale floats to 16-bit integer range        \n",
    "        # Save the converted data as a new .wav file\n",
    "        wavfile.write(output_path, sample_rate, data_int16)\n",
    "        int_files.append(output_path)"
   ],
   "outputs": [],
   "execution_count": 149
  },
  {
   "metadata": {
    "ExecuteTime": {
     "end_time": "2024-11-03T14:38:00.138379Z",
     "start_time": "2024-11-03T14:37:16.233279Z"
    }
   },
   "cell_type": "code",
   "source": [
    "for raw_audio_file in int_files:\n",
    "    rate, data = wavfile.read(raw_audio_file)\n",
    "    reduced_noise = nr.reduce_noise(y=data, sr=rate, n_fft=4096, win_length=4096, hop_length=512)\n",
    "    raw_audio_file_denoised = raw_audio_file.replace('.wav', '_denoised.wav')    \n",
    "    wavfile.write(raw_audio_file_denoised, rate, reduced_noise)\n",
    "\n",
    "for raw_audio_file in int_files:\n",
    "    rate, data = wavfile.read(raw_audio_file)\n",
    "    reduced_noise = nr.reduce_noise(y=data, sr=rate, n_fft=2048, win_length=2048, hop_length=256)\n",
    "    raw_audio_file_denoised = raw_audio_file.replace('.wav', '_denoised2.wav')    \n",
    "    wavfile.write(raw_audio_file_denoised, rate, reduced_noise)\n",
    "    \n",
    "for raw_audio_file in int_files:\n",
    "    rate, data = wavfile.read(raw_audio_file)\n",
    "    reduced_noise = nr.reduce_noise(y=data, sr=rate, n_fft=2048, win_length=1028, hop_length=256)\n",
    "    raw_audio_file_denoised = raw_audio_file.replace('.wav', '_denoised3.wav')    \n",
    "    wavfile.write(raw_audio_file_denoised, rate, reduced_noise)\n",
    "    \n",
    "for raw_audio_file in int_files:\n",
    "    rate, data = wavfile.read(raw_audio_file)\n",
    "    reduced_noise = nr.reduce_noise(y=data, sr=rate, n_fft=2048, win_length=1028, hop_length=128)\n",
    "    raw_audio_file_denoised = raw_audio_file.replace('.wav', '_denoised4.wav')    \n",
    "    wavfile.write(raw_audio_file_denoised, rate, reduced_noise)"
   ],
   "outputs": [],
   "execution_count": 82
  },
  {
   "metadata": {},
   "cell_type": "markdown",
   "source": ""
  },
  {
   "metadata": {
    "ExecuteTime": {
     "end_time": "2024-11-03T14:38:00.757103Z",
     "start_time": "2024-11-03T14:38:00.189204Z"
    }
   },
   "cell_type": "code",
   "source": [
    "use_mono = False\n",
    "use_noise_reduction = True\n",
    "use_high_pass = True\n",
    "use_low_pass = True\n",
    "use_autotrim = False\n",
    "use_pitcher = False\n",
    "use_resampler = False\n",
    "use_noise_adder = False\n",
    "use_kernel_smoother = True\n",
    "use_special_smoother = True\n",
    "kwargs = {\n",
    "    'noise_freq': 128,\n",
    "    'octave_change': 0.25,\n",
    "    'target_sample_rate': 44_000,\n",
    "    'noise_level': 1e-4,\n",
    "    'smoothing_kernel': (1,1,1),\n",
    "    'window_length': 33,\n",
    "    'poly_order': 3,\n",
    "    'kernel_type': 'savgol_filter' # \n",
    "}\n",
    "\n",
    "for raw_audio_file in int_files:\n",
    "    output_path = raw_audio_file.replace('.wav', '_postprocessed.wav')\n",
    "    audio_segment = AudioSegment.from_wav(raw_audio_file)\n",
    "    processed_audio = preprocessing.process_audio(audio_segment,\n",
    "                                    use_noise_reduction,\n",
    "                                    use_high_pass,\n",
    "                                    use_low_pass,\n",
    "                                    use_autotrim,\n",
    "                                    use_pitcher,\n",
    "                                    use_mono,\n",
    "                                    use_resampler,\n",
    "                                    use_noise_adder,\n",
    "                                    use_kernel_smoother,\n",
    "                                    use_special_smoother,\n",
    "                                    **kwargs\n",
    "                                    )\n",
    "    processed_audio.export(output_path, format=\"wav\")\n",
    "    print(f\"Saved processed audio to {output_path}\")"
   ],
   "outputs": [
    {
     "name": "stdout",
     "output_type": "stream",
     "text": [
      "Saved processed audio to ../artifacts/RAW_irish_finetuned_speakerMCV_e4da3b7fbbce2345d7772b0674a318d5_int16_postprocessed.wav\n",
      "Saved processed audio to ../artifacts/RAW_irish_finetuned_speakerMCV_d3d9446802a44259755d38e6d163e820_int16_postprocessed.wav\n",
      "Saved processed audio to ../artifacts/RAW_irish_finetuned_speakerMCV_3c59dc048e8850243be8079a5c74d079_int16_postprocessed.wav\n",
      "Saved processed audio to ../artifacts/RAW_irish_finetuned_speakerMCV_8e296a067a37563370ded05f5a3bf3ec_int16_postprocessed.wav\n",
      "Saved processed audio to ../artifacts/RAW_irish_finetuned_speakerMCV_4e732ced3463d06de0ca9a15b6153677_int16_postprocessed.wav\n",
      "Saved processed audio to ../artifacts/RAW_irish_finetuned_speakerMCV_fbb1a0cf39f11efcc031d950dabb052e_int16_postprocessed.wav\n",
      "Saved processed audio to ../artifacts/RAW_irish_finetuned_speakerMCV_f289a00eda27794bd63b377387375254_int16_postprocessed.wav\n",
      "Saved processed audio to ../artifacts/RAW_irish_finetuned_speakerMCV_e44c6be17899cf79fdc1997268b5366d_int16_postprocessed.wav\n",
      "Saved processed audio to ../artifacts/RAW_irish_finetuned_speakerMCV_fbb1a0cf39f11efcc031d950dabb052e_int16_postprocessed.wav\n",
      "Saved processed audio to ../artifacts/RAW_irish_finetuned_speakerMCV_8f14e45fceea167a5a36dedd4bea2543_int16_postprocessed.wav\n"
     ]
    }
   ],
   "execution_count": 83
  },
  {
   "metadata": {
    "ExecuteTime": {
     "end_time": "2024-11-03T15:35:56.280068Z",
     "start_time": "2024-11-03T15:35:48.941754Z"
    }
   },
   "cell_type": "code",
   "source": [
    "plt.figure(figsize=(10, 6))\n",
    "for raw_audio_file in int_files:\n",
    "    rate, data = wavfile.read(raw_audio_file)\n",
    "    frequencies, psd = welch(data, fs=rate, nperseg=1024)   \n",
    "    plt.semilogy(frequencies, psd)\n",
    "    plt.title('Power Spectral Density (PSD), synthetic material')\n",
    "    plt.xlabel('Frequency [Hz]')\n",
    "    plt.ylabel('Power/Frequency [dB/Hz]')\n",
    "    plt.grid()\n",
    "    plt.xlim(0,20_000)\n",
    "plt.show()"
   ],
   "outputs": [],
   "execution_count": 157
  },
  {
   "metadata": {
    "ExecuteTime": {
     "end_time": "2024-11-03T15:35:21.784794Z",
     "start_time": "2024-11-03T15:35:16.678026Z"
    }
   },
   "cell_type": "code",
   "source": [
    "plt.figure(figsize=(10, 6))\n",
    "for sr, waveform in reference_waves:\n",
    "    frequencies, psd = welch(waveform, fs=44_000, nperseg=1024)   \n",
    "    plt.semilogy(frequencies, psd)\n",
    "    plt.title('Power Spectral Density (PSD), source material')\n",
    "    plt.xlabel('Frequency [Hz]')\n",
    "    plt.ylabel('Power/Frequency [dB/Hz]')\n",
    "    plt.grid()\n",
    "    plt.xlim(0,20_000)\n",
    "plt.show()"
   ],
   "outputs": [],
   "execution_count": 154
  },
  {
   "metadata": {
    "ExecuteTime": {
     "end_time": "2024-11-03T15:19:58.555871Z",
     "start_time": "2024-11-03T15:19:58.452371Z"
    }
   },
   "cell_type": "code",
   "source": [
    "def repeated_filtering(data, \n",
    "                       filter_freqs=[2330, 2750, 3350, 4350], \n",
    "                       Qs=[50,50,70,70],\n",
    "                       fs=44_000):\n",
    "    assert(len(filter_freqs) == len(Qs)), \"You need as many Qs as Freqs\"\n",
    "    \n",
    "    filtered_wav = data.copy()\n",
    "    for freq,Q in zip(filter_freqs,Qs):\n",
    "        b,a = iirnotch(freq, Q, fs)\n",
    "        filtered_wav = filtfilt(b, a, filtered_wav)\n",
    "    return filtered_wav\n",
    "\n",
    "def repeated_filtering_sos(data, \n",
    "                       filter_freqs=[2330, 2750, 3350, 4350], \n",
    "                       Rs=[50, 50, 50, 50],\n",
    "                       order=4,\n",
    "                       fs=44_000):\n",
    "    assert(len(filter_freqs) == len(Rs)), \"You need as many Qs as Freqs\"\n",
    "    \n",
    "    filtered_wav = data.copy()\n",
    "    for freq,R in zip(filter_freqs,Rs):\n",
    "        f_low, f_high = freq-R, freq+R \n",
    "        sos = butter(order, [f_low, f_high], btype='bandstop', fs=fs, output='sos')\n",
    "        filtered_wav = sosfilt(sos, filtered_wav)\n",
    "    return filtered_wav"
   ],
   "outputs": [],
   "execution_count": 122
  },
  {
   "metadata": {
    "ExecuteTime": {
     "end_time": "2024-11-03T15:42:37.857702Z",
     "start_time": "2024-11-03T15:42:33.709314Z"
    }
   },
   "cell_type": "code",
   "source": [
    "kwargs = {\n",
    "    'filter_freqs' :[2350],# , 2750, 3120, 4340],\n",
    "    'Qs' : [120], #,80,100,100],\n",
    "    'fs' : 44_000\n",
    "}\n",
    "plt.figure(figsize=(10, 6))\n",
    "for raw_audio_file in int_files:\n",
    "    rate, data = wavfile.read(raw_audio_file)\n",
    "    filtered_waveform = repeated_filtering(data, **kwargs)\n",
    "    \n",
    "    raw_audio_file_denoised = raw_audio_file.replace('.wav', '_denoised_notch.wav')    \n",
    "    wavfile.write(raw_audio_file_denoised, rate, filtered_waveform)\n",
    "\n",
    "    frequencies, psd = welch(filtered_waveform, fs=rate, nperseg=1024)  \n",
    "    plt.semilogy(frequencies, psd)\n",
    "    plt.title('Power Spectral Density (PSD)')\n",
    "    plt.xlabel('Frequency [Hz]')\n",
    "    plt.ylabel('Power/Frequency [dB/Hz]')\n",
    "    plt.grid()\n",
    "    plt.xlim(0,20_000)\n",
    "plt.axhline(y=480, color='k')\n",
    "plt.show()"
   ],
   "outputs": [],
   "execution_count": 169
  },
  {
   "metadata": {
    "ExecuteTime": {
     "end_time": "2024-11-03T15:39:55.337860Z",
     "start_time": "2024-11-03T15:39:50.670567Z"
    }
   },
   "cell_type": "code",
   "source": [
    "kwargs = {\n",
    "    'filter_freqs' :[2350, 2750, 3120, 4340],\n",
    "    'Rs' : [50,50,50,50],\n",
    "    'fs' : 44_000,\n",
    "    'order': 4\n",
    "}\n",
    "plt.figure(figsize=(10, 6))\n",
    "for raw_audio_file in int_files:\n",
    "    rate, data = wavfile.read(raw_audio_file)\n",
    "    filtered_waveform = repeated_filtering_sos(data, **kwargs)\n",
    "    frequencies, psd = welch(filtered_waveform, fs=rate, nperseg=1024)   \n",
    "    \n",
    "    raw_audio_file_denoised = raw_audio_file.replace('.wav', '_denoised_butter.wav')    \n",
    "    wavfile.write(raw_audio_file_denoised, rate, filtered_waveform)\n",
    "    \n",
    "    plt.semilogy(frequencies, psd)\n",
    "    plt.title('Power Spectral Density (PSD)')\n",
    "    plt.xlabel('Frequency [Hz]')\n",
    "    plt.ylabel('Power/Frequency [dB/Hz]')\n",
    "    plt.grid()\n",
    "    plt.xlim(0,20_000)\n",
    "    \n",
    "plt.axhline(y=480, color='k')\n",
    "plt.show()"
   ],
   "outputs": [],
   "execution_count": 164
  },
  {
   "metadata": {},
   "cell_type": "code",
   "outputs": [],
   "execution_count": null,
   "source": ""
  }
 ],
 "metadata": {
  "kernelspec": {
   "display_name": "Python 3 (ipykernel)",
   "language": "python",
   "name": "python3"
  },
  "language_info": {
   "codemirror_mode": {
    "name": "ipython",
    "version": 3
   },
   "file_extension": ".py",
   "mimetype": "text/x-python",
   "name": "python",
   "nbconvert_exporter": "python",
   "pygments_lexer": "ipython3",
   "version": "3.10.14"
  }
 },
 "nbformat": 4,
 "nbformat_minor": 4
}
