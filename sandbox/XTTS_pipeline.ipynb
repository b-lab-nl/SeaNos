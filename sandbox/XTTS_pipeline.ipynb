{
 "cells": [
  {
   "cell_type": "code",
   "metadata": {},
   "source": [
    "import os\n",
    "import torch\n",
    "import transformers\n",
    "from TTS.api import TTS # only in v0.22\n",
    "from TTS.tts.models.vits import Vits\n",
    "from TTS.tts.models.xtts import Xtts\n",
    "\n",
    "from TTS.tts.configs.xtts_config import XttsConfig\n",
    "from TTS.tts.configs.vits_config import VitsConfig\n",
    "\n",
    "from TTS.tts.utils.synthesis import synthesis\n",
    "from TTS.utils.audio import AudioProcessor\n",
    "from TTS.tts.utils.text.tokenizer import TTSTokenizer\n",
    "\n",
    "from neon_tts_plugin_coqui import CoquiTTS as neonTTS\n",
    "from IPython.display import Audio\n",
    "from scipy.io import wavfile\n",
    "import numpy as np\n",
    "\n",
    "import matplotlib.pyplot as plt\n",
    "import random\n",
    "\n",
    "import librosa\n",
    "import soundfile as sf\n",
    "\n",
    "from pydub import AudioSegment"
   ],
   "outputs": [],
   "execution_count": null
  },
  {
   "metadata": {},
   "cell_type": "code",
   "source": [
    "def generate_and_save_melspec(mel_spectrogram, sampling_rate, output_path=\"../artifacts/melgram.png\"):\n",
    "    # Generate mel spectrogram\n",
    "    print(f\"Mel spectrogram shape: {mel_spectrogram.shape}\")\n",
    "    print(f\"Sampling rate: {sampling_rate}\")\n",
    "\n",
    "    # Save mel spectrogram as numpy array\n",
    "    np.save(output_path + \".npy\", mel_spectrogram)\n",
    "    print(f\"Mel spectrogram saved to {output_path}.npy\")\n",
    "\n",
    "    # Optionally, visualize and save the mel spectrogram as an image\n",
    "    plt.figure(figsize=(10, 4))\n",
    "    plt.imshow(mel_spectrogram, aspect='auto', origin='lower')\n",
    "    plt.colorbar()\n",
    "    plt.title('Mel Spectrogram')\n",
    "    plt.tight_layout()\n",
    "    plt.savefig(output_path + \".png\")\n",
    "    print(f\"Mel spectrogram visualization saved to {output_path}.png\")\n"
   ],
   "outputs": [],
   "execution_count": null
  },
  {
   "metadata": {},
   "cell_type": "markdown",
   "source": "# Vocoder test"
  },
  {
   "metadata": {
    "ExecuteTime": {
     "end_time": "2024-07-25T19:03:13.593494Z",
     "start_time": "2024-07-25T19:03:13.582684Z"
    }
   },
   "cell_type": "code",
   "source": [
    "def apply_vocoder(synthesizer, mel_spectrogram, output_path=\"../artifacts/vocoder.wav\"):\n",
    "    # Convert to tensor if it's not already\n",
    "    if not isinstance(mel_spectrogram, torch.Tensor):\n",
    "        mel_spectrogram = torch.FloatTensor(mel_spectrogram)\n",
    "\n",
    "    # Ensure mel_spectrogram is the right shape (add batch dimension if needed)\n",
    "    if mel_spectrogram.dim() == 2:\n",
    "        mel_spectrogram = mel_spectrogram.unsqueeze(0)\n",
    "\n",
    "    # Move to the same device as the vocoder (CUDA in this case)\n",
    "    mel_spectrogram = mel_spectrogram.cuda()\n",
    "\n",
    "    # Generate waveform\n",
    "    with torch.no_grad():\n",
    "        waveform = synthesizer.vocoder_model(mel_spectrogram)\n",
    "\n",
    "    # Convert to numpy array\n",
    "    waveform = waveform.cpu().numpy().squeeze()\n",
    "\n",
    "    # Normalize audio to [-1, 1] range\n",
    "    waveform = waveform / np.max(np.abs(waveform))\n",
    "\n",
    "    # Get the sampling rate from the synthesizer\n",
    "    sample_rate = synthesizer.vocoder_model.config.audio.sample_rate\n",
    "    if sample_rate is None:\n",
    "        # Fallback to a common sample rate if not found in config\n",
    "        sample_rate = 22050\n",
    "        print(f\"Warning: Sample rate not found in vocoder config. Using default: {sample_rate}\")\n",
    "\n",
    "\n",
    "    # Save as wav file\n",
    "    sf.write(output_path, waveform, sample_rate)\n",
    "    print(f\"Audio saved to {output_path}\")\n",
    "\n",
    "    return waveform, sample_rate"
   ],
   "outputs": [],
   "execution_count": 81
  },
  {
   "metadata": {},
   "cell_type": "markdown",
   "source": ""
  },
  {
   "metadata": {},
   "cell_type": "code",
   "source": "from TTS.utils.synthesizer import Synthesizer",
   "outputs": [],
   "execution_count": null
  },
  {
   "metadata": {},
   "cell_type": "code",
   "source": "vocoder_path = \"/media/bramiozo/DATA-FAST/TTS/tts_models/gle/hifigan_vocoder_seanos\"",
   "outputs": [],
   "execution_count": null
  },
  {
   "metadata": {},
   "cell_type": "code",
   "source": [
    "synthesizer = Synthesizer()\n",
    "synthesizer._load_vocoder(model_file=os.path.join(vocoder_path, \"model_file.pth.tar\"), \n",
    "                          model_config=os.path.join(vocoder_path, \"config.json\"), \n",
    "                          use_cuda=True)"
   ],
   "outputs": [],
   "execution_count": null
  },
  {
   "metadata": {
    "ExecuteTime": {
     "end_time": "2024-07-25T19:16:06.148331Z",
     "start_time": "2024-07-25T19:16:03.396032Z"
    }
   },
   "cell_type": "code",
   "source": [
    "tts_path = \"/media/bramiozo/DATA-FAST/TTS/tts_models/gle/tts-vits-cv-ga_seanos\"\n",
    "tts_model = TTS(progress_bar=True,\n",
    "                model_path=os.path.join(tts_path, \"model_file.pth.tar\"),\n",
    "                config_path=os.path.join(tts_path, \"config.json\"))\n",
    "\n",
    "_neonTTS = neonTTS(lang=\"ga\", config={})"
   ],
   "outputs": [
    {
     "name": "stdout",
     "output_type": "stream",
     "text": [
      " > Using model: vits\n",
      " > Setting up Audio Processor...\n",
      " | > sample_rate:44100\n",
      " | > resample:False\n",
      " | > num_mels:80\n",
      " | > log_func:np.log10\n",
      " | > min_level_db:0\n",
      " | > frame_shift_ms:None\n",
      " | > frame_length_ms:None\n",
      " | > ref_level_db:None\n",
      " | > fft_size:1024\n",
      " | > power:None\n",
      " | > preemphasis:0.0\n",
      " | > griffin_lim_iters:None\n",
      " | > signal_norm:None\n",
      " | > symmetric_norm:None\n",
      " | > mel_fmin:0\n",
      " | > mel_fmax:None\n",
      " | > pitch_fmin:None\n",
      " | > pitch_fmax:None\n",
      " | > spec_gain:20.0\n",
      " | > stft_pad_mode:reflect\n",
      " | > max_norm:1.0\n",
      " | > clip_norm:True\n",
      " | > do_trim_silence:False\n",
      " | > trim_db:60\n",
      " | > do_sound_norm:False\n",
      " | > do_amp_to_db_linear:True\n",
      " | > do_amp_to_db_mel:True\n",
      " | > do_rms_norm:False\n",
      " | > db_level:None\n",
      " | > stats_path:None\n",
      " | > base:10\n",
      " | > hop_length:256\n",
      " | > win_length:1024\n",
      " > initialization of speaker-embedding layers.\n",
      " > initialization of language-embedding layers.\n"
     ]
    },
    {
     "name": "stderr",
     "output_type": "stream",
     "text": [
      "/media/bramiozo/Storage1/bramiozo/VIRTUALENVS/Python/seanos-bFLQpzeS-py3.10/lib/python3.10/site-packages/TTS/tts/utils/managers.py:20: FutureWarning: You are using `torch.load` with `weights_only=False` (the current default value), which uses the default pickle module implicitly. It is possible to construct malicious pickle data which will execute arbitrary code during unpickling (See https://github.com/pytorch/pytorch/blob/main/SECURITY.md#untrusted-models for more details). In a future release, the default value for `weights_only` will be flipped to `True`. This limits the functions that could be executed during unpickling. Arbitrary objects will no longer be allowed to be loaded via this mode unless they are explicitly allowlisted by the user via `torch.serialization.add_safe_globals`. We recommend you start setting `weights_only=True` for any use case where you don't have full control of the loaded file. Please open an issue on GitHub for any issues related to this experimental feature.\n",
      "  return torch.load(f, map_location=\"cpu\")\n",
      "/media/bramiozo/Storage1/bramiozo/VIRTUALENVS/Python/seanos-bFLQpzeS-py3.10/lib/python3.10/site-packages/TTS/utils/io.py:54: FutureWarning: You are using `torch.load` with `weights_only=False` (the current default value), which uses the default pickle module implicitly. It is possible to construct malicious pickle data which will execute arbitrary code during unpickling (See https://github.com/pytorch/pytorch/blob/main/SECURITY.md#untrusted-models for more details). In a future release, the default value for `weights_only` will be flipped to `True`. This limits the functions that could be executed during unpickling. Arbitrary objects will no longer be allowed to be loaded via this mode unless they are explicitly allowlisted by the user via `torch.serialization.add_safe_globals`. We recommend you start setting `weights_only=True` for any use case where you don't have full control of the loaded file. Please open an issue on GitHub for any issues related to this experimental feature.\n",
      "  return torch.load(f, map_location=map_location, **kwargs)\n"
     ]
    },
    {
     "name": "stdout",
     "output_type": "stream",
     "text": [
      "2024-07-25 21:16:05.313 - OVOS - ovos_plugin_manager.utils:load_plugin:155 - WARNING - Could not find the plugin ovos.plugin.g2p.ovos-g2p-plugin-heuristic-arpa\n",
      "2024-07-25 21:16:05.334 - OVOS - ovos_plugin_manager.g2p:create:142 - ERROR - The selected G2P plugin could not be loaded.\n",
      "Traceback (most recent call last):\n",
      "  File \"/media/bramiozo/Storage1/bramiozo/VIRTUALENVS/Python/seanos-bFLQpzeS-py3.10/lib/python3.10/site-packages/ovos_plugin_manager/g2p.py\", line 139, in create\n",
      "    g2p = clazz(g2p_config)\n",
      "TypeError: 'NoneType' object is not callable\n",
      "2024-07-25 21:16:05.354 - OVOS - ovos_plugin_manager.templates.tts:__init__:205 - ERROR - G2P plugin not loaded, there will be no mouth movements\n",
      "Traceback (most recent call last):\n",
      "  File \"/media/bramiozo/Storage1/bramiozo/VIRTUALENVS/Python/seanos-bFLQpzeS-py3.10/lib/python3.10/site-packages/ovos_plugin_manager/templates/tts.py\", line 203, in __init__\n",
      "    self.g2p = OVOSG2PFactory.create(cfg)\n",
      "  File \"/media/bramiozo/Storage1/bramiozo/VIRTUALENVS/Python/seanos-bFLQpzeS-py3.10/lib/python3.10/site-packages/ovos_plugin_manager/g2p.py\", line 139, in create\n",
      "    g2p = clazz(g2p_config)\n",
      "TypeError: 'NoneType' object is not callable\n",
      "2024-07-25 21:16:05.482 - OVOS - neon_tts_plugin_coqui:_init_model:187 - INFO - Initializing model for: ga\n"
     ]
    }
   ],
   "execution_count": 99
  },
  {
   "cell_type": "code",
   "metadata": {},
   "source": [
    "irish_lyrics = \"\"\"\n",
    "Bhí loch ag mo sheanmháthair,\n",
    "Áit ina raibh na lachain ag snámh,\n",
    "Le héadain bhána geal,\n",
    "Is cluimhreach chomh bog le scamall.\n",
    "\n",
    "Ó, a lachain álainn, a sheod,\n",
    "Le do ghlór binn i gconaí ag glaoch,\n",
    "I do loch ghlé geal,\n",
    "Agus tú chomh saor le gaoth.\n",
    "\n",
    "Sa mhaidin chiúin go moch,\n",
    "Bhí an lacha ag éirí as a suan,\n",
    "Le heireabaill ag crith,\n",
    "Is a sciatháin ag sracadh an uisce.\n",
    "\n",
    "Ó, a lachain álainn, a sheod,\n",
    "Le do ghlór binn i gconaí ag glaoch,\n",
    "I do loch ghlé geal,\n",
    "Agus tú chomh saor le gaoth.\n",
    "\n",
    "Nuair a tháinig an tráthnóna,\n",
    "Bhí na lachain fós ann,\n",
    "Le spraoi is súgradh leo,\n",
    "Agus an ghrian ag dul faoi chiúin.\n",
    "\n",
    "Ó, a lachain álainn, a sheod,\n",
    "Le do ghlór binn i gconaí ag glaoch,\n",
    "I do loch ghlé geal,\n",
    "Agus tú chomh saor le gaoth.\n",
    "\n",
    "Anois tá cuimhne agam ort,\n",
    "A lachain mo sheanmháthar,\n",
    "Áit álainn ar domhan,\n",
    "Nach n-imeoidh uaim go bráth.\n",
    "\n",
    "Ó, a lachain álainn, a sheod,\n",
    "Le do ghlór binn i gconaí ag glaoch,\n",
    "I do loch ghlé geal,\n",
    "Agus tú chomh saor le gaoth\n",
    "\"\"\"\n",
    "\n",
    "dutch_lyrics = \"\"\"\n",
    "Zooals ik eenmaal beminde,\n",
    "Zoo minde er op aarde nooit een,\n",
    "Maar 'k vond, tot wien ik mij wendde,\n",
    "Slechts harten van ijs en van steen.\n",
    "\n",
    "Toen stierf mijn geloof aan de vriendschap,\n",
    "Mijn hoop en mijn liefde verdween,\n",
    "En zooals mijn hart toen haatte,\n",
    "Zoo haatte er op aarde nooit een.\n",
    "\n",
    "En sombere, bittere liederen\n",
    "Zijn aan mijn lippen ontgleên;\n",
    "Zoo somber en bitter als ik zong,\n",
    "Zoo zong er op aarde nooit een.\n",
    "\n",
    "Verveeld heeft mij eindlijk dat haten,\n",
    "Dat eeuwig gezang en geween,\n",
    "Ik zweeg, en zooals ik nu zwijg,\n",
    "Zoo zweeg er op aarde nooit een.\n",
    "\"\"\""
   ],
   "outputs": [],
   "execution_count": null
  },
  {
   "metadata": {
    "ExecuteTime": {
     "end_time": "2024-07-25T19:23:21.060820Z",
     "start_time": "2024-07-25T19:23:07.546289Z"
    }
   },
   "cell_type": "code",
   "source": [
    "# randomly select from speaker list \n",
    "speaker_id = random.choice(tts_model.speakers)\n",
    "print(speaker_id)\n",
    "\n",
    "synth = tts_model.synthesizer\n",
    "sampling_rate = synth.output_sample_rate\n",
    "\n",
    "irish_waveform = synth.tts(irish_lyrics, speaker_name=speaker_id)\n",
    "irish_waveform = np.array(irish_waveform)\n",
    "irish_waveform = np.squeeze(irish_waveform)"
   ],
   "outputs": [
    {
     "name": "stdout",
     "output_type": "stream",
     "text": [
      "MCV_d2514d88494807647e1a8b612bcfb207\n",
      " > Text splitted to sentences.\n",
      "['Bhí loch ag mo sheanmháthair,', 'Áit ina raibh na lachain ag snámh,', 'Le héadain bhána geal,', 'Is cluimhreach chomh bog le scamall.', 'Ó, a lachain álainn, a sheod,', 'Le do ghlór binn i gconaí ag glaoch,', 'I do loch ghlé geal,', 'Agus tú chomh saor le gaoth.', 'Sa mhaidin chiúin go moch,', 'Bhí an lacha ag éirí as a suan,', 'Le heireabaill ag crith,', 'Is a sciatháin ag sracadh an uisce.', 'Ó, a lachain álainn, a sheod,', 'Le do ghlór binn i gconaí ag glaoch,', 'I do loch ghlé geal,', 'Agus tú chomh saor le gaoth.', 'Nuair a tháinig an tráthnóna,', 'Bhí na lachain fós ann,', 'Le spraoi is súgradh leo,', 'Agus an ghrian ag dul faoi chiúin.', 'Ó, a lachain álainn, a sheod,', 'Le do ghlór binn i gconaí ag glaoch,', 'I do loch ghlé geal,', 'Agus tú chomh saor le gaoth.', 'Anois tá cuimhne agam ort,', 'A lachain mo sheanmháthar,', 'Áit álainn ar domhan,', 'Nach n-imeoidh uaim go bráth.', 'Ó, a lachain álainn, a sheod,', 'Le do ghlór binn i gconaí ag glaoch,', 'I do loch ghlé geal,', 'Agus tú chomh saor le gaoth']\n",
      " > Processing time: 12.866377115249634\n",
      " > Real-time factor: 0.13153913918363058\n"
     ]
    }
   ],
   "execution_count": 125
  },
  {
   "metadata": {
    "ExecuteTime": {
     "end_time": "2024-07-25T19:23:21.476526Z",
     "start_time": "2024-07-25T19:23:21.063750Z"
    }
   },
   "cell_type": "code",
   "source": [
    "mel_spectrogram = librosa.feature.melspectrogram(\n",
    "    y=irish_waveform, \n",
    "    sr=sampling_rate,\n",
    "    n_mels=80,  # You may need to adjust this based on your model's config\n",
    "    n_fft=1024,  # You may need to adjust this\n",
    "    hop_length=256  # You may need to adjust this\n",
    ")\n",
    "# Convert to log scale\n",
    "mel_spectrogram = librosa.power_to_db(mel_spectrogram, ref=np.max)\n",
    "print(f\"Mel spectrogram shape: {mel_spectrogram.shape}\")"
   ],
   "outputs": [
    {
     "name": "stdout",
     "output_type": "stream",
     "text": [
      "Mel spectrogram shape: (80, 16851)\n"
     ]
    }
   ],
   "execution_count": 126
  },
  {
   "metadata": {
    "ExecuteTime": {
     "end_time": "2024-07-25T19:23:21.488913Z",
     "start_time": "2024-07-25T19:23:21.479930Z"
    }
   },
   "cell_type": "code",
   "source": "#generate_and_save_melspec(mel_spectrogram, sampling_rate)",
   "outputs": [],
   "execution_count": 127
  },
  {
   "metadata": {
    "ExecuteTime": {
     "end_time": "2024-07-25T19:23:21.545831Z",
     "start_time": "2024-07-25T19:23:21.496256Z"
    }
   },
   "cell_type": "code",
   "source": [
    "# irish_waveform as the original\n",
    "wavfile.write(f\"../artifacts/test_irish_finetuned_speaker{speaker_id}.wav\", rate=sampling_rate, data=irish_waveform)\n",
    "\n",
    "# transformed_waveform\n",
    "#new_wav, sample_rate = apply_vocoder(synthesizer, mel_spectrogram, output_path=f\"../artifacts/vocoder_speaker{speaker_id}.wav\")"
   ],
   "outputs": [],
   "execution_count": 128
  },
  {
   "metadata": {},
   "cell_type": "code",
   "outputs": [],
   "execution_count": null,
   "source": [
    "result = _neonTTS.get_tts(irish_lyrics,\n",
    "                         \"../artifacts/test_irish_original.wav\",\n",
    "                          speaker={\n",
    "                              \"language\": \"ga\"\n",
    "                          })"
   ]
  },
  {
   "cell_type": "markdown",
   "metadata": {},
   "source": [
    "# XTTS API v0.22.0"
   ]
  },
  {
   "cell_type": "code",
   "metadata": {},
   "source": [
    "MODEL_PATH = \"/media/koekiemonster/DATA-FAST/TTS/tts_models/multilingual/multi-dataset/XTTS-v2\"\n",
    "CONFIG_PATH = \"/media/koekiemonster/DATA-FAST/TTS/tts_models/multilingual/multi-dataset/XTTS-v2/config.json\"\n",
    "\n",
    "_tts = TTS(progress_bar=True,\n",
    "            model_path=MODEL_PATH,\n",
    "            config_path=CONFIG_PATH)\n",
    "_tts.to('gpu')\n",
    "_tts.tts_to_file(text=dutch_lyrics, \n",
    "                 language=\"nl\", \n",
    "                 speaker_wav=\"../assets/english_bram.wav\", \n",
    "                 file_path=\"../artifacts/test_dutch.wav\")"
   ],
   "outputs": [],
   "execution_count": null
  },
  {
   "cell_type": "markdown",
   "metadata": {},
   "source": [
    "## Direct ViTS"
   ]
  },
  {
   "cell_type": "code",
   "metadata": {},
   "source": [
    "MODEL_PATH = \"/media/bramiozo/DATA-FAST/TTS/tts_models/multilingual/multi-dataset/tts-vits-cv-ga\"\n",
    "CONFIG_PATH = \"/media/bramiozo/DATA-FAST/TTS/tts_models/multilingual/multi-dataset/tts-vits-cv-ga/config.json\"\n",
    "\n",
    "config = VitsConfig()\n",
    "config.load_json(CONFIG_PATH)\n",
    "ap = AudioProcessor.init_from_config(config)\n",
    "tokenizer, config = TTSTokenizer.init_from_config(config)\n",
    "model = Vits.init_from_config(config)\n",
    "model.load_checkpoint(config, \n",
    "                      checkpoint_path=os.path.join(MODEL_PATH,\"model_file.pth.tar\"), \n",
    "                      eval=True, \n",
    "                      strict=False, \n",
    "                      cache=False)\n",
    "model.ap=ap\n",
    "model.tokenizer=tokenizer\n",
    "model.cuda()\n"
   ],
   "outputs": [],
   "execution_count": null
  },
  {
   "cell_type": "code",
   "metadata": {},
   "source": [
    "wav, alignment, _, _ = synthesis(\n",
    "    model,\n",
    "    irish_lyrics,\n",
    "    config,\n",
    "    style_wav=\"../assets/english_bram.wav\",\n",
    "    use_cuda=True\n",
    ").values()\n",
    "\n",
    "# Save the output waveform\n",
    "ap.save_wav(wav, \"../artifacts/test_irish.wav\")"
   ],
   "outputs": [],
   "execution_count": null
  },
  {
   "metadata": {
    "ExecuteTime": {
     "end_time": "2024-07-25T19:10:35.865221Z",
     "start_time": "2024-07-25T19:10:29.667595Z"
    }
   },
   "cell_type": "code",
   "source": [
    "result = _neonTTS.get_tts(irish_lyrics,\n",
    "                         \"../artifacts/test_irish_original.wav\",\n",
    "                          speaker={\n",
    "                              \"language\": \"ga\"\n",
    "                          })"
   ],
   "outputs": [
    {
     "name": "stdout",
     "output_type": "stream",
     "text": [
      " > Text splitted to sentences.\n",
      "['Bhí loch ag mo sheanmháthair,', 'Áit ina raibh na lachain ag snámh,', 'Le héadain bhána geal,', 'Is cluimhreach chomh bog le scamall.', 'Ó, a lachain álainn, a sheod,', 'Le do ghlór binn i gconaí ag glaoch,', 'I do loch ghlé geal,', 'Agus tú chomh saor le gaoth.', 'Sa mhaidin chiúin go moch,', 'Bhí an lacha ag éirí as a suan,', 'Le heireabaill ag crith,', 'Is a sciatháin ag sracadh an uisce.', 'Ó, a lachain álainn, a sheod,', 'Le do ghlór binn i gconaí ag glaoch,', 'I do loch ghlé geal,', 'Agus tú chomh saor le gaoth.', 'Nuair a tháinig an tráthnóna,', 'Bhí na lachain fós ann,', 'Le spraoi is súgradh leo,', 'Agus an ghrian ag dul faoi chiúin.', 'Ó, a lachain álainn, a sheod,', 'Le do ghlór binn i gconaí ag glaoch,', 'I do loch ghlé geal,', 'Agus tú chomh saor le gaoth.', 'Anois tá cuimhne agam ort,', 'A lachain mo sheanmháthar,', 'Áit álainn ar domhan,', 'Nach n-imeoidh uaim go bráth.', 'Ó, a lachain álainn, a sheod,', 'Le do ghlór binn i gconaí ag glaoch,', 'I do loch ghlé geal,', 'Agus tú chomh saor le gaoth']\n",
      " > Processing time: 5.285813808441162\n",
      " > Real-time factor: 0.0802400440028857\n"
     ]
    }
   ],
   "execution_count": 93
  },
  {
   "metadata": {
    "ExecuteTime": {
     "end_time": "2024-07-25T19:10:42.794510Z",
     "start_time": "2024-07-25T19:10:38.508352Z"
    }
   },
   "cell_type": "code",
   "source": "wavresult = _neonTTS.get_audio(irish_lyrics,  audio_format=\"ipython\")",
   "outputs": [
    {
     "name": "stdout",
     "output_type": "stream",
     "text": [
      " > Text splitted to sentences.\n",
      "['Bhí loch ag mo sheanmháthair,', 'Áit ina raibh na lachain ag snámh,', 'Le héadain bhána geal,', 'Is cluimhreach chomh bog le scamall.', 'Ó, a lachain álainn, a sheod,', 'Le do ghlór binn i gconaí ag glaoch,', 'I do loch ghlé geal,', 'Agus tú chomh saor le gaoth.', 'Sa mhaidin chiúin go moch,', 'Bhí an lacha ag éirí as a suan,', 'Le heireabaill ag crith,', 'Is a sciatháin ag sracadh an uisce.', 'Ó, a lachain álainn, a sheod,', 'Le do ghlór binn i gconaí ag glaoch,', 'I do loch ghlé geal,', 'Agus tú chomh saor le gaoth.', 'Nuair a tháinig an tráthnóna,', 'Bhí na lachain fós ann,', 'Le spraoi is súgradh leo,', 'Agus an ghrian ag dul faoi chiúin.', 'Ó, a lachain álainn, a sheod,', 'Le do ghlór binn i gconaí ag glaoch,', 'I do loch ghlé geal,', 'Agus tú chomh saor le gaoth.', 'Anois tá cuimhne agam ort,', 'A lachain mo sheanmháthar,', 'Áit álainn ar domhan,', 'Nach n-imeoidh uaim go bráth.', 'Ó, a lachain álainn, a sheod,', 'Le do ghlór binn i gconaí ag glaoch,', 'I do loch ghlé geal,', 'Agus tú chomh saor le gaoth']\n",
      " > Processing time: 3.7614426612854004\n",
      " > Real-time factor: 0.0570996890155087\n"
     ]
    }
   ],
   "execution_count": 94
  },
  {
   "metadata": {
    "ExecuteTime": {
     "end_time": "2024-07-25T19:10:43.720655Z",
     "start_time": "2024-07-25T19:10:43.486547Z"
    }
   },
   "cell_type": "code",
   "source": "wavfile.write(\"../artifacts/test_irish.wav\", rate=wavresult['rate'], data=np.array(wavresult['data']))",
   "outputs": [],
   "execution_count": 95
  },
  {
   "metadata": {},
   "cell_type": "code",
   "source": [
    " # useful to know if we want to apply our custom finetuned model \n",
    " #model_path = _neonTTS._download_huggingface('neongeckocom/tts-vits-cv-ga')"
   ],
   "outputs": [],
   "execution_count": null
  },
  {
   "metadata": {},
   "cell_type": "code",
   "source": "Audio(np.array(wavresult['data']), rate=wavresult['rate'], normalize=False, autoplay=True)",
   "outputs": [],
   "execution_count": null
  },
  {
   "metadata": {},
   "cell_type": "code",
   "source": "song_to_edit = AudioSegment.from_file('../artifacts/test_irish_reencoded.wav', format='wav')\n",
   "outputs": [],
   "execution_count": null
  },
  {
   "metadata": {},
   "cell_type": "code",
   "source": [
    "def add_reverb(sound, decay_factor=0.1, delays=[50, 100, 150, 200, 400, 800, 1600, 3200]):\n",
    "    output = sound\n",
    "    for delay in delays:\n",
    "        overlay = sound - (3 * delay)\n",
    "        output = output.overlay(overlay, position=delay)\n",
    "        decay_factor *= decay_factor  # Decay the reverb effect\n",
    "    return output\n"
   ],
   "outputs": [],
   "execution_count": null
  },
  {
   "metadata": {},
   "cell_type": "code",
   "source": [
    "song_edited = add_reverb(song_to_edit)\n",
    "song_edited.export(\"../artifacts/test_reverb.wav\", format=\"wav\")"
   ],
   "outputs": [],
   "execution_count": null
  },
  {
   "metadata": {},
   "cell_type": "code",
   "source": "",
   "outputs": [],
   "execution_count": null
  }
 ],
 "metadata": {
  "kernelspec": {
   "display_name": "Python 3 (ipykernel)",
   "language": "python",
   "name": "python3"
  },
  "language_info": {
   "codemirror_mode": {
    "name": "ipython",
    "version": 3
   },
   "file_extension": ".py",
   "mimetype": "text/x-python",
   "name": "python",
   "nbconvert_exporter": "python",
   "pygments_lexer": "ipython3",
   "version": "3.10.14"
  }
 },
 "nbformat": 4,
 "nbformat_minor": 4
}
