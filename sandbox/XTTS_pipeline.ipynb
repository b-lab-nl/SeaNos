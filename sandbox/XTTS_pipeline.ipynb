{
 "cells": [
  {
   "cell_type": "code",
   "metadata": {
    "ExecuteTime": {
     "end_time": "2024-05-24T13:17:29.320727Z",
     "start_time": "2024-05-24T13:17:29.309776Z"
    }
   },
   "source": [
    "import os\n",
    "import torch\n",
    "import transformers\n",
    "from TTS.api import TTS # only in v0.22\n",
    "from TTS.tts.models.vits import Vits\n",
    "from TTS.tts.models.xtts import Xtts\n",
    "\n",
    "from TTS.tts.configs.xtts_config import XttsConfig\n",
    "from TTS.tts.configs.vits_config import VitsConfig\n",
    "\n",
    "from TTS.tts.utils.synthesis import synthesis\n",
    "from TTS.utils.audio import AudioProcessor\n",
    "from TTS.tts.utils.text.tokenizer import TTSTokenizer\n",
    "\n",
    "from neon_tts_plugin_coqui import CoquiTTS as neonTTS\n",
    "from IPython.display import Audio\n",
    "from scipy.io import wavfile\n",
    "import numpy as np\n"
   ],
   "outputs": [],
   "execution_count": 21
  },
  {
   "metadata": {},
   "cell_type": "markdown",
   "source": ""
  },
  {
   "cell_type": "code",
   "metadata": {},
   "source": [
    "irish_lyrics = \"\"\"\n",
    "Bhí loch ag mo sheanmháthair,\n",
    "Áit ina raibh na lachain ag snámh,\n",
    "Le héadain bhána geal,\n",
    "Is cluimhreach chomh bog le scamall.\n",
    "\n",
    "Ó, a lachain álainn, a sheod,\n",
    "Le do ghlór binn i gconaí ag glaoch,\n",
    "I do loch ghlé geal,\n",
    "Agus tú chomh saor le gaoth.\n",
    "\n",
    "Sa mhaidin chiúin go moch,\n",
    "Bhí an lacha ag éirí as a suan,\n",
    "Le heireabaill ag crith,\n",
    "Is a sciatháin ag sracadh an uisce.\n",
    "\n",
    "Ó, a lachain álainn, a sheod,\n",
    "Le do ghlór binn i gconaí ag glaoch,\n",
    "I do loch ghlé geal,\n",
    "Agus tú chomh saor le gaoth.\n",
    "\n",
    "Nuair a tháinig an tráthnóna,\n",
    "Bhí na lachain fós ann,\n",
    "Le spraoi is súgradh leo,\n",
    "Agus an ghrian ag dul faoi chiúin.\n",
    "\n",
    "Ó, a lachain álainn, a sheod,\n",
    "Le do ghlór binn i gconaí ag glaoch,\n",
    "I do loch ghlé geal,\n",
    "Agus tú chomh saor le gaoth.\n",
    "\n",
    "Anois tá cuimhne agam ort,\n",
    "A lachain mo sheanmháthar,\n",
    "Áit álainn ar domhan,\n",
    "Nach n-imeoidh uaim go bráth.\n",
    "\n",
    "Ó, a lachain álainn, a sheod,\n",
    "Le do ghlór binn i gconaí ag glaoch,\n",
    "I do loch ghlé geal,\n",
    "Agus tú chomh saor le gaoth\n",
    "\"\"\"\n",
    "\n",
    "dutch_lyrics = \"\"\"\n",
    "Zooals ik eenmaal beminde,\n",
    "Zoo minde er op aarde nooit een,\n",
    "Maar 'k vond, tot wien ik mij wendde,\n",
    "Slechts harten van ijs en van steen.\n",
    "\n",
    "Toen stierf mijn geloof aan de vriendschap,\n",
    "Mijn hoop en mijn liefde verdween,\n",
    "En zooals mijn hart toen haatte,\n",
    "Zoo haatte er op aarde nooit een.\n",
    "\n",
    "En sombere, bittere liederen\n",
    "Zijn aan mijn lippen ontgleên;\n",
    "Zoo somber en bitter als ik zong,\n",
    "Zoo zong er op aarde nooit een.\n",
    "\n",
    "Verveeld heeft mij eindlijk dat haten,\n",
    "Dat eeuwig gezang en geween,\n",
    "Ik zweeg, en zooals ik nu zwijg,\n",
    "Zoo zweeg er op aarde nooit een.\n",
    "\"\"\""
   ],
   "outputs": [],
   "execution_count": null
  },
  {
   "cell_type": "markdown",
   "metadata": {},
   "source": [
    "# XTTS API v0.22.0"
   ]
  },
  {
   "cell_type": "code",
   "metadata": {},
   "source": [
    "MODEL_PATH = \"/media/koekiemonster/DATA-FAST/TTS/tts_models/multilingual/multi-dataset/XTTS-v2\"\n",
    "CONFIG_PATH = \"/media/koekiemonster/DATA-FAST/TTS/tts_models/multilingual/multi-dataset/XTTS-v2/config.json\"\n",
    "\n",
    "_tts = TTS(progress_bar=True,\n",
    "            model_path=MODEL_PATH,\n",
    "            config_path=CONFIG_PATH)\n",
    "_tts.to('gpu')\n",
    "_tts.tts_to_file(text=dutch_lyrics, \n",
    "                 language=\"nl\", \n",
    "                 speaker_wav=\"../assets/english_bram.wav\", \n",
    "                 file_path=\"../artifacts/test_dutch.wav\")"
   ],
   "outputs": [],
   "execution_count": null
  },
  {
   "cell_type": "markdown",
   "metadata": {},
   "source": [
    "## Direct ViTS"
   ]
  },
  {
   "cell_type": "code",
   "metadata": {},
   "source": [
    "MODEL_PATH = \"/media/bramiozo/DATA-FAST/TTS/tts_models/multilingual/multi-dataset/tts-vits-cv-ga\"\n",
    "CONFIG_PATH = \"/media/bramiozo/DATA-FAST/TTS/tts_models/multilingual/multi-dataset/tts-vits-cv-ga/config.json\"\n",
    "\n",
    "config = VitsConfig()\n",
    "config.load_json(CONFIG_PATH)\n",
    "ap = AudioProcessor.init_from_config(config)\n",
    "tokenizer, config = TTSTokenizer.init_from_config(config)\n",
    "model = Vits.init_from_config(config)\n",
    "model.load_checkpoint(config, \n",
    "                      checkpoint_path=os.path.join(MODEL_PATH,\"model_file.pth.tar\"), \n",
    "                      eval=True, \n",
    "                      strict=False, \n",
    "                      cache=False)\n",
    "model.ap=ap\n",
    "model.tokenizer=tokenizer\n",
    "model.cuda()\n"
   ],
   "outputs": [],
   "execution_count": null
  },
  {
   "cell_type": "code",
   "metadata": {},
   "source": [
    "wav, alignment, _, _ = synthesis(\n",
    "    model,\n",
    "    irish_lyrics,\n",
    "    config,\n",
    "    style_wav=\"../assets/english_bram.wav\",\n",
    "    use_cuda=True\n",
    ").values()\n",
    "\n",
    "# Save the output waveform\n",
    "ap.save_wav(wav, \"../artifacts/test_irish.wav\")"
   ],
   "outputs": [],
   "execution_count": null
  },
  {
   "metadata": {
    "ExecuteTime": {
     "end_time": "2024-05-24T13:26:04.730034Z",
     "start_time": "2024-05-24T13:24:38.965661Z"
    }
   },
   "cell_type": "code",
   "source": [
    "_neonTTS = neonTTS(lang=\"ga\", config={})\n",
    "result = _neonTTS.get_tts(irish_lyrics,\n",
    "                         \"../artifacts/test_irish.wav\",\n",
    "                          speaker={\n",
    "                              \"language\": \"ga\"\n",
    "                          })"
   ],
   "outputs": [
    {
     "name": "stdout",
     "output_type": "stream",
     "text": [
      "2024-05-24 15:24:39.216 - OVOS - ovos_plugin_manager.utils:load_plugin:155 - WARNING - Could not find the plugin ovos.plugin.g2p.ovos-g2p-plugin-heuristic-arpa\n",
      "2024-05-24 15:24:39.234 - OVOS - ovos_plugin_manager.g2p:create:142 - ERROR - The selected G2P plugin could not be loaded.\n",
      "Traceback (most recent call last):\n",
      "  File \"/media/bramiozo/Storage1/bramiozo/VIRTUALENVS/Python/seanos-bFLQpzeS-py3.10/lib/python3.10/site-packages/ovos_plugin_manager/g2p.py\", line 139, in create\n",
      "    g2p = clazz(g2p_config)\n",
      "TypeError: 'NoneType' object is not callable\n",
      "2024-05-24 15:24:39.254 - OVOS - ovos_plugin_manager.templates.tts:__init__:205 - ERROR - G2P plugin not loaded, there will be no mouth movements\n",
      "Traceback (most recent call last):\n",
      "  File \"/media/bramiozo/Storage1/bramiozo/VIRTUALENVS/Python/seanos-bFLQpzeS-py3.10/lib/python3.10/site-packages/ovos_plugin_manager/templates/tts.py\", line 203, in __init__\n",
      "    self.g2p = OVOSG2PFactory.create(cfg)\n",
      "  File \"/media/bramiozo/Storage1/bramiozo/VIRTUALENVS/Python/seanos-bFLQpzeS-py3.10/lib/python3.10/site-packages/ovos_plugin_manager/g2p.py\", line 139, in create\n",
      "    g2p = clazz(g2p_config)\n",
      "TypeError: 'NoneType' object is not callable\n",
      "2024-05-24 15:24:39.341 - OVOS - neon_tts_plugin_coqui:_init_model:187 - INFO - Initializing model for: ga\n"
     ]
    },
    {
     "name": "stderr",
     "output_type": "stream",
     "text": [
      "<torch_package_3>.pydub/utils.py:170: RuntimeWarning: Couldn't find ffmpeg or avconv - defaulting to ffmpeg, but may not work\n",
      "  warn(\"Couldn't find ffmpeg or avconv - defaulting to ffmpeg, but may not work\", RuntimeWarning)\n"
     ]
    },
    {
     "name": "stdout",
     "output_type": "stream",
     "text": [
      " > Text splitted to sentences.\n",
      "['Bhí loch ag mo sheanmháthair,', 'Áit ina raibh na lachain ag snámh,', 'Le héadain bhána geal,', 'Is cluimhreach chomh bog le scamall.', 'Ó, a lachain álainn, a sheod,', 'Le do ghlór binn i gconaí ag glaoch,', 'I do loch ghlé geal,', 'Agus tú chomh saor le gaoth.', 'Sa mhaidin chiúin go moch,', 'Bhí an lacha ag éirí as a suan,', 'Le heireabaill ag crith,', 'Is a sciatháin ag sracadh an uisce.', 'Ó, a lachain álainn, a sheod,', 'Le do ghlór binn i gconaí ag glaoch,', 'I do loch ghlé geal,', 'Agus tú chomh saor le gaoth.', 'Nuair a tháinig an tráthnóna,', 'Bhí na lachain fós ann,', 'Le spraoi is súgradh leo,', 'Agus an ghrian ag dul faoi chiúin.', 'Ó, a lachain álainn, a sheod,', 'Le do ghlór binn i gconaí ag glaoch,', 'I do loch ghlé geal,', 'Agus tú chomh saor le gaoth.', 'Anois tá cuimhne agam ort,', 'A lachain mo sheanmháthar,', 'Áit álainn ar domhan,', 'Nach n-imeoidh uaim go bráth.', 'Ó, a lachain álainn, a sheod,', 'Le do ghlór binn i gconaí ag glaoch,', 'I do loch ghlé geal,', 'Agus tú chomh saor le gaoth']\n",
      " > Processing time: 3.858142852783203\n",
      " > Real-time factor: 0.05856762335865187\n"
     ]
    }
   ],
   "execution_count": 30
  },
  {
   "metadata": {
    "ExecuteTime": {
     "end_time": "2024-05-24T13:59:58.605909Z",
     "start_time": "2024-05-24T13:59:54.225970Z"
    }
   },
   "cell_type": "code",
   "source": "wavresult = _neonTTS.get_audio(irish_lyrics,  audio_format=\"ipython\")",
   "outputs": [
    {
     "name": "stdout",
     "output_type": "stream",
     "text": [
      " > Text splitted to sentences.\n",
      "['Bhí loch ag mo sheanmháthair,', 'Áit ina raibh na lachain ag snámh,', 'Le héadain bhána geal,', 'Is cluimhreach chomh bog le scamall.', 'Ó, a lachain álainn, a sheod,', 'Le do ghlór binn i gconaí ag glaoch,', 'I do loch ghlé geal,', 'Agus tú chomh saor le gaoth.', 'Sa mhaidin chiúin go moch,', 'Bhí an lacha ag éirí as a suan,', 'Le heireabaill ag crith,', 'Is a sciatháin ag sracadh an uisce.', 'Ó, a lachain álainn, a sheod,', 'Le do ghlór binn i gconaí ag glaoch,', 'I do loch ghlé geal,', 'Agus tú chomh saor le gaoth.', 'Nuair a tháinig an tráthnóna,', 'Bhí na lachain fós ann,', 'Le spraoi is súgradh leo,', 'Agus an ghrian ag dul faoi chiúin.', 'Ó, a lachain álainn, a sheod,', 'Le do ghlór binn i gconaí ag glaoch,', 'I do loch ghlé geal,', 'Agus tú chomh saor le gaoth.', 'Anois tá cuimhne agam ort,', 'A lachain mo sheanmháthar,', 'Áit álainn ar domhan,', 'Nach n-imeoidh uaim go bráth.', 'Ó, a lachain álainn, a sheod,', 'Le do ghlór binn i gconaí ag glaoch,', 'I do loch ghlé geal,', 'Agus tú chomh saor le gaoth']\n",
      " > Processing time: 3.86989688873291\n",
      " > Real-time factor: 0.05874605271617291\n"
     ]
    }
   ],
   "execution_count": 37
  },
  {
   "metadata": {
    "ExecuteTime": {
     "end_time": "2024-05-24T14:01:48.392526Z",
     "start_time": "2024-05-24T14:01:48.149554Z"
    }
   },
   "cell_type": "code",
   "source": "wavfile.write(\"../artifacts/test_irish.wav\", wavresult['rate'], np.array(wavresult['data']))",
   "outputs": [],
   "execution_count": 40
  },
  {
   "metadata": {
    "ExecuteTime": {
     "end_time": "2024-05-24T14:09:11.957847Z",
     "start_time": "2024-05-24T14:07:51.685539Z"
    }
   },
   "cell_type": "code",
   "source": [
    " # useful to know if we want to apply our custom finetuned model \n",
    " model_path = _neonTTS._download_huggingface('neongeckocom/tts-vits-cv-ga')"
   ],
   "outputs": [
    {
     "data": {
      "text/plain": [
       "'/home/bramiozo/.cache/huggingface/hub/models--neongeckocom--tts-vits-cv-ga/snapshots/178a25580efa4fbc8c35143aa7a5cbf441732321/model.pt'"
      ]
     },
     "execution_count": 41,
     "metadata": {},
     "output_type": "execute_result"
    }
   ],
   "execution_count": 41
  },
  {
   "metadata": {},
   "cell_type": "code",
   "outputs": [],
   "execution_count": null,
   "source": ""
  }
 ],
 "metadata": {
  "kernelspec": {
   "display_name": "Python 3 (ipykernel)",
   "language": "python",
   "name": "python3"
  },
  "language_info": {
   "codemirror_mode": {
    "name": "ipython",
    "version": 3
   },
   "file_extension": ".py",
   "mimetype": "text/x-python",
   "name": "python",
   "nbconvert_exporter": "python",
   "pygments_lexer": "ipython3",
   "version": "3.10.14"
  }
 },
 "nbformat": 4,
 "nbformat_minor": 4
}
