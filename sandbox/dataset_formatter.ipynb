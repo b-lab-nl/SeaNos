{
 "cells": [
  {
   "metadata": {
    "ExecuteTime": {
     "end_time": "2024-10-08T18:39:15.369101Z",
     "start_time": "2024-10-08T18:39:15.317563Z"
    }
   },
   "cell_type": "code",
   "source": [
    "'''\n",
    "We ingest the data.ods and reformat to\n",
    "client_id \\t path \\t sentence_id \\t sentence \\t locale\n",
    "\n",
    "Here\n",
    "client_id is a unique identifier for the song\n",
    "path is a path to the song\n",
    "sentence_id is a unique identifier for the sentence\n",
    "sentence is the Gaelic text\n",
    "sentence_domain=up_votes=down_votes=age=gender=accents=variant\n",
    "locale is set to ga-IE\n",
    "\n",
    "The client_id can be extracted from the filename \"song_x,..wav\"\n",
    "The sentence_id can be extracted from the \"..., phrase_xx..wav\"\n",
    "\n",
    "The filenames can be coupled to the filenames via the phrase_number, which is in on the data.ods\n",
    "'''\n"
   ],
   "id": "7b63461d10852377",
   "outputs": [
    {
     "data": {
      "text/plain": [
       "'\\nWe ingest the data.ods and reformat to\\nclient_id \\t path \\t sentence_id \\t sentence \\t locale\\n\\nHere\\nclient_id is a unique identifier for the song\\npath is a path to the song\\nsentence_id is a unique identifier for the sentence\\nsentence is the Gaelic text\\nsentence_domain=up_votes=down_votes=age=gender=accents=variant\\nlocale is set to ga-IE\\n\\nThe client_id can be extracted from the filename \"song_x,..wav\"\\nThe sentence_id can be extracted from the \"..., phrase_xx..wav\"\\n\\nThe filenames can be coupled to the filenames via the phrase_number, which is in on the data.ods\\n'"
      ]
     },
     "execution_count": 29,
     "metadata": {},
     "output_type": "execute_result"
    }
   ],
   "execution_count": 29
  },
  {
   "metadata": {
    "ExecuteTime": {
     "end_time": "2024-10-08T18:39:15.455001Z",
     "start_time": "2024-10-08T18:39:15.392232Z"
    }
   },
   "cell_type": "code",
   "source": [
    "%load_ext autoreload\n",
    "%autoreload 2\n",
    "import os\n",
    "import re\n",
    "import hashlib\n",
    "import pandas as pd\n",
    "import numpy as np\n",
    "from tqdm import tqdm"
   ],
   "id": "e2484a0f5dea91a6",
   "outputs": [
    {
     "name": "stdout",
     "output_type": "stream",
     "text": [
      "The autoreload extension is already loaded. To reload it, use:\n",
      "  %reload_ext autoreload\n"
     ]
    }
   ],
   "execution_count": 30
  },
  {
   "metadata": {
    "ExecuteTime": {
     "end_time": "2024-10-08T18:39:15.565780Z",
     "start_time": "2024-10-08T18:39:15.524879Z"
    }
   },
   "cell_type": "code",
   "source": [
    "GET_PHONEMES = False\n",
    "INCLUDE_SINGERS = [13]  # 5, 10, 21, 25, 26, 13, if None then keep all"
   ],
   "id": "fe02431ded2bde0a",
   "outputs": [],
   "execution_count": 31
  },
  {
   "metadata": {
    "ExecuteTime": {
     "end_time": "2024-10-08T18:39:15.638486Z",
     "start_time": "2024-10-08T18:39:15.604202Z"
    }
   },
   "cell_type": "code",
   "source": "os.chdir('/media/bramiozo/DATA-FAST/TTS/tts_models/gle/seannos_datasource')",
   "id": "f897864e2adefed1",
   "outputs": [],
   "execution_count": 32
  },
  {
   "metadata": {
    "ExecuteTime": {
     "end_time": "2024-10-08T18:39:16.270127Z",
     "start_time": "2024-10-08T18:39:15.677517Z"
    }
   },
   "cell_type": "code",
   "source": "lyrics_original =  pd.read_excel('dataset_lyrics/lyrics.ods')",
   "id": "5c6e2d153be528f6",
   "outputs": [],
   "execution_count": 33
  },
  {
   "metadata": {
    "ExecuteTime": {
     "end_time": "2024-10-08T18:39:16.335735Z",
     "start_time": "2024-10-08T18:39:16.303474Z"
    }
   },
   "cell_type": "code",
   "source": "lyrics_original.dtypes",
   "id": "2d3dd7398cbd91d6",
   "outputs": [
    {
     "data": {
      "text/plain": [
       "phrase_number     int64\n",
       "singer           object\n",
       "sentence         object\n",
       "Title            object\n",
       "English          object\n",
       "dtype: object"
      ]
     },
     "execution_count": 34,
     "metadata": {},
     "output_type": "execute_result"
    }
   ],
   "execution_count": 34
  },
  {
   "metadata": {
    "ExecuteTime": {
     "end_time": "2024-10-08T18:39:16.449276Z",
     "start_time": "2024-10-08T18:39:16.414971Z"
    }
   },
   "cell_type": "code",
   "source": [
    "def get_song_str(fn):\n",
    "    part_1 = (fn.split(',')[0]).strip()\n",
    "    part_2 = part_1.split(\"_\")[-2:]\n",
    "    return \"_\".join(part_2)"
   ],
   "id": "819cf68f4682ad86",
   "outputs": [],
   "execution_count": 35
  },
  {
   "metadata": {
    "ExecuteTime": {
     "end_time": "2024-10-08T18:39:16.617672Z",
     "start_time": "2024-10-08T18:39:16.507908Z"
    }
   },
   "cell_type": "code",
   "source": [
    "filenames = os.listdir('clips')\n",
    "\n",
    "file_df = pd.DataFrame([{'client_id': hashlib.md5(b\"\"+(f\"{get_song_str(s)}\").encode(\"latin1\")).hexdigest(),\n",
    "  'path': s,\n",
    "  'song': s.split(\",\")[0].strip().split(\"_\")[-1],\n",
    "  'phrase_version': s.split(\"_\")[0],\n",
    "  'phrase_number': int(s.split(',')[1].strip().split(\"_\")[1])\n",
    "  } for s in filenames])"
   ],
   "id": "c38f20cb39ac9220",
   "outputs": [],
   "execution_count": 36
  },
  {
   "metadata": {
    "ExecuteTime": {
     "end_time": "2024-10-08T18:39:16.672298Z",
     "start_time": "2024-10-08T18:39:16.629439Z"
    }
   },
   "cell_type": "code",
   "source": "final_df = lyrics_original[['phrase_number', 'sentence', 'singer']].merge(file_df, how='inner', on='phrase_number')",
   "id": "4fd8f1d71999b637",
   "outputs": [],
   "execution_count": 37
  },
  {
   "metadata": {
    "ExecuteTime": {
     "end_time": "2024-10-08T18:39:16.741990Z",
     "start_time": "2024-10-08T18:39:16.707654Z"
    }
   },
   "cell_type": "code",
   "source": [
    "if isinstance(INCLUDE_SINGERS, list):\n",
    "    final_df = final_df[final_df.singer.isin(INCLUDE_SINGERS)].reset_index(drop=True)"
   ],
   "id": "65bbe4e490ed205e",
   "outputs": [],
   "execution_count": 38
  },
  {
   "metadata": {
    "ExecuteTime": {
     "end_time": "2024-10-08T18:39:16.823668Z",
     "start_time": "2024-10-08T18:39:16.780459Z"
    }
   },
   "cell_type": "code",
   "source": [
    "final_df = final_df.assign(locale='ga-IE')\n",
    "final_df = final_df.assign(sentence_domain='')\n",
    "final_df = final_df.assign(up_votes='')\n",
    "final_df = final_df.assign(down_votes='')\n",
    "final_df = final_df.assign(age='')\n",
    "final_df = final_df.assign(gender='')\n",
    "final_df = final_df.assign(accents='')\n",
    "final_df = final_df.assign(variant='')"
   ],
   "id": "58ea882dcab884",
   "outputs": [],
   "execution_count": 39
  },
  {
   "metadata": {
    "ExecuteTime": {
     "end_time": "2024-10-08T18:39:16.902009Z",
     "start_time": "2024-10-08T18:39:16.860060Z"
    }
   },
   "cell_type": "code",
   "source": [
    "gender_map = {\n",
    "    '1': 'male',\n",
    "    '2': 'female',\n",
    "    '3': 'female',\n",
    "    '4': 'male',\n",
    "    '5': 'female',\n",
    "    '6': 'female', \n",
    "    '7': 'male',\n",
    "    '8': 'male',\n",
    "    '9': 'male',\n",
    "    '11': 'female',\n",
    "    '12': 'female',\n",
    "    '13': 'female',\n",
    "    '14': 'female',\n",
    "    '15': 'male',\n",
    "    '16': 'male',\n",
    "    '17': 'female',\n",
    "    '18': 'male',\n",
    "    '19': 'male',\n",
    "    '22': 'female',\n",
    "    '23': 'female',\n",
    "    '24': 'female',\n",
    "    '25': 'female',\n",
    "    '26': 'female',\n",
    "    '27': 'female',\n",
    "    '28': 'female',\n",
    "    '29': 'female',\n",
    "    '30': 'male',\n",
    "    '31': 'female',\n",
    "    '32': 'female', \n",
    "    '33': 'female',\n",
    "    '34': 'female',\n",
    "    '35': 'female',\n",
    "    '36': 'female',\n",
    "    '37': 'female',\n",
    "    '38': 'male',\n",
    "    '39': 'female',   \n",
    "}\n",
    "\n",
    "client_map = {\n",
    "    'fb10b1b655a2b34af288a4ff51460080': 'female',\n",
    "    'eb6e87c69c6bb1914b33b66e22c43b22': 'female',\n",
    "    'ce29c518eaf3469a00c1b49df4a6fa58': 'female',\n",
    "    'b9ce569cc8664a79633c2e49b6951772': 'female',\n",
    "    'b501dd4c046f528a66c085a29a77fa96': 'female',\n",
    "    'ad7c36b78f0904b97958275bc316fc4a': 'female',\n",
    "    'a168b2952fd26fad6352725ad5d32c89': 'male',\n",
    "    'a05faf2da14346a9eebcb1cef52cdf70': 'male',\n",
    "    '9d6bf453b18c2401cf42e86fd7084048': 'male',\n",
    "    '9be4875162b0b52ac5853090d9816d9e': 'female',\n",
    "    '8a3d80b09d305f7e61710569dacd7b8a': 'male',\n",
    "    '82072466fe7e953258121bfed776c4c8': 'male',\n",
    "    '8059835b0296b8f2d8f88ee9d5ff2bc1': 'female',\n",
    "    '7cc5fa83c13a9bba0058047168213fd3': 'female',\n",
    "    '7396e94dda5897f01e213ea8895f5f34': 'female',\n",
    "    '6685ae01c52fccb1b73d803bc0ac65f2': 'female',\n",
    "    '5d179b5ee524d198cb483c6b6ff22e56': 'female',\n",
    "    '5641ceb7957ec589f136638189c5fc5d': 'male',\n",
    "    '53deaae6c3c39e7db142a88fb1859ba8': 'female',\n",
    "    '5200d298dcdf65f11f9b738a8b0b68dd': 'male',\n",
    "    '42a114cfae45f0e7562ecee67c7c4b9b': 'female',\n",
    "    '40b30d9f3e6d06f3d9cc6d118b04fda7': 'male',\n",
    "    '3f4d025bf63ba0bd11873d448217c394': 'female',\n",
    "    '3c514de0167d3e12cda5f1221269ccfa': 'male',\n",
    "    '3b1b99b2d042b9228b9b6ed7ba6ef0cf': 'female',\n",
    "    '2d6587eaf934b300a40091b3df85ce66': 'female',\n",
    "    '2bfd305a6c139c602fcf11065c368d67': 'male',\n",
    "    '23f2d50b628d98ecd1458b53ebd1e0c4': 'male',\n",
    "    '24b00678a1add71b1a69837a0e2478c1': 'female',\n",
    "    '5599a98ac42fb2d3b2618ca52d4ee48c': 'female',\n",
    "    'e687cfb58aa0a2abf7dc596503cfcf68': 'female',\n",
    "    '666ac977145186527ee2ee11e0b8335e': 'female',\n",
    "    '40291794d294568b8e881d84b63b4d4a': 'female',\n",
    "    '717a92c1cd9b05391b5e20b6ddb6e98e': 'female',\n",
    "    '03c0170448334d0b0cfab68ee3690b7c': 'male',\n",
    "    'e30aaf33d6b93dc7b766641a2a03efc1': 'female'\n",
    "}\n",
    "\n",
    "good_singers = {\n",
    "    1: '24b00678a1add71b1a69837a0e2478c1',\n",
    "    2: 'e30aaf33d6b93dc7b766641a2a03efc1',\n",
    "    3: 'fb10b1b655a2b34af288a4ff51460080',\n",
    "    4: 'b9ce569cc8664a79633c2e49b6951772', \n",
    "    5: '7396e94dda5897f01e213ea8895f5f34',\n",
    "    6: 'ce29c518eaf3469a00c1b49df4a6fa58'\n",
    "}\n",
    "\n"
   ],
   "id": "ea7fd35e023e7534",
   "outputs": [],
   "execution_count": 40
  },
  {
   "metadata": {
    "ExecuteTime": {
     "end_time": "2024-10-08T18:39:16.978724Z",
     "start_time": "2024-10-08T18:39:16.939866Z"
    }
   },
   "cell_type": "code",
   "source": [
    "final_df = final_df.assign(gender=final_df.song.map(gender_map))\n",
    "#final_df = final_df.assign(client_id=final_df.client_id.map(client_map))"
   ],
   "id": "91c91867d279edc5",
   "outputs": [],
   "execution_count": 41
  },
  {
   "metadata": {
    "ExecuteTime": {
     "end_time": "2024-10-08T18:39:17.052131Z",
     "start_time": "2024-10-08T18:39:17.015887Z"
    }
   },
   "cell_type": "code",
   "source": [
    "# replace client_id by singer \n",
    "final_df = final_df.assign(singer_id=final_df.singer.apply(lambda x: hashlib.md5(b\"\"+str(x).encode(\"latin1\")).hexdigest()))"
   ],
   "id": "fd8defac4113483f",
   "outputs": [],
   "execution_count": 42
  },
  {
   "metadata": {
    "ExecuteTime": {
     "end_time": "2024-10-08T18:39:17.146704Z",
     "start_time": "2024-10-08T18:39:17.113916Z"
    }
   },
   "cell_type": "code",
   "source": "final_df.loc[final_df.client_id.isin(good_singers.values()), 'singer_id'].unique() ",
   "id": "d12f181f7367ed60",
   "outputs": [
    {
     "data": {
      "text/plain": [
       "array(['c51ce410c124a10e0db5e4b97fc2af39'], dtype=object)"
      ]
     },
     "execution_count": 43,
     "metadata": {},
     "output_type": "execute_result"
    }
   ],
   "execution_count": 43
  },
  {
   "metadata": {
    "ExecuteTime": {
     "end_time": "2024-10-08T18:39:17.211197Z",
     "start_time": "2024-10-08T18:39:17.177048Z"
    }
   },
   "cell_type": "code",
   "source": "final_df.loc[final_df.client_id.isin(good_singers.values()), 'singer'].unique()",
   "id": "c2d7e4908658afcc",
   "outputs": [
    {
     "data": {
      "text/plain": [
       "array([13], dtype=object)"
      ]
     },
     "execution_count": 44,
     "metadata": {},
     "output_type": "execute_result"
    }
   ],
   "execution_count": 44
  },
  {
   "metadata": {
    "ExecuteTime": {
     "end_time": "2024-10-08T18:39:17.282907Z",
     "start_time": "2024-10-08T18:39:17.247821Z"
    }
   },
   "cell_type": "code",
   "source": "final_df.client_id.nunique(), final_df.singer_id.nunique(),",
   "id": "31225d479177c824",
   "outputs": [
    {
     "data": {
      "text/plain": [
       "(9, 1)"
      ]
     },
     "execution_count": 45,
     "metadata": {},
     "output_type": "execute_result"
    }
   ],
   "execution_count": 45
  },
  {
   "metadata": {
    "ExecuteTime": {
     "end_time": "2024-10-08T18:39:17.355234Z",
     "start_time": "2024-10-08T18:39:17.321675Z"
    }
   },
   "cell_type": "code",
   "source": "final_df.client_id = final_df.singer_id",
   "id": "26bd2eb07e234431",
   "outputs": [],
   "execution_count": 46
  },
  {
   "metadata": {
    "ExecuteTime": {
     "end_time": "2024-10-08T18:39:17.430889Z",
     "start_time": "2024-10-08T18:39:17.393034Z"
    }
   },
   "cell_type": "code",
   "source": "final_df = final_df.dropna(subset=['sentence'], axis=0)",
   "id": "4e1ab175f378a13a",
   "outputs": [],
   "execution_count": 47
  },
  {
   "metadata": {
    "ExecuteTime": {
     "end_time": "2024-10-08T18:39:17.505281Z",
     "start_time": "2024-10-08T18:39:17.467350Z"
    }
   },
   "cell_type": "code",
   "source": "final_df = final_df.assign(sentence_id = final_df.sentence.apply(lambda s: hashlib.md5(s.encode(\"utf-8\")).hexdigest() ))",
   "id": "f94eabcaf085bb39",
   "outputs": [],
   "execution_count": 48
  },
  {
   "metadata": {
    "ExecuteTime": {
     "end_time": "2024-10-08T18:39:17.582265Z",
     "start_time": "2024-10-08T18:39:17.541697Z"
    }
   },
   "cell_type": "code",
   "source": [
    "final_df.sentence = final_df.sentence.str.replace('*','', regex=False)\n",
    "final_df.sentence = final_df.sentence.str.replace('-',', ', regex=False)\n",
    "final_df.sentence = final_df.sentence.str.replace('–',', ', regex=False)\n",
    "final_df.sentence = final_df.sentence.str.replace('`',\"'\", regex=False)\n",
    "final_df.sentence = final_df.sentence.str.replace('’',\"'\", regex=False)\n",
    "final_df.sentence = final_df.sentence.str.replace('‘',\"'\", regex=False)"
   ],
   "id": "c1aa2141d69f17d6",
   "outputs": [],
   "execution_count": 49
  },
  {
   "metadata": {
    "ExecuteTime": {
     "end_time": "2024-10-08T18:39:17.648749Z",
     "start_time": "2024-10-08T18:39:17.616255Z"
    }
   },
   "cell_type": "code",
   "source": "final_df = final_df.drop('singer', axis=1)",
   "id": "d8e16a9e138d6ec7",
   "outputs": [],
   "execution_count": 50
  },
  {
   "metadata": {
    "ExecuteTime": {
     "end_time": "2024-10-08T18:39:17.722897Z",
     "start_time": "2024-10-08T18:39:17.682882Z"
    }
   },
   "cell_type": "code",
   "source": [
    "import unicodedata\n",
    "from TTS.tts.utils.text.phonemizers import ESpeak\n",
    "\n",
    "if GET_PHONEMES:\n",
    "    phoneme_mapping = {\n",
    "        # Map dental stops to alveolar stops\n",
    "        't̪': 't',\n",
    "        'd̪': 'd',\n",
    "        # Map nasal variations to 'n'\n",
    "        'n̠': 'n',\n",
    "        # Map lateral variations\n",
    "        'l̠': 'l',\n",
    "        # Add other mappings as needed\n",
    "    }\n",
    "    \n",
    "    def clean_phonemes(phonemes):\n",
    "        # Remove stress markers and punctuation\n",
    "        phonemes = phonemes.replace('ˈ', '').replace('ˌ', '')\n",
    "        phonemes = phonemes.replace('.', '').replace('|', '')\n",
    "        phonemes = phonemes.replace('?', '').replace('!', '').replace(',', '').replace(';', '')\n",
    "        # Normalize Unicode to decompose characters\n",
    "        phonemes = unicodedata.normalize('NFD', phonemes)\n",
    "        # Remove diacritic marks (characters with combining class 'Mn')\n",
    "        phonemes = ''.join([c for c in phonemes if unicodedata.category(c) != 'Mn'])\n",
    "        # Split phonemes and apply mapping\n",
    "        phoneme_list = phonemes.strip().split(' ')\n",
    "        mapped_phonemes = [phoneme_mapping.get(p, p) for p in phoneme_list]\n",
    "        # Remove empty strings\n",
    "        mapped_phonemes = [p for p in mapped_phonemes if p]\n",
    "        # Rejoin phonemes\n",
    "        phonemes = ' '.join(mapped_phonemes)\n",
    "        return phonemes\n",
    "    \n",
    "    \n",
    "    \n",
    "    phonemizer = ESpeak(language='ga')\n",
    "    phoneme_set = set()\n",
    "    \n",
    "    # Replace this with the path to your dataset's text file\n",
    "    \n",
    "    sentence_list = final_df.sentence.unique()\n",
    "    for line in tqdm(sentence_list):\n",
    "        text = line.strip()\n",
    "        phonemes = phonemizer.phonemize(text, separator=\" \")\n",
    "        phonemes = clean_phonemes(phonemes)\n",
    "        phoneme_set.update(phonemes.split())\n",
    "        \n",
    "    # Save the phoneme list\n",
    "    phoneme_list = sorted(phoneme_set)\n",
    "    print(len(phoneme_list))\n",
    "    print(\" \".join(phoneme_list))"
   ],
   "id": "d9b2ab618998599e",
   "outputs": [],
   "execution_count": 51
  },
  {
   "metadata": {
    "ExecuteTime": {
     "end_time": "2024-10-08T18:39:17.803872Z",
     "start_time": "2024-10-08T18:39:17.761714Z"
    }
   },
   "cell_type": "code",
   "source": [
    "columns = ['client_id', 'path', 'sentence', 'sentence_id', 'sentence_domain', 'up_votes', 'down_votes', 'age', 'gender', 'accents', 'variant', 'locale']\n",
    "\n",
    "# from client_id select 2 sentences for validation and remove from final_df\n",
    "test_df = final_df.groupby('client_id').apply(lambda x: x.sample(n=2, replace=False)).drop('client_id', axis=1).reset_index()\n",
    "rm_indcs = test_df.level_1\n",
    "test_df = test_df.drop('level_1', axis=1)"
   ],
   "id": "19699cd563387673",
   "outputs": [],
   "execution_count": 52
  },
  {
   "metadata": {
    "ExecuteTime": {
     "end_time": "2024-10-08T18:39:17.887836Z",
     "start_time": "2024-10-08T18:39:17.837673Z"
    }
   },
   "cell_type": "code",
   "source": "final_df",
   "id": "46d91fef408b65ee",
   "outputs": [
    {
     "data": {
      "text/plain": [
       "     phrase_number                                           sentence  \\\n",
       "0              424  Cois Abhann na Séad, ar uair bhig an lae, is m...   \n",
       "1              424  Cois Abhann na Séad, ar uair bhig an lae, is m...   \n",
       "2              424  Cois Abhann na Séad, ar uair bhig an lae, is m...   \n",
       "3              424  Cois Abhann na Séad, ar uair bhig an lae, is m...   \n",
       "4              424  Cois Abhann na Séad, ar uair bhig an lae, is m...   \n",
       "..             ...                                                ...   \n",
       "970           1153                          'S an téiril éiril eaidí    \n",
       "971           1153                          'S an téiril éiril eaidí    \n",
       "972           1154           Téiril éiril é Seán a' bhríste leathair.   \n",
       "973           1154           Téiril éiril é Seán a' bhríste leathair.   \n",
       "974           1154           Téiril éiril é Seán a' bhríste leathair.   \n",
       "\n",
       "                            client_id  \\\n",
       "0    c51ce410c124a10e0db5e4b97fc2af39   \n",
       "1    c51ce410c124a10e0db5e4b97fc2af39   \n",
       "2    c51ce410c124a10e0db5e4b97fc2af39   \n",
       "3    c51ce410c124a10e0db5e4b97fc2af39   \n",
       "4    c51ce410c124a10e0db5e4b97fc2af39   \n",
       "..                                ...   \n",
       "970  c51ce410c124a10e0db5e4b97fc2af39   \n",
       "971  c51ce410c124a10e0db5e4b97fc2af39   \n",
       "972  c51ce410c124a10e0db5e4b97fc2af39   \n",
       "973  c51ce410c124a10e0db5e4b97fc2af39   \n",
       "974  c51ce410c124a10e0db5e4b97fc2af39   \n",
       "\n",
       "                                               path song phrase_version  \\\n",
       "0           prep6_song_17,phrase_424,time_00-20.wav   17          prep6   \n",
       "1           prep4_song_17,phrase_424,time_00-20.wav   17          prep4   \n",
       "2                 song_17,phrase_424,time_00-20.wav   17           song   \n",
       "3           prep5_song_17,phrase_424,time_00-20.wav   17          prep5   \n",
       "4           prep2_song_17,phrase_424,time_00-20.wav   17          prep2   \n",
       "..                                              ...  ...            ...   \n",
       "970     noised_song_47,phrase_1153,time_435-438.wav   47         noised   \n",
       "971            song_47,phrase_1153,time_435-438.wav   47           song   \n",
       "972            song_47,phrase_1154,time_438-444.wav   47           song   \n",
       "973     noised_song_47,phrase_1154,time_438-444.wav   47         noised   \n",
       "974  resampled_song_47,phrase_1154,time_438-444.wav   47      resampled   \n",
       "\n",
       "    locale sentence_domain up_votes down_votes age  gender accents variant  \\\n",
       "0    ga-IE                                          female                   \n",
       "1    ga-IE                                          female                   \n",
       "2    ga-IE                                          female                   \n",
       "3    ga-IE                                          female                   \n",
       "4    ga-IE                                          female                   \n",
       "..     ...             ...      ...        ...  ..     ...     ...     ...   \n",
       "970  ga-IE                                             NaN                   \n",
       "971  ga-IE                                             NaN                   \n",
       "972  ga-IE                                             NaN                   \n",
       "973  ga-IE                                             NaN                   \n",
       "974  ga-IE                                             NaN                   \n",
       "\n",
       "                            singer_id                       sentence_id  \n",
       "0    c51ce410c124a10e0db5e4b97fc2af39  7e876bc23884a32054f4174614bd6176  \n",
       "1    c51ce410c124a10e0db5e4b97fc2af39  7e876bc23884a32054f4174614bd6176  \n",
       "2    c51ce410c124a10e0db5e4b97fc2af39  7e876bc23884a32054f4174614bd6176  \n",
       "3    c51ce410c124a10e0db5e4b97fc2af39  7e876bc23884a32054f4174614bd6176  \n",
       "4    c51ce410c124a10e0db5e4b97fc2af39  7e876bc23884a32054f4174614bd6176  \n",
       "..                                ...                               ...  \n",
       "970  c51ce410c124a10e0db5e4b97fc2af39  cf92568f2948815c1e1e74fe00e874eb  \n",
       "971  c51ce410c124a10e0db5e4b97fc2af39  cf92568f2948815c1e1e74fe00e874eb  \n",
       "972  c51ce410c124a10e0db5e4b97fc2af39  450532db90098751fb0bccabe174cb4b  \n",
       "973  c51ce410c124a10e0db5e4b97fc2af39  450532db90098751fb0bccabe174cb4b  \n",
       "974  c51ce410c124a10e0db5e4b97fc2af39  450532db90098751fb0bccabe174cb4b  \n",
       "\n",
       "[975 rows x 16 columns]"
      ],
      "text/html": [
       "<div>\n",
       "<style scoped>\n",
       "    .dataframe tbody tr th:only-of-type {\n",
       "        vertical-align: middle;\n",
       "    }\n",
       "\n",
       "    .dataframe tbody tr th {\n",
       "        vertical-align: top;\n",
       "    }\n",
       "\n",
       "    .dataframe thead th {\n",
       "        text-align: right;\n",
       "    }\n",
       "</style>\n",
       "<table border=\"1\" class=\"dataframe\">\n",
       "  <thead>\n",
       "    <tr style=\"text-align: right;\">\n",
       "      <th></th>\n",
       "      <th>phrase_number</th>\n",
       "      <th>sentence</th>\n",
       "      <th>client_id</th>\n",
       "      <th>path</th>\n",
       "      <th>song</th>\n",
       "      <th>phrase_version</th>\n",
       "      <th>locale</th>\n",
       "      <th>sentence_domain</th>\n",
       "      <th>up_votes</th>\n",
       "      <th>down_votes</th>\n",
       "      <th>age</th>\n",
       "      <th>gender</th>\n",
       "      <th>accents</th>\n",
       "      <th>variant</th>\n",
       "      <th>singer_id</th>\n",
       "      <th>sentence_id</th>\n",
       "    </tr>\n",
       "  </thead>\n",
       "  <tbody>\n",
       "    <tr>\n",
       "      <th>0</th>\n",
       "      <td>424</td>\n",
       "      <td>Cois Abhann na Séad, ar uair bhig an lae, is m...</td>\n",
       "      <td>c51ce410c124a10e0db5e4b97fc2af39</td>\n",
       "      <td>prep6_song_17,phrase_424,time_00-20.wav</td>\n",
       "      <td>17</td>\n",
       "      <td>prep6</td>\n",
       "      <td>ga-IE</td>\n",
       "      <td></td>\n",
       "      <td></td>\n",
       "      <td></td>\n",
       "      <td></td>\n",
       "      <td>female</td>\n",
       "      <td></td>\n",
       "      <td></td>\n",
       "      <td>c51ce410c124a10e0db5e4b97fc2af39</td>\n",
       "      <td>7e876bc23884a32054f4174614bd6176</td>\n",
       "    </tr>\n",
       "    <tr>\n",
       "      <th>1</th>\n",
       "      <td>424</td>\n",
       "      <td>Cois Abhann na Séad, ar uair bhig an lae, is m...</td>\n",
       "      <td>c51ce410c124a10e0db5e4b97fc2af39</td>\n",
       "      <td>prep4_song_17,phrase_424,time_00-20.wav</td>\n",
       "      <td>17</td>\n",
       "      <td>prep4</td>\n",
       "      <td>ga-IE</td>\n",
       "      <td></td>\n",
       "      <td></td>\n",
       "      <td></td>\n",
       "      <td></td>\n",
       "      <td>female</td>\n",
       "      <td></td>\n",
       "      <td></td>\n",
       "      <td>c51ce410c124a10e0db5e4b97fc2af39</td>\n",
       "      <td>7e876bc23884a32054f4174614bd6176</td>\n",
       "    </tr>\n",
       "    <tr>\n",
       "      <th>2</th>\n",
       "      <td>424</td>\n",
       "      <td>Cois Abhann na Séad, ar uair bhig an lae, is m...</td>\n",
       "      <td>c51ce410c124a10e0db5e4b97fc2af39</td>\n",
       "      <td>song_17,phrase_424,time_00-20.wav</td>\n",
       "      <td>17</td>\n",
       "      <td>song</td>\n",
       "      <td>ga-IE</td>\n",
       "      <td></td>\n",
       "      <td></td>\n",
       "      <td></td>\n",
       "      <td></td>\n",
       "      <td>female</td>\n",
       "      <td></td>\n",
       "      <td></td>\n",
       "      <td>c51ce410c124a10e0db5e4b97fc2af39</td>\n",
       "      <td>7e876bc23884a32054f4174614bd6176</td>\n",
       "    </tr>\n",
       "    <tr>\n",
       "      <th>3</th>\n",
       "      <td>424</td>\n",
       "      <td>Cois Abhann na Séad, ar uair bhig an lae, is m...</td>\n",
       "      <td>c51ce410c124a10e0db5e4b97fc2af39</td>\n",
       "      <td>prep5_song_17,phrase_424,time_00-20.wav</td>\n",
       "      <td>17</td>\n",
       "      <td>prep5</td>\n",
       "      <td>ga-IE</td>\n",
       "      <td></td>\n",
       "      <td></td>\n",
       "      <td></td>\n",
       "      <td></td>\n",
       "      <td>female</td>\n",
       "      <td></td>\n",
       "      <td></td>\n",
       "      <td>c51ce410c124a10e0db5e4b97fc2af39</td>\n",
       "      <td>7e876bc23884a32054f4174614bd6176</td>\n",
       "    </tr>\n",
       "    <tr>\n",
       "      <th>4</th>\n",
       "      <td>424</td>\n",
       "      <td>Cois Abhann na Séad, ar uair bhig an lae, is m...</td>\n",
       "      <td>c51ce410c124a10e0db5e4b97fc2af39</td>\n",
       "      <td>prep2_song_17,phrase_424,time_00-20.wav</td>\n",
       "      <td>17</td>\n",
       "      <td>prep2</td>\n",
       "      <td>ga-IE</td>\n",
       "      <td></td>\n",
       "      <td></td>\n",
       "      <td></td>\n",
       "      <td></td>\n",
       "      <td>female</td>\n",
       "      <td></td>\n",
       "      <td></td>\n",
       "      <td>c51ce410c124a10e0db5e4b97fc2af39</td>\n",
       "      <td>7e876bc23884a32054f4174614bd6176</td>\n",
       "    </tr>\n",
       "    <tr>\n",
       "      <th>...</th>\n",
       "      <td>...</td>\n",
       "      <td>...</td>\n",
       "      <td>...</td>\n",
       "      <td>...</td>\n",
       "      <td>...</td>\n",
       "      <td>...</td>\n",
       "      <td>...</td>\n",
       "      <td>...</td>\n",
       "      <td>...</td>\n",
       "      <td>...</td>\n",
       "      <td>...</td>\n",
       "      <td>...</td>\n",
       "      <td>...</td>\n",
       "      <td>...</td>\n",
       "      <td>...</td>\n",
       "      <td>...</td>\n",
       "    </tr>\n",
       "    <tr>\n",
       "      <th>970</th>\n",
       "      <td>1153</td>\n",
       "      <td>'S an téiril éiril eaidí</td>\n",
       "      <td>c51ce410c124a10e0db5e4b97fc2af39</td>\n",
       "      <td>noised_song_47,phrase_1153,time_435-438.wav</td>\n",
       "      <td>47</td>\n",
       "      <td>noised</td>\n",
       "      <td>ga-IE</td>\n",
       "      <td></td>\n",
       "      <td></td>\n",
       "      <td></td>\n",
       "      <td></td>\n",
       "      <td>NaN</td>\n",
       "      <td></td>\n",
       "      <td></td>\n",
       "      <td>c51ce410c124a10e0db5e4b97fc2af39</td>\n",
       "      <td>cf92568f2948815c1e1e74fe00e874eb</td>\n",
       "    </tr>\n",
       "    <tr>\n",
       "      <th>971</th>\n",
       "      <td>1153</td>\n",
       "      <td>'S an téiril éiril eaidí</td>\n",
       "      <td>c51ce410c124a10e0db5e4b97fc2af39</td>\n",
       "      <td>song_47,phrase_1153,time_435-438.wav</td>\n",
       "      <td>47</td>\n",
       "      <td>song</td>\n",
       "      <td>ga-IE</td>\n",
       "      <td></td>\n",
       "      <td></td>\n",
       "      <td></td>\n",
       "      <td></td>\n",
       "      <td>NaN</td>\n",
       "      <td></td>\n",
       "      <td></td>\n",
       "      <td>c51ce410c124a10e0db5e4b97fc2af39</td>\n",
       "      <td>cf92568f2948815c1e1e74fe00e874eb</td>\n",
       "    </tr>\n",
       "    <tr>\n",
       "      <th>972</th>\n",
       "      <td>1154</td>\n",
       "      <td>Téiril éiril é Seán a' bhríste leathair.</td>\n",
       "      <td>c51ce410c124a10e0db5e4b97fc2af39</td>\n",
       "      <td>song_47,phrase_1154,time_438-444.wav</td>\n",
       "      <td>47</td>\n",
       "      <td>song</td>\n",
       "      <td>ga-IE</td>\n",
       "      <td></td>\n",
       "      <td></td>\n",
       "      <td></td>\n",
       "      <td></td>\n",
       "      <td>NaN</td>\n",
       "      <td></td>\n",
       "      <td></td>\n",
       "      <td>c51ce410c124a10e0db5e4b97fc2af39</td>\n",
       "      <td>450532db90098751fb0bccabe174cb4b</td>\n",
       "    </tr>\n",
       "    <tr>\n",
       "      <th>973</th>\n",
       "      <td>1154</td>\n",
       "      <td>Téiril éiril é Seán a' bhríste leathair.</td>\n",
       "      <td>c51ce410c124a10e0db5e4b97fc2af39</td>\n",
       "      <td>noised_song_47,phrase_1154,time_438-444.wav</td>\n",
       "      <td>47</td>\n",
       "      <td>noised</td>\n",
       "      <td>ga-IE</td>\n",
       "      <td></td>\n",
       "      <td></td>\n",
       "      <td></td>\n",
       "      <td></td>\n",
       "      <td>NaN</td>\n",
       "      <td></td>\n",
       "      <td></td>\n",
       "      <td>c51ce410c124a10e0db5e4b97fc2af39</td>\n",
       "      <td>450532db90098751fb0bccabe174cb4b</td>\n",
       "    </tr>\n",
       "    <tr>\n",
       "      <th>974</th>\n",
       "      <td>1154</td>\n",
       "      <td>Téiril éiril é Seán a' bhríste leathair.</td>\n",
       "      <td>c51ce410c124a10e0db5e4b97fc2af39</td>\n",
       "      <td>resampled_song_47,phrase_1154,time_438-444.wav</td>\n",
       "      <td>47</td>\n",
       "      <td>resampled</td>\n",
       "      <td>ga-IE</td>\n",
       "      <td></td>\n",
       "      <td></td>\n",
       "      <td></td>\n",
       "      <td></td>\n",
       "      <td>NaN</td>\n",
       "      <td></td>\n",
       "      <td></td>\n",
       "      <td>c51ce410c124a10e0db5e4b97fc2af39</td>\n",
       "      <td>450532db90098751fb0bccabe174cb4b</td>\n",
       "    </tr>\n",
       "  </tbody>\n",
       "</table>\n",
       "<p>975 rows × 16 columns</p>\n",
       "</div>"
      ]
     },
     "execution_count": 53,
     "metadata": {},
     "output_type": "execute_result"
    }
   ],
   "execution_count": 53
  },
  {
   "metadata": {
    "ExecuteTime": {
     "end_time": "2024-10-08T18:39:18.026509Z",
     "start_time": "2024-10-08T18:39:17.978174Z"
    }
   },
   "cell_type": "code",
   "source": [
    "mask = np.ones(len(final_df), dtype=bool)\n",
    "mask[rm_indcs] = False\n",
    "train_df = final_df.iloc[mask]"
   ],
   "id": "ade6f4d64f752a1",
   "outputs": [],
   "execution_count": 54
  },
  {
   "metadata": {
    "ExecuteTime": {
     "end_time": "2024-10-08T18:39:18.146640Z",
     "start_time": "2024-10-08T18:39:18.106276Z"
    }
   },
   "cell_type": "code",
   "source": [
    "import wave\n",
    "def get_wav_duration(filepath):\n",
    "    with wave.open(filepath, 'rb') as wav_file:\n",
    "        frames = wav_file.getnframes()\n",
    "        rate = wav_file.getframerate()\n",
    "        duration = frames / float(rate)\n",
    "        return int(duration * 1000)  \n",
    "\n",
    "from pydub import AudioSegment\n",
    "def get_wav_durationV2(filepath):\n",
    "    audio = AudioSegment.from_wav(filepath)\n",
    "    duration_ms = len(audio)\n",
    "    return duration_ms"
   ],
   "id": "ebf5ba359be2dd6a",
   "outputs": [],
   "execution_count": 55
  },
  {
   "metadata": {
    "ExecuteTime": {
     "end_time": "2024-10-08T18:39:21.258227Z",
     "start_time": "2024-10-08T18:39:18.160472Z"
    }
   },
   "cell_type": "code",
   "source": [
    "duration_df = []\n",
    "for f in filenames:\n",
    "    fn = os.path.join('clips', f)\n",
    "    duration = get_wav_durationV2(fn)\n",
    "    duration_df.append({'clip': f,  'duration[ms': duration})\n",
    "    \n",
    "pd.DataFrame(duration_df).to_csv('clip_durations.tsv', sep='\\t', index=False)"
   ],
   "id": "6d6195743d74a2fc",
   "outputs": [],
   "execution_count": 56
  },
  {
   "metadata": {
    "ExecuteTime": {
     "end_time": "2024-10-08T18:39:21.338397Z",
     "start_time": "2024-10-08T18:39:21.295588Z"
    }
   },
   "cell_type": "code",
   "source": "dur_df = pd.DataFrame(duration_df)",
   "id": "5477eaec9e63f4d1",
   "outputs": [],
   "execution_count": 57
  },
  {
   "metadata": {
    "ExecuteTime": {
     "end_time": "2024-10-08T18:39:21.405827Z",
     "start_time": "2024-10-08T18:39:21.372075Z"
    }
   },
   "cell_type": "code",
   "source": "dur_df[dur_df['duration[ms']>15_000]['clip'].str.split(\",\").apply(lambda x: x[1]).nunique()",
   "id": "64f5dea214a84be5",
   "outputs": [
    {
     "data": {
      "text/plain": [
       "109"
      ]
     },
     "execution_count": 58,
     "metadata": {},
     "output_type": "execute_result"
    }
   ],
   "execution_count": 58
  },
  {
   "metadata": {
    "ExecuteTime": {
     "end_time": "2024-10-08T18:39:21.528735Z",
     "start_time": "2024-10-08T18:39:21.496158Z"
    }
   },
   "cell_type": "code",
   "source": "keep_phrases = dur_df[dur_df['duration[ms']<15_000]['clip'].values",
   "id": "d476221a7cbd009e",
   "outputs": [],
   "execution_count": 59
  },
  {
   "metadata": {
    "ExecuteTime": {
     "end_time": "2024-10-08T18:43:02.020400Z",
     "start_time": "2024-10-08T18:43:01.964490Z"
    }
   },
   "cell_type": "code",
   "source": "keep_phrases.shape",
   "id": "bd1359668938b922",
   "outputs": [
    {
     "data": {
      "text/plain": [
       "(8518,)"
      ]
     },
     "execution_count": 70,
     "metadata": {},
     "output_type": "execute_result"
    }
   ],
   "execution_count": 70
  },
  {
   "metadata": {
    "ExecuteTime": {
     "end_time": "2024-10-08T18:39:21.594814Z",
     "start_time": "2024-10-08T18:39:21.562326Z"
    }
   },
   "cell_type": "code",
   "source": [
    "train_df = train_df.loc[train_df.path.isin(keep_phrases)]\n",
    "test_df = test_df.loc[test_df.path.isin(keep_phrases)]\n"
   ],
   "id": "fa8b745ee6c42f34",
   "outputs": [],
   "execution_count": 60
  },
  {
   "metadata": {
    "ExecuteTime": {
     "end_time": "2024-10-08T18:39:21.662262Z",
     "start_time": "2024-10-08T18:39:21.624903Z"
    }
   },
   "cell_type": "code",
   "source": [
    "test_df[columns].to_csv('test.tsv', sep='\\t', index=False)\n",
    "train_df[columns].to_csv('train.tsv', sep='\\t', index=False)"
   ],
   "id": "e5c324062ba30af2",
   "outputs": [],
   "execution_count": 61
  },
  {
   "metadata": {
    "ExecuteTime": {
     "end_time": "2024-10-08T18:42:19.058087Z",
     "start_time": "2024-10-08T18:42:18.984497Z"
    }
   },
   "cell_type": "code",
   "source": "dur_df[dur_df['duration[ms']>15_000]['clip'].str.split(\",\").apply(lambda x: x[1])",
   "id": "2ce98e30ab4c3b87",
   "outputs": [
    {
     "data": {
      "text/plain": [
       "29      phrase_747\n",
       "76      phrase_967\n",
       "90      phrase_734\n",
       "91      phrase_424\n",
       "119     phrase_645\n",
       "           ...    \n",
       "8976     phrase_56\n",
       "8995    phrase_667\n",
       "9057     phrase_97\n",
       "9082    phrase_650\n",
       "9109    phrase_669\n",
       "Name: clip, Length: 607, dtype: object"
      ]
     },
     "execution_count": 68,
     "metadata": {},
     "output_type": "execute_result"
    }
   ],
   "execution_count": 68
  },
  {
   "metadata": {
    "ExecuteTime": {
     "end_time": "2024-10-08T18:44:55.057210Z",
     "start_time": "2024-10-08T18:44:54.997390Z"
    }
   },
   "cell_type": "code",
   "source": "train_df",
   "id": "ead56ebadd4cfb30",
   "outputs": [
    {
     "data": {
      "text/plain": [
       "     phrase_number                                           sentence  \\\n",
       "31             427  Do mhúscail an ghrian 'bhí le sealad mór faoi ...   \n",
       "47             428  Ansúd ar dtúis ar imeallaibh ciumhaise coille ...   \n",
       "73             431  Ba ghile í ar a píb ná an eala ar an linn, agu...   \n",
       "104            434  Dob é an chúm slím a lagaigh mé im chroí, le t...   \n",
       "120            872  A ógánaigh an chúil chraobhaigh, cad é an taob...   \n",
       "..             ...                                                ...   \n",
       "970           1153                          'S an téiril éiril eaidí    \n",
       "971           1153                          'S an téiril éiril eaidí    \n",
       "972           1154           Téiril éiril é Seán a' bhríste leathair.   \n",
       "973           1154           Téiril éiril é Seán a' bhríste leathair.   \n",
       "974           1154           Téiril éiril é Seán a' bhríste leathair.   \n",
       "\n",
       "                            client_id  \\\n",
       "31   c51ce410c124a10e0db5e4b97fc2af39   \n",
       "47   c51ce410c124a10e0db5e4b97fc2af39   \n",
       "73   c51ce410c124a10e0db5e4b97fc2af39   \n",
       "104  c51ce410c124a10e0db5e4b97fc2af39   \n",
       "120  c51ce410c124a10e0db5e4b97fc2af39   \n",
       "..                                ...   \n",
       "970  c51ce410c124a10e0db5e4b97fc2af39   \n",
       "971  c51ce410c124a10e0db5e4b97fc2af39   \n",
       "972  c51ce410c124a10e0db5e4b97fc2af39   \n",
       "973  c51ce410c124a10e0db5e4b97fc2af39   \n",
       "974  c51ce410c124a10e0db5e4b97fc2af39   \n",
       "\n",
       "                                               path song phrase_version  \\\n",
       "31         prep1_song_17,phrase_427,time_59-119.wav   17          prep1   \n",
       "47        prep1_song_17,phrase_428,time_119-137.wav   17          prep1   \n",
       "73        prep1_song_17,phrase_431,time_217-236.wav   17          prep1   \n",
       "104       prep1_song_17,phrase_434,time_316-336.wav   17          prep1   \n",
       "120     resampled_song_40,phrase_872,time_00-15.wav   40      resampled   \n",
       "..                                              ...  ...            ...   \n",
       "970     noised_song_47,phrase_1153,time_435-438.wav   47         noised   \n",
       "971            song_47,phrase_1153,time_435-438.wav   47           song   \n",
       "972            song_47,phrase_1154,time_438-444.wav   47           song   \n",
       "973     noised_song_47,phrase_1154,time_438-444.wav   47         noised   \n",
       "974  resampled_song_47,phrase_1154,time_438-444.wav   47      resampled   \n",
       "\n",
       "    locale sentence_domain up_votes down_votes age  gender accents variant  \\\n",
       "31   ga-IE                                          female                   \n",
       "47   ga-IE                                          female                   \n",
       "73   ga-IE                                          female                   \n",
       "104  ga-IE                                          female                   \n",
       "120  ga-IE                                             NaN                   \n",
       "..     ...             ...      ...        ...  ..     ...     ...     ...   \n",
       "970  ga-IE                                             NaN                   \n",
       "971  ga-IE                                             NaN                   \n",
       "972  ga-IE                                             NaN                   \n",
       "973  ga-IE                                             NaN                   \n",
       "974  ga-IE                                             NaN                   \n",
       "\n",
       "                            singer_id                       sentence_id  \n",
       "31   c51ce410c124a10e0db5e4b97fc2af39  e6fcc07ac7162dee5cbe59b0938210cc  \n",
       "47   c51ce410c124a10e0db5e4b97fc2af39  6a5c67dbed9f82e7a987b03faac592fe  \n",
       "73   c51ce410c124a10e0db5e4b97fc2af39  e68b7439e90fc65bc6cd3b2431bab1d8  \n",
       "104  c51ce410c124a10e0db5e4b97fc2af39  470b5c1c17c482a0ecfbfbc5896780bf  \n",
       "120  c51ce410c124a10e0db5e4b97fc2af39  78f5ed77de274b436b83b42573515a7b  \n",
       "..                                ...                               ...  \n",
       "970  c51ce410c124a10e0db5e4b97fc2af39  cf92568f2948815c1e1e74fe00e874eb  \n",
       "971  c51ce410c124a10e0db5e4b97fc2af39  cf92568f2948815c1e1e74fe00e874eb  \n",
       "972  c51ce410c124a10e0db5e4b97fc2af39  450532db90098751fb0bccabe174cb4b  \n",
       "973  c51ce410c124a10e0db5e4b97fc2af39  450532db90098751fb0bccabe174cb4b  \n",
       "974  c51ce410c124a10e0db5e4b97fc2af39  450532db90098751fb0bccabe174cb4b  \n",
       "\n",
       "[836 rows x 16 columns]"
      ],
      "text/html": [
       "<div>\n",
       "<style scoped>\n",
       "    .dataframe tbody tr th:only-of-type {\n",
       "        vertical-align: middle;\n",
       "    }\n",
       "\n",
       "    .dataframe tbody tr th {\n",
       "        vertical-align: top;\n",
       "    }\n",
       "\n",
       "    .dataframe thead th {\n",
       "        text-align: right;\n",
       "    }\n",
       "</style>\n",
       "<table border=\"1\" class=\"dataframe\">\n",
       "  <thead>\n",
       "    <tr style=\"text-align: right;\">\n",
       "      <th></th>\n",
       "      <th>phrase_number</th>\n",
       "      <th>sentence</th>\n",
       "      <th>client_id</th>\n",
       "      <th>path</th>\n",
       "      <th>song</th>\n",
       "      <th>phrase_version</th>\n",
       "      <th>locale</th>\n",
       "      <th>sentence_domain</th>\n",
       "      <th>up_votes</th>\n",
       "      <th>down_votes</th>\n",
       "      <th>age</th>\n",
       "      <th>gender</th>\n",
       "      <th>accents</th>\n",
       "      <th>variant</th>\n",
       "      <th>singer_id</th>\n",
       "      <th>sentence_id</th>\n",
       "    </tr>\n",
       "  </thead>\n",
       "  <tbody>\n",
       "    <tr>\n",
       "      <th>31</th>\n",
       "      <td>427</td>\n",
       "      <td>Do mhúscail an ghrian 'bhí le sealad mór faoi ...</td>\n",
       "      <td>c51ce410c124a10e0db5e4b97fc2af39</td>\n",
       "      <td>prep1_song_17,phrase_427,time_59-119.wav</td>\n",
       "      <td>17</td>\n",
       "      <td>prep1</td>\n",
       "      <td>ga-IE</td>\n",
       "      <td></td>\n",
       "      <td></td>\n",
       "      <td></td>\n",
       "      <td></td>\n",
       "      <td>female</td>\n",
       "      <td></td>\n",
       "      <td></td>\n",
       "      <td>c51ce410c124a10e0db5e4b97fc2af39</td>\n",
       "      <td>e6fcc07ac7162dee5cbe59b0938210cc</td>\n",
       "    </tr>\n",
       "    <tr>\n",
       "      <th>47</th>\n",
       "      <td>428</td>\n",
       "      <td>Ansúd ar dtúis ar imeallaibh ciumhaise coille ...</td>\n",
       "      <td>c51ce410c124a10e0db5e4b97fc2af39</td>\n",
       "      <td>prep1_song_17,phrase_428,time_119-137.wav</td>\n",
       "      <td>17</td>\n",
       "      <td>prep1</td>\n",
       "      <td>ga-IE</td>\n",
       "      <td></td>\n",
       "      <td></td>\n",
       "      <td></td>\n",
       "      <td></td>\n",
       "      <td>female</td>\n",
       "      <td></td>\n",
       "      <td></td>\n",
       "      <td>c51ce410c124a10e0db5e4b97fc2af39</td>\n",
       "      <td>6a5c67dbed9f82e7a987b03faac592fe</td>\n",
       "    </tr>\n",
       "    <tr>\n",
       "      <th>73</th>\n",
       "      <td>431</td>\n",
       "      <td>Ba ghile í ar a píb ná an eala ar an linn, agu...</td>\n",
       "      <td>c51ce410c124a10e0db5e4b97fc2af39</td>\n",
       "      <td>prep1_song_17,phrase_431,time_217-236.wav</td>\n",
       "      <td>17</td>\n",
       "      <td>prep1</td>\n",
       "      <td>ga-IE</td>\n",
       "      <td></td>\n",
       "      <td></td>\n",
       "      <td></td>\n",
       "      <td></td>\n",
       "      <td>female</td>\n",
       "      <td></td>\n",
       "      <td></td>\n",
       "      <td>c51ce410c124a10e0db5e4b97fc2af39</td>\n",
       "      <td>e68b7439e90fc65bc6cd3b2431bab1d8</td>\n",
       "    </tr>\n",
       "    <tr>\n",
       "      <th>104</th>\n",
       "      <td>434</td>\n",
       "      <td>Dob é an chúm slím a lagaigh mé im chroí, le t...</td>\n",
       "      <td>c51ce410c124a10e0db5e4b97fc2af39</td>\n",
       "      <td>prep1_song_17,phrase_434,time_316-336.wav</td>\n",
       "      <td>17</td>\n",
       "      <td>prep1</td>\n",
       "      <td>ga-IE</td>\n",
       "      <td></td>\n",
       "      <td></td>\n",
       "      <td></td>\n",
       "      <td></td>\n",
       "      <td>female</td>\n",
       "      <td></td>\n",
       "      <td></td>\n",
       "      <td>c51ce410c124a10e0db5e4b97fc2af39</td>\n",
       "      <td>470b5c1c17c482a0ecfbfbc5896780bf</td>\n",
       "    </tr>\n",
       "    <tr>\n",
       "      <th>120</th>\n",
       "      <td>872</td>\n",
       "      <td>A ógánaigh an chúil chraobhaigh, cad é an taob...</td>\n",
       "      <td>c51ce410c124a10e0db5e4b97fc2af39</td>\n",
       "      <td>resampled_song_40,phrase_872,time_00-15.wav</td>\n",
       "      <td>40</td>\n",
       "      <td>resampled</td>\n",
       "      <td>ga-IE</td>\n",
       "      <td></td>\n",
       "      <td></td>\n",
       "      <td></td>\n",
       "      <td></td>\n",
       "      <td>NaN</td>\n",
       "      <td></td>\n",
       "      <td></td>\n",
       "      <td>c51ce410c124a10e0db5e4b97fc2af39</td>\n",
       "      <td>78f5ed77de274b436b83b42573515a7b</td>\n",
       "    </tr>\n",
       "    <tr>\n",
       "      <th>...</th>\n",
       "      <td>...</td>\n",
       "      <td>...</td>\n",
       "      <td>...</td>\n",
       "      <td>...</td>\n",
       "      <td>...</td>\n",
       "      <td>...</td>\n",
       "      <td>...</td>\n",
       "      <td>...</td>\n",
       "      <td>...</td>\n",
       "      <td>...</td>\n",
       "      <td>...</td>\n",
       "      <td>...</td>\n",
       "      <td>...</td>\n",
       "      <td>...</td>\n",
       "      <td>...</td>\n",
       "      <td>...</td>\n",
       "    </tr>\n",
       "    <tr>\n",
       "      <th>970</th>\n",
       "      <td>1153</td>\n",
       "      <td>'S an téiril éiril eaidí</td>\n",
       "      <td>c51ce410c124a10e0db5e4b97fc2af39</td>\n",
       "      <td>noised_song_47,phrase_1153,time_435-438.wav</td>\n",
       "      <td>47</td>\n",
       "      <td>noised</td>\n",
       "      <td>ga-IE</td>\n",
       "      <td></td>\n",
       "      <td></td>\n",
       "      <td></td>\n",
       "      <td></td>\n",
       "      <td>NaN</td>\n",
       "      <td></td>\n",
       "      <td></td>\n",
       "      <td>c51ce410c124a10e0db5e4b97fc2af39</td>\n",
       "      <td>cf92568f2948815c1e1e74fe00e874eb</td>\n",
       "    </tr>\n",
       "    <tr>\n",
       "      <th>971</th>\n",
       "      <td>1153</td>\n",
       "      <td>'S an téiril éiril eaidí</td>\n",
       "      <td>c51ce410c124a10e0db5e4b97fc2af39</td>\n",
       "      <td>song_47,phrase_1153,time_435-438.wav</td>\n",
       "      <td>47</td>\n",
       "      <td>song</td>\n",
       "      <td>ga-IE</td>\n",
       "      <td></td>\n",
       "      <td></td>\n",
       "      <td></td>\n",
       "      <td></td>\n",
       "      <td>NaN</td>\n",
       "      <td></td>\n",
       "      <td></td>\n",
       "      <td>c51ce410c124a10e0db5e4b97fc2af39</td>\n",
       "      <td>cf92568f2948815c1e1e74fe00e874eb</td>\n",
       "    </tr>\n",
       "    <tr>\n",
       "      <th>972</th>\n",
       "      <td>1154</td>\n",
       "      <td>Téiril éiril é Seán a' bhríste leathair.</td>\n",
       "      <td>c51ce410c124a10e0db5e4b97fc2af39</td>\n",
       "      <td>song_47,phrase_1154,time_438-444.wav</td>\n",
       "      <td>47</td>\n",
       "      <td>song</td>\n",
       "      <td>ga-IE</td>\n",
       "      <td></td>\n",
       "      <td></td>\n",
       "      <td></td>\n",
       "      <td></td>\n",
       "      <td>NaN</td>\n",
       "      <td></td>\n",
       "      <td></td>\n",
       "      <td>c51ce410c124a10e0db5e4b97fc2af39</td>\n",
       "      <td>450532db90098751fb0bccabe174cb4b</td>\n",
       "    </tr>\n",
       "    <tr>\n",
       "      <th>973</th>\n",
       "      <td>1154</td>\n",
       "      <td>Téiril éiril é Seán a' bhríste leathair.</td>\n",
       "      <td>c51ce410c124a10e0db5e4b97fc2af39</td>\n",
       "      <td>noised_song_47,phrase_1154,time_438-444.wav</td>\n",
       "      <td>47</td>\n",
       "      <td>noised</td>\n",
       "      <td>ga-IE</td>\n",
       "      <td></td>\n",
       "      <td></td>\n",
       "      <td></td>\n",
       "      <td></td>\n",
       "      <td>NaN</td>\n",
       "      <td></td>\n",
       "      <td></td>\n",
       "      <td>c51ce410c124a10e0db5e4b97fc2af39</td>\n",
       "      <td>450532db90098751fb0bccabe174cb4b</td>\n",
       "    </tr>\n",
       "    <tr>\n",
       "      <th>974</th>\n",
       "      <td>1154</td>\n",
       "      <td>Téiril éiril é Seán a' bhríste leathair.</td>\n",
       "      <td>c51ce410c124a10e0db5e4b97fc2af39</td>\n",
       "      <td>resampled_song_47,phrase_1154,time_438-444.wav</td>\n",
       "      <td>47</td>\n",
       "      <td>resampled</td>\n",
       "      <td>ga-IE</td>\n",
       "      <td></td>\n",
       "      <td></td>\n",
       "      <td></td>\n",
       "      <td></td>\n",
       "      <td>NaN</td>\n",
       "      <td></td>\n",
       "      <td></td>\n",
       "      <td>c51ce410c124a10e0db5e4b97fc2af39</td>\n",
       "      <td>450532db90098751fb0bccabe174cb4b</td>\n",
       "    </tr>\n",
       "  </tbody>\n",
       "</table>\n",
       "<p>836 rows × 16 columns</p>\n",
       "</div>"
      ]
     },
     "execution_count": 71,
     "metadata": {},
     "output_type": "execute_result"
    }
   ],
   "execution_count": 71
  }
 ],
 "metadata": {
  "kernelspec": {
   "display_name": "Python 3",
   "language": "python",
   "name": "python3"
  },
  "language_info": {
   "codemirror_mode": {
    "name": "ipython",
    "version": 2
   },
   "file_extension": ".py",
   "mimetype": "text/x-python",
   "name": "python",
   "nbconvert_exporter": "python",
   "pygments_lexer": "ipython2",
   "version": "2.7.6"
  }
 },
 "nbformat": 4,
 "nbformat_minor": 5
}
