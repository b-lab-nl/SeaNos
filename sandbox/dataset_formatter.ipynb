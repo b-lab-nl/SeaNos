{
 "cells": [
  {
   "metadata": {
    "ExecuteTime": {
     "end_time": "2024-10-09T14:46:26.037197Z",
     "start_time": "2024-10-09T14:46:26.003487Z"
    }
   },
   "cell_type": "code",
   "source": [
    "'''\n",
    "We ingest the data.ods and reformat to\n",
    "client_id \\t path \\t sentence_id \\t sentence \\t locale\n",
    "\n",
    "Here\n",
    "client_id is a unique identifier for the song\n",
    "path is a path to the song\n",
    "sentence_id is a unique identifier for the sentence\n",
    "sentence is the Gaelic text\n",
    "sentence_domain=up_votes=down_votes=age=gender=accents=variant\n",
    "locale is set to ga-IE\n",
    "\n",
    "The client_id can be extracted from the filename \"song_x,..wav\"\n",
    "The sentence_id can be extracted from the \"..., phrase_xx..wav\"\n",
    "\n",
    "The filenames can be coupled to the filenames via the phrase_number, which is in on the data.ods\n",
    "'''\n"
   ],
   "id": "7b63461d10852377",
   "outputs": [
    {
     "data": {
      "text/plain": [
       "'\\nWe ingest the data.ods and reformat to\\nclient_id \\t path \\t sentence_id \\t sentence \\t locale\\n\\nHere\\nclient_id is a unique identifier for the song\\npath is a path to the song\\nsentence_id is a unique identifier for the sentence\\nsentence is the Gaelic text\\nsentence_domain=up_votes=down_votes=age=gender=accents=variant\\nlocale is set to ga-IE\\n\\nThe client_id can be extracted from the filename \"song_x,..wav\"\\nThe sentence_id can be extracted from the \"..., phrase_xx..wav\"\\n\\nThe filenames can be coupled to the filenames via the phrase_number, which is in on the data.ods\\n'"
      ]
     },
     "execution_count": 1,
     "metadata": {},
     "output_type": "execute_result"
    }
   ],
   "execution_count": 1
  },
  {
   "metadata": {
    "ExecuteTime": {
     "end_time": "2024-10-09T14:46:26.649610Z",
     "start_time": "2024-10-09T14:46:26.116782Z"
    }
   },
   "cell_type": "code",
   "source": [
    "%load_ext autoreload\n",
    "%autoreload 2\n",
    "import os\n",
    "import re\n",
    "import hashlib\n",
    "import pandas as pd\n",
    "import numpy as np\n",
    "from tqdm import tqdm"
   ],
   "id": "e2484a0f5dea91a6",
   "outputs": [],
   "execution_count": 2
  },
  {
   "metadata": {
    "ExecuteTime": {
     "end_time": "2024-10-09T14:46:26.838929Z",
     "start_time": "2024-10-09T14:46:26.822230Z"
    }
   },
   "cell_type": "code",
   "source": [
    "GET_PHONEMES = False\n",
    "INCLUDE_SINGERS = [5, 10, 21, 25, 26, 13] #, if None then keep all"
   ],
   "id": "fe02431ded2bde0a",
   "outputs": [],
   "execution_count": 3
  },
  {
   "metadata": {
    "ExecuteTime": {
     "end_time": "2024-10-09T14:46:26.884057Z",
     "start_time": "2024-10-09T14:46:26.866132Z"
    }
   },
   "cell_type": "code",
   "source": "os.chdir('/media/bramiozo/DATA-FAST/TTS/tts_models/gle/seannos_datasource')",
   "id": "f897864e2adefed1",
   "outputs": [],
   "execution_count": 4
  },
  {
   "metadata": {
    "ExecuteTime": {
     "end_time": "2024-10-09T14:46:27.663553Z",
     "start_time": "2024-10-09T14:46:26.915737Z"
    }
   },
   "cell_type": "code",
   "source": "lyrics_original =  pd.read_excel('dataset_lyrics/lyrics.ods')",
   "id": "5c6e2d153be528f6",
   "outputs": [],
   "execution_count": 5
  },
  {
   "metadata": {
    "ExecuteTime": {
     "end_time": "2024-10-09T14:46:27.712716Z",
     "start_time": "2024-10-09T14:46:27.690609Z"
    }
   },
   "cell_type": "code",
   "source": "lyrics_original.dtypes",
   "id": "2d3dd7398cbd91d6",
   "outputs": [
    {
     "data": {
      "text/plain": [
       "phrase_number     int64\n",
       "singer           object\n",
       "sentence         object\n",
       "Title            object\n",
       "English          object\n",
       "dtype: object"
      ]
     },
     "execution_count": 6,
     "metadata": {},
     "output_type": "execute_result"
    }
   ],
   "execution_count": 6
  },
  {
   "metadata": {
    "ExecuteTime": {
     "end_time": "2024-10-09T14:46:27.774207Z",
     "start_time": "2024-10-09T14:46:27.755286Z"
    }
   },
   "cell_type": "code",
   "source": [
    "def get_song_str(fn):\n",
    "    part_1 = (fn.split(',')[0]).strip()\n",
    "    part_2 = part_1.split(\"_\")[-2:]\n",
    "    return \"_\".join(part_2)"
   ],
   "id": "819cf68f4682ad86",
   "outputs": [],
   "execution_count": 7
  },
  {
   "metadata": {
    "ExecuteTime": {
     "end_time": "2024-10-09T14:46:27.842311Z",
     "start_time": "2024-10-09T14:46:27.823722Z"
    }
   },
   "cell_type": "code",
   "source": [
    "# prep1, prep2, prep3, prep4, prep6, prep7 in combination with the singer should be denoted as unique singers\n",
    "unique_preps = ['prep1', 'prep2', 'prep3', 'prep4', 'prep6', 'prep7']"
   ],
   "id": "85bbe0bf293453f8",
   "outputs": [],
   "execution_count": 8
  },
  {
   "metadata": {
    "ExecuteTime": {
     "end_time": "2024-10-09T14:46:27.946543Z",
     "start_time": "2024-10-09T14:46:27.862044Z"
    }
   },
   "cell_type": "code",
   "source": [
    "filenames = os.listdir('clips')\n",
    "\n",
    "file_df = pd.DataFrame([{'client_id': hashlib.md5(b\"\"+(f\"{get_song_str(s)}\").encode(\"latin1\")).hexdigest(),\n",
    "  'path': s,\n",
    "  'song': s.split(\",\")[0].strip().split(\"_\")[-1],\n",
    "  'phrase_version': s.split(\"_\")[0],\n",
    "  'phrase_number': int(s.split(',')[1].strip().split(\"_\")[1])\n",
    "  } for s in filenames])"
   ],
   "id": "c38f20cb39ac9220",
   "outputs": [],
   "execution_count": 9
  },
  {
   "metadata": {
    "ExecuteTime": {
     "end_time": "2024-10-09T14:46:28.029696Z",
     "start_time": "2024-10-09T14:46:28.000281Z"
    }
   },
   "cell_type": "code",
   "source": "final_df = lyrics_original[['phrase_number', 'sentence', 'singer']].merge(file_df, how='inner', on='phrase_number')",
   "id": "4fd8f1d71999b637",
   "outputs": [],
   "execution_count": 10
  },
  {
   "metadata": {
    "ExecuteTime": {
     "end_time": "2024-10-09T14:46:28.070655Z",
     "start_time": "2024-10-09T14:46:28.047671Z"
    }
   },
   "cell_type": "code",
   "source": [
    "if isinstance(INCLUDE_SINGERS, list):\n",
    "    final_df = final_df[final_df.singer.isin(INCLUDE_SINGERS)].reset_index(drop=True)"
   ],
   "id": "65bbe4e490ed205e",
   "outputs": [],
   "execution_count": 11
  },
  {
   "metadata": {
    "ExecuteTime": {
     "end_time": "2024-10-09T14:46:28.132702Z",
     "start_time": "2024-10-09T14:46:28.102878Z"
    }
   },
   "cell_type": "code",
   "source": [
    "final_df = final_df.assign(locale='ga-IE')\n",
    "final_df = final_df.assign(sentence_domain='')\n",
    "final_df = final_df.assign(up_votes='')\n",
    "final_df = final_df.assign(down_votes='')\n",
    "final_df = final_df.assign(age='')\n",
    "final_df = final_df.assign(gender='')\n",
    "final_df = final_df.assign(accents='')\n",
    "final_df = final_df.assign(variant='')"
   ],
   "id": "58ea882dcab884",
   "outputs": [],
   "execution_count": 12
  },
  {
   "metadata": {
    "ExecuteTime": {
     "end_time": "2024-10-09T14:46:28.182035Z",
     "start_time": "2024-10-09T14:46:28.159342Z"
    }
   },
   "cell_type": "code",
   "source": [
    "gender_map = {\n",
    "    '1': 'male',\n",
    "    '2': 'female',\n",
    "    '3': 'female',\n",
    "    '4': 'male',\n",
    "    '5': 'female',\n",
    "    '6': 'female', \n",
    "    '7': 'male',\n",
    "    '8': 'male',\n",
    "    '9': 'male',\n",
    "    '11': 'female',\n",
    "    '12': 'female',\n",
    "    '13': 'female',\n",
    "    '14': 'female',\n",
    "    '15': 'male',\n",
    "    '16': 'male',\n",
    "    '17': 'female',\n",
    "    '18': 'male',\n",
    "    '19': 'male',\n",
    "    '22': 'female',\n",
    "    '23': 'female',\n",
    "    '24': 'female',\n",
    "    '25': 'female',\n",
    "    '26': 'female',\n",
    "    '27': 'female',\n",
    "    '28': 'female',\n",
    "    '29': 'female',\n",
    "    '30': 'male',\n",
    "    '31': 'female',\n",
    "    '32': 'female', \n",
    "    '33': 'female',\n",
    "    '34': 'female',\n",
    "    '35': 'female',\n",
    "    '36': 'female',\n",
    "    '37': 'female',\n",
    "    '38': 'male',\n",
    "    '39': 'female',   \n",
    "}\n",
    "\n",
    "client_map = {\n",
    "    'fb10b1b655a2b34af288a4ff51460080': 'female',\n",
    "    'eb6e87c69c6bb1914b33b66e22c43b22': 'female',\n",
    "    'ce29c518eaf3469a00c1b49df4a6fa58': 'female',\n",
    "    'b9ce569cc8664a79633c2e49b6951772': 'female',\n",
    "    'b501dd4c046f528a66c085a29a77fa96': 'female',\n",
    "    'ad7c36b78f0904b97958275bc316fc4a': 'female',\n",
    "    'a168b2952fd26fad6352725ad5d32c89': 'male',\n",
    "    'a05faf2da14346a9eebcb1cef52cdf70': 'male',\n",
    "    '9d6bf453b18c2401cf42e86fd7084048': 'male',\n",
    "    '9be4875162b0b52ac5853090d9816d9e': 'female',\n",
    "    '8a3d80b09d305f7e61710569dacd7b8a': 'male',\n",
    "    '82072466fe7e953258121bfed776c4c8': 'male',\n",
    "    '8059835b0296b8f2d8f88ee9d5ff2bc1': 'female',\n",
    "    '7cc5fa83c13a9bba0058047168213fd3': 'female',\n",
    "    '7396e94dda5897f01e213ea8895f5f34': 'female',\n",
    "    '6685ae01c52fccb1b73d803bc0ac65f2': 'female',\n",
    "    '5d179b5ee524d198cb483c6b6ff22e56': 'female',\n",
    "    '5641ceb7957ec589f136638189c5fc5d': 'male',\n",
    "    '53deaae6c3c39e7db142a88fb1859ba8': 'female',\n",
    "    '5200d298dcdf65f11f9b738a8b0b68dd': 'male',\n",
    "    '42a114cfae45f0e7562ecee67c7c4b9b': 'female',\n",
    "    '40b30d9f3e6d06f3d9cc6d118b04fda7': 'male',\n",
    "    '3f4d025bf63ba0bd11873d448217c394': 'female',\n",
    "    '3c514de0167d3e12cda5f1221269ccfa': 'male',\n",
    "    '3b1b99b2d042b9228b9b6ed7ba6ef0cf': 'female',\n",
    "    '2d6587eaf934b300a40091b3df85ce66': 'female',\n",
    "    '2bfd305a6c139c602fcf11065c368d67': 'male',\n",
    "    '23f2d50b628d98ecd1458b53ebd1e0c4': 'male',\n",
    "    '24b00678a1add71b1a69837a0e2478c1': 'female',\n",
    "    '5599a98ac42fb2d3b2618ca52d4ee48c': 'female',\n",
    "    'e687cfb58aa0a2abf7dc596503cfcf68': 'female',\n",
    "    '666ac977145186527ee2ee11e0b8335e': 'female',\n",
    "    '40291794d294568b8e881d84b63b4d4a': 'female',\n",
    "    '717a92c1cd9b05391b5e20b6ddb6e98e': 'female',\n",
    "    '03c0170448334d0b0cfab68ee3690b7c': 'male',\n",
    "    'e30aaf33d6b93dc7b766641a2a03efc1': 'female'\n",
    "}\n",
    "\n",
    "good_singers = {\n",
    "    1: '24b00678a1add71b1a69837a0e2478c1',\n",
    "    2: 'e30aaf33d6b93dc7b766641a2a03efc1',\n",
    "    3: 'fb10b1b655a2b34af288a4ff51460080',\n",
    "    4: 'b9ce569cc8664a79633c2e49b6951772', \n",
    "    5: '7396e94dda5897f01e213ea8895f5f34',\n",
    "    6: 'ce29c518eaf3469a00c1b49df4a6fa58'\n",
    "}\n",
    "\n"
   ],
   "id": "ea7fd35e023e7534",
   "outputs": [],
   "execution_count": 13
  },
  {
   "metadata": {
    "ExecuteTime": {
     "end_time": "2024-10-09T14:46:28.234415Z",
     "start_time": "2024-10-09T14:46:28.209391Z"
    }
   },
   "cell_type": "code",
   "source": [
    "final_df = final_df.assign(gender=final_df.song.map(gender_map))\n",
    "#final_df = final_df.assign(client_id=final_df.client_id.map(client_map))"
   ],
   "id": "91c91867d279edc5",
   "outputs": [],
   "execution_count": 14
  },
  {
   "metadata": {
    "ExecuteTime": {
     "end_time": "2024-10-09T14:46:59.870525Z",
     "start_time": "2024-10-09T14:46:59.749654Z"
    }
   },
   "cell_type": "code",
   "source": "final_df = final_df.assign(singer=final_df[['singer', 'phrase_version']].apply(lambda x: str(x['singer'])+\"_\"+x['phrase_version'] if x['phrase_version'] in unique_preps else str(x['singer']), axis=1))",
   "id": "e317357ac8e74d64",
   "outputs": [],
   "execution_count": 16
  },
  {
   "metadata": {
    "ExecuteTime": {
     "end_time": "2024-10-09T14:47:19.352712Z",
     "start_time": "2024-10-09T14:47:19.303512Z"
    }
   },
   "cell_type": "code",
   "source": [
    "# replace client_id by singer \n",
    "final_df = final_df.assign(singer_id=final_df.singer.apply(lambda x: hashlib.md5(b\"\"+str(x).encode(\"latin1\")).hexdigest()))"
   ],
   "id": "fd8defac4113483f",
   "outputs": [],
   "execution_count": 18
  },
  {
   "metadata": {
    "ExecuteTime": {
     "end_time": "2024-10-09T14:47:22.494489Z",
     "start_time": "2024-10-09T14:47:22.452940Z"
    }
   },
   "cell_type": "code",
   "source": "final_df.loc[final_df.client_id.isin(good_singers.values()), 'singer_id'].unique() ",
   "id": "d12f181f7367ed60",
   "outputs": [
    {
     "data": {
      "text/plain": [
       "array(['e4da3b7fbbce2345d7772b0674a318d5',\n",
       "       '80a18697034df465b1389c83a162671e',\n",
       "       'fbb1a0cf39f11efcc031d950dabb052e',\n",
       "       '4f3f568df915f015a687e805eb9df1ad',\n",
       "       '0528c8bed09c276fb6ab058820dbf9e0',\n",
       "       '8e4521f661be9f290754b628b13287cd',\n",
       "       'b6dae536607dde3f4bd703e4ce4503a9',\n",
       "       'b17c83db240d11a6fad46d0ae192919c',\n",
       "       '348205306660c48601127bb527ae6236',\n",
       "       '0e0de9a39de96770d50e6fedbcaf0f69',\n",
       "       'cf578dcbc64593a2fe63fc4fc5cddb24',\n",
       "       'd3d9446802a44259755d38e6d163e820',\n",
       "       '07974b511961d09cb0da27c0c959ab8d',\n",
       "       '51ea13b61ee913ae2b476d4f3f097641',\n",
       "       '8035d82adb0d3c555a7385dd71334b89',\n",
       "       '48f201c41da12785c261609464a62844',\n",
       "       'c51ce410c124a10e0db5e4b97fc2af39',\n",
       "       'cd05f37a6461cac7c1bcb5821eeba956',\n",
       "       '381e184749c2bc3f6a695c37268cbf81',\n",
       "       '6eddcfa61c78714480dd473a20b70af5',\n",
       "       'e83d77f90f9ba19d248c1bade97829fe',\n",
       "       '8895fb4495a5bca3662764c443b88ef9',\n",
       "       '68a4cdad6eb440a9c9e3668966f6e48e',\n",
       "       '3c59dc048e8850243be8079a5c74d079',\n",
       "       '9b43cdc2c405f95725237e6322b6a0a9',\n",
       "       '1435de22b9df4a83b5e1898c05995708',\n",
       "       '29dde39c77349849ec9558b18f09c4b0',\n",
       "       'b8f29282de3b56f0e7c2004e7692ff39',\n",
       "       '8e296a067a37563370ded05f5a3bf3ec',\n",
       "       '2f41f89e857d722b932dfdfccaaf6c83',\n",
       "       'ce2ef5c687d84058de94ed02c585e09c',\n",
       "       '27f28bd5857e9d48438d7ecbb8e530bb',\n",
       "       '1fdf088d8283fdec89062842d6015afb',\n",
       "       '4fe8ef5361fc005e1c1e37f688244f79',\n",
       "       'be9173972e6d7552e4df4a1fed3eb53a',\n",
       "       '4e732ced3463d06de0ca9a15b6153677',\n",
       "       '6c5c6dde1a52adb93b7c14887f3f8c00',\n",
       "       '50845f6ca0aede609736d33690729e81',\n",
       "       'b1b62ea0859f5101b81220c5864923e9',\n",
       "       'fa2987150f77ab01173f94023daa8834',\n",
       "       '2dcbc1a39a13a76aea6c2cac73fb55ea',\n",
       "       'ced7b39ee64b2e1a56cc3e580ed79eec'], dtype=object)"
      ]
     },
     "execution_count": 19,
     "metadata": {},
     "output_type": "execute_result"
    }
   ],
   "execution_count": 19
  },
  {
   "metadata": {
    "ExecuteTime": {
     "end_time": "2024-10-09T14:47:22.899666Z",
     "start_time": "2024-10-09T14:47:22.858346Z"
    }
   },
   "cell_type": "code",
   "source": "final_df.loc[final_df.client_id.isin(good_singers.values()), 'singer'].unique()",
   "id": "c2d7e4908658afcc",
   "outputs": [
    {
     "data": {
      "text/plain": [
       "array(['5', '5_prep7', '5_prep1', '5_prep4', '5_prep3', '5_prep6',\n",
       "       '5_prep2', '10_prep3', '10_prep7', '10_prep2', '10_prep1', '10',\n",
       "       '10_prep4', '10_prep6', '13_prep6', '13_prep4', '13', '13_prep2',\n",
       "       '13_prep3', '13_prep7', '13_prep1', '21_prep7', '21_prep2', '21',\n",
       "       '21_prep3', '21_prep1', '21_prep6', '21_prep4', '25', '25_prep3',\n",
       "       '25_prep4', '25_prep7', '25_prep1', '25_prep6', '25_prep2', '26',\n",
       "       '26_prep3', '26_prep7', '26_prep6', '26_prep4', '26_prep2',\n",
       "       '26_prep1'], dtype=object)"
      ]
     },
     "execution_count": 20,
     "metadata": {},
     "output_type": "execute_result"
    }
   ],
   "execution_count": 20
  },
  {
   "metadata": {
    "ExecuteTime": {
     "end_time": "2024-10-09T14:47:29.820205Z",
     "start_time": "2024-10-09T14:47:29.779562Z"
    }
   },
   "cell_type": "code",
   "source": "final_df.client_id.nunique(), final_df.singer_id.nunique(),",
   "id": "31225d479177c824",
   "outputs": [
    {
     "data": {
      "text/plain": [
       "(19, 42)"
      ]
     },
     "execution_count": 21,
     "metadata": {},
     "output_type": "execute_result"
    }
   ],
   "execution_count": 21
  },
  {
   "metadata": {
    "ExecuteTime": {
     "end_time": "2024-10-09T14:47:38.857688Z",
     "start_time": "2024-10-09T14:47:38.818763Z"
    }
   },
   "cell_type": "code",
   "source": "final_df.client_id = final_df.singer_id",
   "id": "26bd2eb07e234431",
   "outputs": [],
   "execution_count": 22
  },
  {
   "metadata": {
    "ExecuteTime": {
     "end_time": "2024-10-09T14:47:39.189115Z",
     "start_time": "2024-10-09T14:47:39.146414Z"
    }
   },
   "cell_type": "code",
   "source": "final_df = final_df.dropna(subset=['sentence'], axis=0)",
   "id": "4e1ab175f378a13a",
   "outputs": [],
   "execution_count": 23
  },
  {
   "metadata": {
    "ExecuteTime": {
     "end_time": "2024-10-09T14:47:39.783011Z",
     "start_time": "2024-10-09T14:47:39.755511Z"
    }
   },
   "cell_type": "code",
   "source": "final_df = final_df.assign(sentence_id = final_df.sentence.apply(lambda s: hashlib.md5(s.encode(\"utf-8\")).hexdigest() ))",
   "id": "f94eabcaf085bb39",
   "outputs": [],
   "execution_count": 24
  },
  {
   "metadata": {
    "ExecuteTime": {
     "end_time": "2024-10-09T14:47:40.111459Z",
     "start_time": "2024-10-09T14:47:40.049198Z"
    }
   },
   "cell_type": "code",
   "source": [
    "final_df.sentence = final_df.sentence.str.replace('*','', regex=False)\n",
    "final_df.sentence = final_df.sentence.str.replace('-',', ', regex=False)\n",
    "final_df.sentence = final_df.sentence.str.replace('–',', ', regex=False)\n",
    "final_df.sentence = final_df.sentence.str.replace('`',\"'\", regex=False)\n",
    "final_df.sentence = final_df.sentence.str.replace('’',\"'\", regex=False)\n",
    "final_df.sentence = final_df.sentence.str.replace('‘',\"'\", regex=False)"
   ],
   "id": "c1aa2141d69f17d6",
   "outputs": [],
   "execution_count": 25
  },
  {
   "metadata": {
    "ExecuteTime": {
     "end_time": "2024-10-09T14:47:40.449280Z",
     "start_time": "2024-10-09T14:47:40.408286Z"
    }
   },
   "cell_type": "code",
   "source": "final_df = final_df.drop('singer', axis=1)",
   "id": "d8e16a9e138d6ec7",
   "outputs": [],
   "execution_count": 26
  },
  {
   "metadata": {
    "ExecuteTime": {
     "end_time": "2024-10-09T14:47:56.701127Z",
     "start_time": "2024-10-09T14:47:40.914900Z"
    }
   },
   "cell_type": "code",
   "source": [
    "import unicodedata\n",
    "from TTS.tts.utils.text.phonemizers import ESpeak\n",
    "\n",
    "if GET_PHONEMES:\n",
    "    phoneme_mapping = {\n",
    "        # Map dental stops to alveolar stops\n",
    "        't̪': 't',\n",
    "        'd̪': 'd',\n",
    "        # Map nasal variations to 'n'\n",
    "        'n̠': 'n',\n",
    "        # Map lateral variations\n",
    "        'l̠': 'l',\n",
    "        # Add other mappings as needed\n",
    "    }\n",
    "    \n",
    "    def clean_phonemes(phonemes):\n",
    "        # Remove stress markers and punctuation\n",
    "        phonemes = phonemes.replace('ˈ', '').replace('ˌ', '')\n",
    "        phonemes = phonemes.replace('.', '').replace('|', '')\n",
    "        phonemes = phonemes.replace('?', '').replace('!', '').replace(',', '').replace(';', '')\n",
    "        # Normalize Unicode to decompose characters\n",
    "        phonemes = unicodedata.normalize('NFD', phonemes)\n",
    "        # Remove diacritic marks (characters with combining class 'Mn')\n",
    "        phonemes = ''.join([c for c in phonemes if unicodedata.category(c) != 'Mn'])\n",
    "        # Split phonemes and apply mapping\n",
    "        phoneme_list = phonemes.strip().split(' ')\n",
    "        mapped_phonemes = [phoneme_mapping.get(p, p) for p in phoneme_list]\n",
    "        # Remove empty strings\n",
    "        mapped_phonemes = [p for p in mapped_phonemes if p]\n",
    "        # Rejoin phonemes\n",
    "        phonemes = ' '.join(mapped_phonemes)\n",
    "        return phonemes\n",
    "    \n",
    "    \n",
    "    \n",
    "    phonemizer = ESpeak(language='ga')\n",
    "    phoneme_set = set()\n",
    "    \n",
    "    # Replace this with the path to your dataset's text file\n",
    "    \n",
    "    sentence_list = final_df.sentence.unique()\n",
    "    for line in tqdm(sentence_list):\n",
    "        text = line.strip()\n",
    "        phonemes = phonemizer.phonemize(text, separator=\" \")\n",
    "        phonemes = clean_phonemes(phonemes)\n",
    "        phoneme_set.update(phonemes.split())\n",
    "        \n",
    "    # Save the phoneme list\n",
    "    phoneme_list = sorted(phoneme_set)\n",
    "    print(len(phoneme_list))\n",
    "    print(\" \".join(phoneme_list))"
   ],
   "id": "d9b2ab618998599e",
   "outputs": [],
   "execution_count": 27
  },
  {
   "metadata": {
    "ExecuteTime": {
     "end_time": "2024-10-09T14:47:56.770153Z",
     "start_time": "2024-10-09T14:47:56.709098Z"
    }
   },
   "cell_type": "code",
   "source": [
    "columns = ['client_id', 'path', 'sentence', 'sentence_id', 'sentence_domain', 'up_votes', 'down_votes', 'age', 'gender', 'accents', 'variant', 'locale']\n",
    "\n",
    "# from client_id select 2 sentences for validation and remove from final_df\n",
    "test_df = final_df.groupby('client_id').apply(lambda x: x.sample(n=2, replace=False)).drop('client_id', axis=1).reset_index()\n",
    "rm_indcs = test_df.level_1\n",
    "test_df = test_df.drop('level_1', axis=1)"
   ],
   "id": "19699cd563387673",
   "outputs": [],
   "execution_count": 28
  },
  {
   "metadata": {
    "ExecuteTime": {
     "end_time": "2024-10-09T14:47:56.856301Z",
     "start_time": "2024-10-09T14:47:56.806036Z"
    }
   },
   "cell_type": "code",
   "source": "final_df",
   "id": "46d91fef408b65ee",
   "outputs": [
    {
     "data": {
      "text/plain": [
       "      phrase_number                                   sentence  \\\n",
       "0                77  Ó, éireod ar maidin in ainm an Domhnaigh,   \n",
       "1                77  Ó, éireod ar maidin in ainm an Domhnaigh,   \n",
       "2                77  Ó, éireod ar maidin in ainm an Domhnaigh,   \n",
       "3                77  Ó, éireod ar maidin in ainm an Domhnaigh,   \n",
       "4                77  Ó, éireod ar maidin in ainm an Domhnaigh,   \n",
       "...             ...                                        ...   \n",
       "3250           1153                  'S an téiril éiril eaidí    \n",
       "3251           1153                  'S an téiril éiril eaidí    \n",
       "3252           1154   Téiril éiril é Seán a' bhríste leathair.   \n",
       "3253           1154   Téiril éiril é Seán a' bhríste leathair.   \n",
       "3254           1154   Téiril éiril é Seán a' bhríste leathair.   \n",
       "\n",
       "                             client_id  \\\n",
       "0     e4da3b7fbbce2345d7772b0674a318d5   \n",
       "1     80a18697034df465b1389c83a162671e   \n",
       "2     e4da3b7fbbce2345d7772b0674a318d5   \n",
       "3     fbb1a0cf39f11efcc031d950dabb052e   \n",
       "4     4f3f568df915f015a687e805eb9df1ad   \n",
       "...                                ...   \n",
       "3250  c51ce410c124a10e0db5e4b97fc2af39   \n",
       "3251  c51ce410c124a10e0db5e4b97fc2af39   \n",
       "3252  c51ce410c124a10e0db5e4b97fc2af39   \n",
       "3253  c51ce410c124a10e0db5e4b97fc2af39   \n",
       "3254  c51ce410c124a10e0db5e4b97fc2af39   \n",
       "\n",
       "                                                 path song phrase_version  \\\n",
       "0     resampled_noise_song_5, phrase_77,time_00-3.wav    5      resampled   \n",
       "1               prep7_song_5, phrase_77,time_00-3.wav    5          prep7   \n",
       "2               prep5_song_5, phrase_77,time_00-3.wav    5          prep5   \n",
       "3               prep1_song_5, phrase_77,time_00-3.wav    5          prep1   \n",
       "4               prep4_song_5, phrase_77,time_00-3.wav    5          prep4   \n",
       "...                                               ...  ...            ...   \n",
       "3250      noised_song_47,phrase_1153,time_435-438.wav   47         noised   \n",
       "3251             song_47,phrase_1153,time_435-438.wav   47           song   \n",
       "3252             song_47,phrase_1154,time_438-444.wav   47           song   \n",
       "3253      noised_song_47,phrase_1154,time_438-444.wav   47         noised   \n",
       "3254   resampled_song_47,phrase_1154,time_438-444.wav   47      resampled   \n",
       "\n",
       "     locale sentence_domain up_votes down_votes age  gender accents variant  \\\n",
       "0     ga-IE                                          female                   \n",
       "1     ga-IE                                          female                   \n",
       "2     ga-IE                                          female                   \n",
       "3     ga-IE                                          female                   \n",
       "4     ga-IE                                          female                   \n",
       "...     ...             ...      ...        ...  ..     ...     ...     ...   \n",
       "3250  ga-IE                                             NaN                   \n",
       "3251  ga-IE                                             NaN                   \n",
       "3252  ga-IE                                             NaN                   \n",
       "3253  ga-IE                                             NaN                   \n",
       "3254  ga-IE                                             NaN                   \n",
       "\n",
       "                             singer_id                       sentence_id  \n",
       "0     e4da3b7fbbce2345d7772b0674a318d5  0182e4433830396aafa361c7f9946879  \n",
       "1     80a18697034df465b1389c83a162671e  0182e4433830396aafa361c7f9946879  \n",
       "2     e4da3b7fbbce2345d7772b0674a318d5  0182e4433830396aafa361c7f9946879  \n",
       "3     fbb1a0cf39f11efcc031d950dabb052e  0182e4433830396aafa361c7f9946879  \n",
       "4     4f3f568df915f015a687e805eb9df1ad  0182e4433830396aafa361c7f9946879  \n",
       "...                                ...                               ...  \n",
       "3250  c51ce410c124a10e0db5e4b97fc2af39  cf92568f2948815c1e1e74fe00e874eb  \n",
       "3251  c51ce410c124a10e0db5e4b97fc2af39  cf92568f2948815c1e1e74fe00e874eb  \n",
       "3252  c51ce410c124a10e0db5e4b97fc2af39  450532db90098751fb0bccabe174cb4b  \n",
       "3253  c51ce410c124a10e0db5e4b97fc2af39  450532db90098751fb0bccabe174cb4b  \n",
       "3254  c51ce410c124a10e0db5e4b97fc2af39  450532db90098751fb0bccabe174cb4b  \n",
       "\n",
       "[3255 rows x 16 columns]"
      ],
      "text/html": [
       "<div>\n",
       "<style scoped>\n",
       "    .dataframe tbody tr th:only-of-type {\n",
       "        vertical-align: middle;\n",
       "    }\n",
       "\n",
       "    .dataframe tbody tr th {\n",
       "        vertical-align: top;\n",
       "    }\n",
       "\n",
       "    .dataframe thead th {\n",
       "        text-align: right;\n",
       "    }\n",
       "</style>\n",
       "<table border=\"1\" class=\"dataframe\">\n",
       "  <thead>\n",
       "    <tr style=\"text-align: right;\">\n",
       "      <th></th>\n",
       "      <th>phrase_number</th>\n",
       "      <th>sentence</th>\n",
       "      <th>client_id</th>\n",
       "      <th>path</th>\n",
       "      <th>song</th>\n",
       "      <th>phrase_version</th>\n",
       "      <th>locale</th>\n",
       "      <th>sentence_domain</th>\n",
       "      <th>up_votes</th>\n",
       "      <th>down_votes</th>\n",
       "      <th>age</th>\n",
       "      <th>gender</th>\n",
       "      <th>accents</th>\n",
       "      <th>variant</th>\n",
       "      <th>singer_id</th>\n",
       "      <th>sentence_id</th>\n",
       "    </tr>\n",
       "  </thead>\n",
       "  <tbody>\n",
       "    <tr>\n",
       "      <th>0</th>\n",
       "      <td>77</td>\n",
       "      <td>Ó, éireod ar maidin in ainm an Domhnaigh,</td>\n",
       "      <td>e4da3b7fbbce2345d7772b0674a318d5</td>\n",
       "      <td>resampled_noise_song_5, phrase_77,time_00-3.wav</td>\n",
       "      <td>5</td>\n",
       "      <td>resampled</td>\n",
       "      <td>ga-IE</td>\n",
       "      <td></td>\n",
       "      <td></td>\n",
       "      <td></td>\n",
       "      <td></td>\n",
       "      <td>female</td>\n",
       "      <td></td>\n",
       "      <td></td>\n",
       "      <td>e4da3b7fbbce2345d7772b0674a318d5</td>\n",
       "      <td>0182e4433830396aafa361c7f9946879</td>\n",
       "    </tr>\n",
       "    <tr>\n",
       "      <th>1</th>\n",
       "      <td>77</td>\n",
       "      <td>Ó, éireod ar maidin in ainm an Domhnaigh,</td>\n",
       "      <td>80a18697034df465b1389c83a162671e</td>\n",
       "      <td>prep7_song_5, phrase_77,time_00-3.wav</td>\n",
       "      <td>5</td>\n",
       "      <td>prep7</td>\n",
       "      <td>ga-IE</td>\n",
       "      <td></td>\n",
       "      <td></td>\n",
       "      <td></td>\n",
       "      <td></td>\n",
       "      <td>female</td>\n",
       "      <td></td>\n",
       "      <td></td>\n",
       "      <td>80a18697034df465b1389c83a162671e</td>\n",
       "      <td>0182e4433830396aafa361c7f9946879</td>\n",
       "    </tr>\n",
       "    <tr>\n",
       "      <th>2</th>\n",
       "      <td>77</td>\n",
       "      <td>Ó, éireod ar maidin in ainm an Domhnaigh,</td>\n",
       "      <td>e4da3b7fbbce2345d7772b0674a318d5</td>\n",
       "      <td>prep5_song_5, phrase_77,time_00-3.wav</td>\n",
       "      <td>5</td>\n",
       "      <td>prep5</td>\n",
       "      <td>ga-IE</td>\n",
       "      <td></td>\n",
       "      <td></td>\n",
       "      <td></td>\n",
       "      <td></td>\n",
       "      <td>female</td>\n",
       "      <td></td>\n",
       "      <td></td>\n",
       "      <td>e4da3b7fbbce2345d7772b0674a318d5</td>\n",
       "      <td>0182e4433830396aafa361c7f9946879</td>\n",
       "    </tr>\n",
       "    <tr>\n",
       "      <th>3</th>\n",
       "      <td>77</td>\n",
       "      <td>Ó, éireod ar maidin in ainm an Domhnaigh,</td>\n",
       "      <td>fbb1a0cf39f11efcc031d950dabb052e</td>\n",
       "      <td>prep1_song_5, phrase_77,time_00-3.wav</td>\n",
       "      <td>5</td>\n",
       "      <td>prep1</td>\n",
       "      <td>ga-IE</td>\n",
       "      <td></td>\n",
       "      <td></td>\n",
       "      <td></td>\n",
       "      <td></td>\n",
       "      <td>female</td>\n",
       "      <td></td>\n",
       "      <td></td>\n",
       "      <td>fbb1a0cf39f11efcc031d950dabb052e</td>\n",
       "      <td>0182e4433830396aafa361c7f9946879</td>\n",
       "    </tr>\n",
       "    <tr>\n",
       "      <th>4</th>\n",
       "      <td>77</td>\n",
       "      <td>Ó, éireod ar maidin in ainm an Domhnaigh,</td>\n",
       "      <td>4f3f568df915f015a687e805eb9df1ad</td>\n",
       "      <td>prep4_song_5, phrase_77,time_00-3.wav</td>\n",
       "      <td>5</td>\n",
       "      <td>prep4</td>\n",
       "      <td>ga-IE</td>\n",
       "      <td></td>\n",
       "      <td></td>\n",
       "      <td></td>\n",
       "      <td></td>\n",
       "      <td>female</td>\n",
       "      <td></td>\n",
       "      <td></td>\n",
       "      <td>4f3f568df915f015a687e805eb9df1ad</td>\n",
       "      <td>0182e4433830396aafa361c7f9946879</td>\n",
       "    </tr>\n",
       "    <tr>\n",
       "      <th>...</th>\n",
       "      <td>...</td>\n",
       "      <td>...</td>\n",
       "      <td>...</td>\n",
       "      <td>...</td>\n",
       "      <td>...</td>\n",
       "      <td>...</td>\n",
       "      <td>...</td>\n",
       "      <td>...</td>\n",
       "      <td>...</td>\n",
       "      <td>...</td>\n",
       "      <td>...</td>\n",
       "      <td>...</td>\n",
       "      <td>...</td>\n",
       "      <td>...</td>\n",
       "      <td>...</td>\n",
       "      <td>...</td>\n",
       "    </tr>\n",
       "    <tr>\n",
       "      <th>3250</th>\n",
       "      <td>1153</td>\n",
       "      <td>'S an téiril éiril eaidí</td>\n",
       "      <td>c51ce410c124a10e0db5e4b97fc2af39</td>\n",
       "      <td>noised_song_47,phrase_1153,time_435-438.wav</td>\n",
       "      <td>47</td>\n",
       "      <td>noised</td>\n",
       "      <td>ga-IE</td>\n",
       "      <td></td>\n",
       "      <td></td>\n",
       "      <td></td>\n",
       "      <td></td>\n",
       "      <td>NaN</td>\n",
       "      <td></td>\n",
       "      <td></td>\n",
       "      <td>c51ce410c124a10e0db5e4b97fc2af39</td>\n",
       "      <td>cf92568f2948815c1e1e74fe00e874eb</td>\n",
       "    </tr>\n",
       "    <tr>\n",
       "      <th>3251</th>\n",
       "      <td>1153</td>\n",
       "      <td>'S an téiril éiril eaidí</td>\n",
       "      <td>c51ce410c124a10e0db5e4b97fc2af39</td>\n",
       "      <td>song_47,phrase_1153,time_435-438.wav</td>\n",
       "      <td>47</td>\n",
       "      <td>song</td>\n",
       "      <td>ga-IE</td>\n",
       "      <td></td>\n",
       "      <td></td>\n",
       "      <td></td>\n",
       "      <td></td>\n",
       "      <td>NaN</td>\n",
       "      <td></td>\n",
       "      <td></td>\n",
       "      <td>c51ce410c124a10e0db5e4b97fc2af39</td>\n",
       "      <td>cf92568f2948815c1e1e74fe00e874eb</td>\n",
       "    </tr>\n",
       "    <tr>\n",
       "      <th>3252</th>\n",
       "      <td>1154</td>\n",
       "      <td>Téiril éiril é Seán a' bhríste leathair.</td>\n",
       "      <td>c51ce410c124a10e0db5e4b97fc2af39</td>\n",
       "      <td>song_47,phrase_1154,time_438-444.wav</td>\n",
       "      <td>47</td>\n",
       "      <td>song</td>\n",
       "      <td>ga-IE</td>\n",
       "      <td></td>\n",
       "      <td></td>\n",
       "      <td></td>\n",
       "      <td></td>\n",
       "      <td>NaN</td>\n",
       "      <td></td>\n",
       "      <td></td>\n",
       "      <td>c51ce410c124a10e0db5e4b97fc2af39</td>\n",
       "      <td>450532db90098751fb0bccabe174cb4b</td>\n",
       "    </tr>\n",
       "    <tr>\n",
       "      <th>3253</th>\n",
       "      <td>1154</td>\n",
       "      <td>Téiril éiril é Seán a' bhríste leathair.</td>\n",
       "      <td>c51ce410c124a10e0db5e4b97fc2af39</td>\n",
       "      <td>noised_song_47,phrase_1154,time_438-444.wav</td>\n",
       "      <td>47</td>\n",
       "      <td>noised</td>\n",
       "      <td>ga-IE</td>\n",
       "      <td></td>\n",
       "      <td></td>\n",
       "      <td></td>\n",
       "      <td></td>\n",
       "      <td>NaN</td>\n",
       "      <td></td>\n",
       "      <td></td>\n",
       "      <td>c51ce410c124a10e0db5e4b97fc2af39</td>\n",
       "      <td>450532db90098751fb0bccabe174cb4b</td>\n",
       "    </tr>\n",
       "    <tr>\n",
       "      <th>3254</th>\n",
       "      <td>1154</td>\n",
       "      <td>Téiril éiril é Seán a' bhríste leathair.</td>\n",
       "      <td>c51ce410c124a10e0db5e4b97fc2af39</td>\n",
       "      <td>resampled_song_47,phrase_1154,time_438-444.wav</td>\n",
       "      <td>47</td>\n",
       "      <td>resampled</td>\n",
       "      <td>ga-IE</td>\n",
       "      <td></td>\n",
       "      <td></td>\n",
       "      <td></td>\n",
       "      <td></td>\n",
       "      <td>NaN</td>\n",
       "      <td></td>\n",
       "      <td></td>\n",
       "      <td>c51ce410c124a10e0db5e4b97fc2af39</td>\n",
       "      <td>450532db90098751fb0bccabe174cb4b</td>\n",
       "    </tr>\n",
       "  </tbody>\n",
       "</table>\n",
       "<p>3255 rows × 16 columns</p>\n",
       "</div>"
      ]
     },
     "execution_count": 29,
     "metadata": {},
     "output_type": "execute_result"
    }
   ],
   "execution_count": 29
  },
  {
   "metadata": {
    "ExecuteTime": {
     "end_time": "2024-10-09T14:47:56.971906Z",
     "start_time": "2024-10-09T14:47:56.938842Z"
    }
   },
   "cell_type": "code",
   "source": [
    "mask = np.ones(len(final_df), dtype=bool)\n",
    "mask[rm_indcs] = False\n",
    "train_df = final_df.iloc[mask]"
   ],
   "id": "ade6f4d64f752a1",
   "outputs": [],
   "execution_count": 30
  },
  {
   "metadata": {
    "ExecuteTime": {
     "end_time": "2024-10-09T14:47:57.076728Z",
     "start_time": "2024-10-09T14:47:57.033898Z"
    }
   },
   "cell_type": "code",
   "source": [
    "import wave\n",
    "def get_wav_duration(filepath):\n",
    "    with wave.open(filepath, 'rb') as wav_file:\n",
    "        frames = wav_file.getnframes()\n",
    "        rate = wav_file.getframerate()\n",
    "        duration = frames / float(rate)\n",
    "        return int(duration * 1000)  \n",
    "\n",
    "from pydub import AudioSegment\n",
    "def get_wav_durationV2(filepath):\n",
    "    audio = AudioSegment.from_wav(filepath)\n",
    "    duration_ms = len(audio)\n",
    "    return duration_ms"
   ],
   "id": "ebf5ba359be2dd6a",
   "outputs": [],
   "execution_count": 31
  },
  {
   "metadata": {
    "ExecuteTime": {
     "end_time": "2024-10-09T14:47:59.840484Z",
     "start_time": "2024-10-09T14:47:57.101717Z"
    }
   },
   "cell_type": "code",
   "source": [
    "duration_df = []\n",
    "for f in filenames:\n",
    "    fn = os.path.join('clips', f)\n",
    "    duration = get_wav_durationV2(fn)\n",
    "    duration_df.append({'clip': f,  'duration[ms': duration})\n",
    "    \n",
    "pd.DataFrame(duration_df).to_csv('clip_durations.tsv', sep='\\t', index=False)"
   ],
   "id": "6d6195743d74a2fc",
   "outputs": [],
   "execution_count": 32
  },
  {
   "metadata": {
    "ExecuteTime": {
     "end_time": "2024-10-09T14:47:59.917197Z",
     "start_time": "2024-10-09T14:47:59.881682Z"
    }
   },
   "cell_type": "code",
   "source": "dur_df = pd.DataFrame(duration_df)",
   "id": "5477eaec9e63f4d1",
   "outputs": [],
   "execution_count": 33
  },
  {
   "metadata": {
    "ExecuteTime": {
     "end_time": "2024-10-09T14:50:23.469145Z",
     "start_time": "2024-10-09T14:50:23.145428Z"
    }
   },
   "cell_type": "code",
   "source": "dur_df['duration[ms'].clip(0,15_000).hist(bins=30)",
   "id": "4a6cdd78808827bd",
   "outputs": [
    {
     "data": {
      "text/plain": [
       "<Axes: >"
      ]
     },
     "execution_count": 44,
     "metadata": {},
     "output_type": "execute_result"
    },
    {
     "data": {
      "text/plain": [
       "<Figure size 640x480 with 1 Axes>"
      ],
      "image/png": "[encoded data removed]"
     },
     "metadata": {},
     "output_type": "display_data"
    }
   ],
   "execution_count": 44
  },
  {
   "metadata": {
    "ExecuteTime": {
     "end_time": "2024-10-09T14:47:59.999194Z",
     "start_time": "2024-10-09T14:47:59.964047Z"
    }
   },
   "cell_type": "code",
   "source": "dur_df[dur_df['duration[ms']>15_000]['clip'].str.split(\",\").apply(lambda x: x[1]).nunique()",
   "id": "64f5dea214a84be5",
   "outputs": [
    {
     "data": {
      "text/plain": [
       "109"
      ]
     },
     "execution_count": 34,
     "metadata": {},
     "output_type": "execute_result"
    }
   ],
   "execution_count": 34
  },
  {
   "metadata": {
    "ExecuteTime": {
     "end_time": "2024-10-09T14:48:00.124896Z",
     "start_time": "2024-10-09T14:48:00.090613Z"
    }
   },
   "cell_type": "code",
   "source": "keep_phrases = dur_df[dur_df['duration[ms']<15_000]['clip'].values",
   "id": "d476221a7cbd009e",
   "outputs": [],
   "execution_count": 35
  },
  {
   "metadata": {
    "ExecuteTime": {
     "end_time": "2024-10-09T14:48:00.210548Z",
     "start_time": "2024-10-09T14:48:00.176410Z"
    }
   },
   "cell_type": "code",
   "source": "keep_phrases.shape",
   "id": "bd1359668938b922",
   "outputs": [
    {
     "data": {
      "text/plain": [
       "(8518,)"
      ]
     },
     "execution_count": 36,
     "metadata": {},
     "output_type": "execute_result"
    }
   ],
   "execution_count": 36
  },
  {
   "metadata": {
    "ExecuteTime": {
     "end_time": "2024-10-09T14:48:00.330746Z",
     "start_time": "2024-10-09T14:48:00.294577Z"
    }
   },
   "cell_type": "code",
   "source": [
    "train_df = train_df.loc[train_df.path.isin(keep_phrases)]\n",
    "test_df = test_df.loc[test_df.path.isin(keep_phrases)]\n"
   ],
   "id": "fa8b745ee6c42f34",
   "outputs": [],
   "execution_count": 37
  },
  {
   "metadata": {
    "ExecuteTime": {
     "end_time": "2024-10-09T14:48:00.441323Z",
     "start_time": "2024-10-09T14:48:00.382874Z"
    }
   },
   "cell_type": "code",
   "source": [
    "test_df[columns].to_csv('test.tsv', sep='\\t', index=False)\n",
    "train_df[columns].to_csv('train.tsv', sep='\\t', index=False)"
   ],
   "id": "e5c324062ba30af2",
   "outputs": [],
   "execution_count": 38
  },
  {
   "metadata": {
    "ExecuteTime": {
     "end_time": "2024-10-09T14:48:00.528419Z",
     "start_time": "2024-10-09T14:48:00.490128Z"
    }
   },
   "cell_type": "code",
   "source": "dur_df[dur_df['duration[ms']>15_000]['clip'].str.split(\",\").apply(lambda x: x[1])",
   "id": "2ce98e30ab4c3b87",
   "outputs": [
    {
     "data": {
      "text/plain": [
       "29      phrase_747\n",
       "76      phrase_967\n",
       "90      phrase_734\n",
       "91      phrase_424\n",
       "119     phrase_645\n",
       "           ...    \n",
       "8976     phrase_56\n",
       "8995    phrase_667\n",
       "9057     phrase_97\n",
       "9082    phrase_650\n",
       "9109    phrase_669\n",
       "Name: clip, Length: 607, dtype: object"
      ]
     },
     "execution_count": 39,
     "metadata": {},
     "output_type": "execute_result"
    }
   ],
   "execution_count": 39
  },
  {
   "metadata": {
    "ExecuteTime": {
     "end_time": "2024-10-09T14:59:42.611207Z",
     "start_time": "2024-10-09T14:59:42.551136Z"
    }
   },
   "cell_type": "code",
   "source": "train_df",
   "id": "af4e826b0886f544",
   "outputs": [
    {
     "data": {
      "text/plain": [
       "      phrase_number                                   sentence  \\\n",
       "0                77  Ó, éireod ar maidin in ainm an Domhnaigh,   \n",
       "1                77  Ó, éireod ar maidin in ainm an Domhnaigh,   \n",
       "3                77  Ó, éireod ar maidin in ainm an Domhnaigh,   \n",
       "4                77  Ó, éireod ar maidin in ainm an Domhnaigh,   \n",
       "5                77  Ó, éireod ar maidin in ainm an Domhnaigh,   \n",
       "...             ...                                        ...   \n",
       "3250           1153                  'S an téiril éiril eaidí    \n",
       "3251           1153                  'S an téiril éiril eaidí    \n",
       "3252           1154   Téiril éiril é Seán a' bhríste leathair.   \n",
       "3253           1154   Téiril éiril é Seán a' bhríste leathair.   \n",
       "3254           1154   Téiril éiril é Seán a' bhríste leathair.   \n",
       "\n",
       "                             client_id  \\\n",
       "0     e4da3b7fbbce2345d7772b0674a318d5   \n",
       "1     80a18697034df465b1389c83a162671e   \n",
       "3     fbb1a0cf39f11efcc031d950dabb052e   \n",
       "4     4f3f568df915f015a687e805eb9df1ad   \n",
       "5     0528c8bed09c276fb6ab058820dbf9e0   \n",
       "...                                ...   \n",
       "3250  c51ce410c124a10e0db5e4b97fc2af39   \n",
       "3251  c51ce410c124a10e0db5e4b97fc2af39   \n",
       "3252  c51ce410c124a10e0db5e4b97fc2af39   \n",
       "3253  c51ce410c124a10e0db5e4b97fc2af39   \n",
       "3254  c51ce410c124a10e0db5e4b97fc2af39   \n",
       "\n",
       "                                                 path song phrase_version  \\\n",
       "0     resampled_noise_song_5, phrase_77,time_00-3.wav    5      resampled   \n",
       "1               prep7_song_5, phrase_77,time_00-3.wav    5          prep7   \n",
       "3               prep1_song_5, phrase_77,time_00-3.wav    5          prep1   \n",
       "4               prep4_song_5, phrase_77,time_00-3.wav    5          prep4   \n",
       "5               prep3_song_5, phrase_77,time_00-3.wav    5          prep3   \n",
       "...                                               ...  ...            ...   \n",
       "3250      noised_song_47,phrase_1153,time_435-438.wav   47         noised   \n",
       "3251             song_47,phrase_1153,time_435-438.wav   47           song   \n",
       "3252             song_47,phrase_1154,time_438-444.wav   47           song   \n",
       "3253      noised_song_47,phrase_1154,time_438-444.wav   47         noised   \n",
       "3254   resampled_song_47,phrase_1154,time_438-444.wav   47      resampled   \n",
       "\n",
       "     locale sentence_domain up_votes down_votes age  gender accents variant  \\\n",
       "0     ga-IE                                          female                   \n",
       "1     ga-IE                                          female                   \n",
       "3     ga-IE                                          female                   \n",
       "4     ga-IE                                          female                   \n",
       "5     ga-IE                                          female                   \n",
       "...     ...             ...      ...        ...  ..     ...     ...     ...   \n",
       "3250  ga-IE                                             NaN                   \n",
       "3251  ga-IE                                             NaN                   \n",
       "3252  ga-IE                                             NaN                   \n",
       "3253  ga-IE                                             NaN                   \n",
       "3254  ga-IE                                             NaN                   \n",
       "\n",
       "                             singer_id                       sentence_id  \n",
       "0     e4da3b7fbbce2345d7772b0674a318d5  0182e4433830396aafa361c7f9946879  \n",
       "1     80a18697034df465b1389c83a162671e  0182e4433830396aafa361c7f9946879  \n",
       "3     fbb1a0cf39f11efcc031d950dabb052e  0182e4433830396aafa361c7f9946879  \n",
       "4     4f3f568df915f015a687e805eb9df1ad  0182e4433830396aafa361c7f9946879  \n",
       "5     0528c8bed09c276fb6ab058820dbf9e0  0182e4433830396aafa361c7f9946879  \n",
       "...                                ...                               ...  \n",
       "3250  c51ce410c124a10e0db5e4b97fc2af39  cf92568f2948815c1e1e74fe00e874eb  \n",
       "3251  c51ce410c124a10e0db5e4b97fc2af39  cf92568f2948815c1e1e74fe00e874eb  \n",
       "3252  c51ce410c124a10e0db5e4b97fc2af39  450532db90098751fb0bccabe174cb4b  \n",
       "3253  c51ce410c124a10e0db5e4b97fc2af39  450532db90098751fb0bccabe174cb4b  \n",
       "3254  c51ce410c124a10e0db5e4b97fc2af39  450532db90098751fb0bccabe174cb4b  \n",
       "\n",
       "[2909 rows x 16 columns]"
      ],
      "text/html": [
       "<div>\n",
       "<style scoped>\n",
       "    .dataframe tbody tr th:only-of-type {\n",
       "        vertical-align: middle;\n",
       "    }\n",
       "\n",
       "    .dataframe tbody tr th {\n",
       "        vertical-align: top;\n",
       "    }\n",
       "\n",
       "    .dataframe thead th {\n",
       "        text-align: right;\n",
       "    }\n",
       "</style>\n",
       "<table border=\"1\" class=\"dataframe\">\n",
       "  <thead>\n",
       "    <tr style=\"text-align: right;\">\n",
       "      <th></th>\n",
       "      <th>phrase_number</th>\n",
       "      <th>sentence</th>\n",
       "      <th>client_id</th>\n",
       "      <th>path</th>\n",
       "      <th>song</th>\n",
       "      <th>phrase_version</th>\n",
       "      <th>locale</th>\n",
       "      <th>sentence_domain</th>\n",
       "      <th>up_votes</th>\n",
       "      <th>down_votes</th>\n",
       "      <th>age</th>\n",
       "      <th>gender</th>\n",
       "      <th>accents</th>\n",
       "      <th>variant</th>\n",
       "      <th>singer_id</th>\n",
       "      <th>sentence_id</th>\n",
       "    </tr>\n",
       "  </thead>\n",
       "  <tbody>\n",
       "    <tr>\n",
       "      <th>0</th>\n",
       "      <td>77</td>\n",
       "      <td>Ó, éireod ar maidin in ainm an Domhnaigh,</td>\n",
       "      <td>e4da3b7fbbce2345d7772b0674a318d5</td>\n",
       "      <td>resampled_noise_song_5, phrase_77,time_00-3.wav</td>\n",
       "      <td>5</td>\n",
       "      <td>resampled</td>\n",
       "      <td>ga-IE</td>\n",
       "      <td></td>\n",
       "      <td></td>\n",
       "      <td></td>\n",
       "      <td></td>\n",
       "      <td>female</td>\n",
       "      <td></td>\n",
       "      <td></td>\n",
       "      <td>e4da3b7fbbce2345d7772b0674a318d5</td>\n",
       "      <td>0182e4433830396aafa361c7f9946879</td>\n",
       "    </tr>\n",
       "    <tr>\n",
       "      <th>1</th>\n",
       "      <td>77</td>\n",
       "      <td>Ó, éireod ar maidin in ainm an Domhnaigh,</td>\n",
       "      <td>80a18697034df465b1389c83a162671e</td>\n",
       "      <td>prep7_song_5, phrase_77,time_00-3.wav</td>\n",
       "      <td>5</td>\n",
       "      <td>prep7</td>\n",
       "      <td>ga-IE</td>\n",
       "      <td></td>\n",
       "      <td></td>\n",
       "      <td></td>\n",
       "      <td></td>\n",
       "      <td>female</td>\n",
       "      <td></td>\n",
       "      <td></td>\n",
       "      <td>80a18697034df465b1389c83a162671e</td>\n",
       "      <td>0182e4433830396aafa361c7f9946879</td>\n",
       "    </tr>\n",
       "    <tr>\n",
       "      <th>3</th>\n",
       "      <td>77</td>\n",
       "      <td>Ó, éireod ar maidin in ainm an Domhnaigh,</td>\n",
       "      <td>fbb1a0cf39f11efcc031d950dabb052e</td>\n",
       "      <td>prep1_song_5, phrase_77,time_00-3.wav</td>\n",
       "      <td>5</td>\n",
       "      <td>prep1</td>\n",
       "      <td>ga-IE</td>\n",
       "      <td></td>\n",
       "      <td></td>\n",
       "      <td></td>\n",
       "      <td></td>\n",
       "      <td>female</td>\n",
       "      <td></td>\n",
       "      <td></td>\n",
       "      <td>fbb1a0cf39f11efcc031d950dabb052e</td>\n",
       "      <td>0182e4433830396aafa361c7f9946879</td>\n",
       "    </tr>\n",
       "    <tr>\n",
       "      <th>4</th>\n",
       "      <td>77</td>\n",
       "      <td>Ó, éireod ar maidin in ainm an Domhnaigh,</td>\n",
       "      <td>4f3f568df915f015a687e805eb9df1ad</td>\n",
       "      <td>prep4_song_5, phrase_77,time_00-3.wav</td>\n",
       "      <td>5</td>\n",
       "      <td>prep4</td>\n",
       "      <td>ga-IE</td>\n",
       "      <td></td>\n",
       "      <td></td>\n",
       "      <td></td>\n",
       "      <td></td>\n",
       "      <td>female</td>\n",
       "      <td></td>\n",
       "      <td></td>\n",
       "      <td>4f3f568df915f015a687e805eb9df1ad</td>\n",
       "      <td>0182e4433830396aafa361c7f9946879</td>\n",
       "    </tr>\n",
       "    <tr>\n",
       "      <th>5</th>\n",
       "      <td>77</td>\n",
       "      <td>Ó, éireod ar maidin in ainm an Domhnaigh,</td>\n",
       "      <td>0528c8bed09c276fb6ab058820dbf9e0</td>\n",
       "      <td>prep3_song_5, phrase_77,time_00-3.wav</td>\n",
       "      <td>5</td>\n",
       "      <td>prep3</td>\n",
       "      <td>ga-IE</td>\n",
       "      <td></td>\n",
       "      <td></td>\n",
       "      <td></td>\n",
       "      <td></td>\n",
       "      <td>female</td>\n",
       "      <td></td>\n",
       "      <td></td>\n",
       "      <td>0528c8bed09c276fb6ab058820dbf9e0</td>\n",
       "      <td>0182e4433830396aafa361c7f9946879</td>\n",
       "    </tr>\n",
       "    <tr>\n",
       "      <th>...</th>\n",
       "      <td>...</td>\n",
       "      <td>...</td>\n",
       "      <td>...</td>\n",
       "      <td>...</td>\n",
       "      <td>...</td>\n",
       "      <td>...</td>\n",
       "      <td>...</td>\n",
       "      <td>...</td>\n",
       "      <td>...</td>\n",
       "      <td>...</td>\n",
       "      <td>...</td>\n",
       "      <td>...</td>\n",
       "      <td>...</td>\n",
       "      <td>...</td>\n",
       "      <td>...</td>\n",
       "      <td>...</td>\n",
       "    </tr>\n",
       "    <tr>\n",
       "      <th>3250</th>\n",
       "      <td>1153</td>\n",
       "      <td>'S an téiril éiril eaidí</td>\n",
       "      <td>c51ce410c124a10e0db5e4b97fc2af39</td>\n",
       "      <td>noised_song_47,phrase_1153,time_435-438.wav</td>\n",
       "      <td>47</td>\n",
       "      <td>noised</td>\n",
       "      <td>ga-IE</td>\n",
       "      <td></td>\n",
       "      <td></td>\n",
       "      <td></td>\n",
       "      <td></td>\n",
       "      <td>NaN</td>\n",
       "      <td></td>\n",
       "      <td></td>\n",
       "      <td>c51ce410c124a10e0db5e4b97fc2af39</td>\n",
       "      <td>cf92568f2948815c1e1e74fe00e874eb</td>\n",
       "    </tr>\n",
       "    <tr>\n",
       "      <th>3251</th>\n",
       "      <td>1153</td>\n",
       "      <td>'S an téiril éiril eaidí</td>\n",
       "      <td>c51ce410c124a10e0db5e4b97fc2af39</td>\n",
       "      <td>song_47,phrase_1153,time_435-438.wav</td>\n",
       "      <td>47</td>\n",
       "      <td>song</td>\n",
       "      <td>ga-IE</td>\n",
       "      <td></td>\n",
       "      <td></td>\n",
       "      <td></td>\n",
       "      <td></td>\n",
       "      <td>NaN</td>\n",
       "      <td></td>\n",
       "      <td></td>\n",
       "      <td>c51ce410c124a10e0db5e4b97fc2af39</td>\n",
       "      <td>cf92568f2948815c1e1e74fe00e874eb</td>\n",
       "    </tr>\n",
       "    <tr>\n",
       "      <th>3252</th>\n",
       "      <td>1154</td>\n",
       "      <td>Téiril éiril é Seán a' bhríste leathair.</td>\n",
       "      <td>c51ce410c124a10e0db5e4b97fc2af39</td>\n",
       "      <td>song_47,phrase_1154,time_438-444.wav</td>\n",
       "      <td>47</td>\n",
       "      <td>song</td>\n",
       "      <td>ga-IE</td>\n",
       "      <td></td>\n",
       "      <td></td>\n",
       "      <td></td>\n",
       "      <td></td>\n",
       "      <td>NaN</td>\n",
       "      <td></td>\n",
       "      <td></td>\n",
       "      <td>c51ce410c124a10e0db5e4b97fc2af39</td>\n",
       "      <td>450532db90098751fb0bccabe174cb4b</td>\n",
       "    </tr>\n",
       "    <tr>\n",
       "      <th>3253</th>\n",
       "      <td>1154</td>\n",
       "      <td>Téiril éiril é Seán a' bhríste leathair.</td>\n",
       "      <td>c51ce410c124a10e0db5e4b97fc2af39</td>\n",
       "      <td>noised_song_47,phrase_1154,time_438-444.wav</td>\n",
       "      <td>47</td>\n",
       "      <td>noised</td>\n",
       "      <td>ga-IE</td>\n",
       "      <td></td>\n",
       "      <td></td>\n",
       "      <td></td>\n",
       "      <td></td>\n",
       "      <td>NaN</td>\n",
       "      <td></td>\n",
       "      <td></td>\n",
       "      <td>c51ce410c124a10e0db5e4b97fc2af39</td>\n",
       "      <td>450532db90098751fb0bccabe174cb4b</td>\n",
       "    </tr>\n",
       "    <tr>\n",
       "      <th>3254</th>\n",
       "      <td>1154</td>\n",
       "      <td>Téiril éiril é Seán a' bhríste leathair.</td>\n",
       "      <td>c51ce410c124a10e0db5e4b97fc2af39</td>\n",
       "      <td>resampled_song_47,phrase_1154,time_438-444.wav</td>\n",
       "      <td>47</td>\n",
       "      <td>resampled</td>\n",
       "      <td>ga-IE</td>\n",
       "      <td></td>\n",
       "      <td></td>\n",
       "      <td></td>\n",
       "      <td></td>\n",
       "      <td>NaN</td>\n",
       "      <td></td>\n",
       "      <td></td>\n",
       "      <td>c51ce410c124a10e0db5e4b97fc2af39</td>\n",
       "      <td>450532db90098751fb0bccabe174cb4b</td>\n",
       "    </tr>\n",
       "  </tbody>\n",
       "</table>\n",
       "<p>2909 rows × 16 columns</p>\n",
       "</div>"
      ]
     },
     "execution_count": 48,
     "metadata": {},
     "output_type": "execute_result"
    }
   ],
   "execution_count": 48
  },
  {
   "metadata": {},
   "cell_type": "code",
   "outputs": [],
   "execution_count": null,
   "source": "",
   "id": "ac41b6679742b8c8"
  }
 ],
 "metadata": {
  "kernelspec": {
   "display_name": "Python 3",
   "language": "python",
   "name": "python3"
  },
  "language_info": {
   "codemirror_mode": {
    "name": "ipython",
    "version": 2
   },
   "file_extension": ".py",
   "mimetype": "text/x-python",
   "name": "python",
   "nbconvert_exporter": "python",
   "pygments_lexer": "ipython2",
   "version": "2.7.6"
  }
 },
 "nbformat": 4,
 "nbformat_minor": 5
}
