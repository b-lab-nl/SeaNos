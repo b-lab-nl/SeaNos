{
 "cells": [
  {
   "metadata": {
    "ExecuteTime": {
     "end_time": "2024-09-05T10:15:31.104740Z",
     "start_time": "2024-09-05T10:15:31.066578Z"
    }
   },
   "cell_type": "code",
   "source": [
    "'''\n",
    "We ingest the data.ods and reformat to\n",
    "client_id \\t path \\t sentence_id \\t sentence \\t locale\n",
    "\n",
    "Here\n",
    "client_id is a unique identifier for the song\n",
    "path is a path to the song\n",
    "sentence_id is a unique identifier for the sentence\n",
    "sentence is the Gaelic text\n",
    "sentence_domain=up_votes=down_votes=age=gender=accents=variant\n",
    "locale is set to ga-IE\n",
    "\n",
    "The client_id can be extracted from the filename \"song_x,..wav\"\n",
    "The sentence_id can be extracted from the \"..., phrase_xx..wav\"\n",
    "\n",
    "The filenames can be coupled to the filenames via the phrase_number, which is in on the data.ods\n",
    "'''\n"
   ],
   "id": "7b63461d10852377",
   "outputs": [
    {
     "data": {
      "text/plain": [
       "'\\nWe ingest the data.ods and reformat to\\nclient_id \\t path \\t sentence_id \\t sentence \\t locale\\n\\nHere\\nclient_id is a unique identifier for the song\\npath is a path to the song\\nsentence_id is a unique identifier for the sentence\\nsentence is the Gaelic text\\nsentence_domain=up_votes=down_votes=age=gender=accents=variant\\nlocale is set to ga-IE\\n\\nThe client_id can be extracted from the filename \"song_x,..wav\"\\nThe sentence_id can be extracted from the \"..., phrase_xx..wav\"\\n\\nThe filenames can be coupled to the filenames via the phrase_number, which is in on the data.ods\\n'"
      ]
     },
     "execution_count": 39,
     "metadata": {},
     "output_type": "execute_result"
    }
   ],
   "execution_count": 39
  },
  {
   "metadata": {
    "ExecuteTime": {
     "end_time": "2024-09-05T10:15:31.169572Z",
     "start_time": "2024-09-05T10:15:31.128683Z"
    }
   },
   "cell_type": "code",
   "source": [
    "%load_ext autoreload\n",
    "%autoreload 2\n",
    "import os\n",
    "import re\n",
    "import hashlib\n",
    "import pandas as pd\n",
    "import numpy as np"
   ],
   "id": "e2484a0f5dea91a6",
   "outputs": [
    {
     "name": "stdout",
     "output_type": "stream",
     "text": [
      "The autoreload extension is already loaded. To reload it, use:\n",
      "  %reload_ext autoreload\n"
     ]
    }
   ],
   "execution_count": 40
  },
  {
   "metadata": {
    "ExecuteTime": {
     "end_time": "2024-09-05T10:15:31.250897Z",
     "start_time": "2024-09-05T10:15:31.224760Z"
    }
   },
   "cell_type": "code",
   "source": "os.chdir('/media/bramiozo/DATA-FAST/TTS/tts_models/gle/seannos_datasource')",
   "id": "f897864e2adefed1",
   "outputs": [],
   "execution_count": 41
  },
  {
   "metadata": {
    "ExecuteTime": {
     "end_time": "2024-09-05T10:15:31.779183Z",
     "start_time": "2024-09-05T10:15:31.291310Z"
    }
   },
   "cell_type": "code",
   "source": "lyrics_original =  pd.read_excel('dataset_lyrics/lyrics.ods')",
   "id": "5c6e2d153be528f6",
   "outputs": [],
   "execution_count": 42
  },
  {
   "metadata": {
    "ExecuteTime": {
     "end_time": "2024-09-05T10:15:31.834270Z",
     "start_time": "2024-09-05T10:15:31.812051Z"
    }
   },
   "cell_type": "code",
   "source": "lyrics_original.dtypes",
   "id": "2d3dd7398cbd91d6",
   "outputs": [
    {
     "data": {
      "text/plain": [
       "phrase_number     int64\n",
       "sentence         object\n",
       "Title            object\n",
       "English          object\n",
       "dtype: object"
      ]
     },
     "execution_count": 43,
     "metadata": {},
     "output_type": "execute_result"
    }
   ],
   "execution_count": 43
  },
  {
   "metadata": {
    "ExecuteTime": {
     "end_time": "2024-09-05T10:15:31.931960Z",
     "start_time": "2024-09-05T10:15:31.910919Z"
    }
   },
   "cell_type": "code",
   "source": "hashlib.md5(b\"bladiebla\").hexdigest()",
   "id": "2eea17e322ef9ee3",
   "outputs": [
    {
     "data": {
      "text/plain": [
       "'29940b146d722a311446ca2d68f9739d'"
      ]
     },
     "execution_count": 44,
     "metadata": {},
     "output_type": "execute_result"
    }
   ],
   "execution_count": 44
  },
  {
   "metadata": {
    "ExecuteTime": {
     "end_time": "2024-09-05T10:15:32.014802Z",
     "start_time": "2024-09-05T10:15:31.994929Z"
    }
   },
   "cell_type": "code",
   "source": [
    "def get_song_str(fn):\n",
    "    part_1 = (fn.split(',')[0]).strip()\n",
    "    part_2 = part_1.split(\"_\")[-2:]\n",
    "    return \"_\".join(part_2)"
   ],
   "id": "819cf68f4682ad86",
   "outputs": [],
   "execution_count": 45
  },
  {
   "metadata": {
    "ExecuteTime": {
     "end_time": "2024-09-05T10:15:32.097793Z",
     "start_time": "2024-09-05T10:15:32.036416Z"
    }
   },
   "cell_type": "code",
   "source": [
    "filenames = os.listdir('clips_processed')\n",
    "\n",
    "file_df = pd.DataFrame([{'client_id': hashlib.md5(b\"\"+(f\"{get_song_str(s)}\").encode(\"latin1\")).hexdigest(),\n",
    "  'path': s,\n",
    "  'song': s.split(\",\")[0].strip().split(\"_\")[-1],\n",
    "  'phrase_version': s.split(\"_\")[0],\n",
    "  'phrase_number': int(s.split(',')[1].strip().split(\"_\")[1])\n",
    "  } for s in filenames])"
   ],
   "id": "c38f20cb39ac9220",
   "outputs": [],
   "execution_count": 46
  },
  {
   "metadata": {
    "ExecuteTime": {
     "end_time": "2024-09-05T10:15:32.157863Z",
     "start_time": "2024-09-05T10:15:32.130467Z"
    }
   },
   "cell_type": "code",
   "source": "file_df",
   "id": "5fca883a9bdcbf8d",
   "outputs": [
    {
     "data": {
      "text/plain": [
       "                             client_id  \\\n",
       "0     e687cfb58aa0a2abf7dc596503cfcf68   \n",
       "1     5641ceb7957ec589f136638189c5fc5d   \n",
       "2     a168b2952fd26fad6352725ad5d32c89   \n",
       "3     5200d298dcdf65f11f9b738a8b0b68dd   \n",
       "4     a05faf2da14346a9eebcb1cef52cdf70   \n",
       "...                                ...   \n",
       "6008  717a92c1cd9b05391b5e20b6ddb6e98e   \n",
       "6009  5641ceb7957ec589f136638189c5fc5d   \n",
       "6010  2bfd305a6c139c602fcf11065c368d67   \n",
       "6011  5641ceb7957ec589f136638189c5fc5d   \n",
       "6012  5200d298dcdf65f11f9b738a8b0b68dd   \n",
       "\n",
       "                                           path song phrase_version  \\\n",
       "0     prep3_song_34,phrase_722,time_113-125.wav   34          prep3   \n",
       "1     prep5_song_7, phrase_134,time_311-321.wav    7          prep5   \n",
       "2      prep1_song_1, phrase_21,time_119-122.wav    1          prep1   \n",
       "3       prep5_song_19,phrase_457,time_00-06.wav   19          prep5   \n",
       "4       prep6_song_16,phrase_395,time_22-30.wav   16          prep6   \n",
       "...                                         ...  ...            ...   \n",
       "6008  prep4_song_37,phrase_773,time_203-208.wav   37          prep4   \n",
       "6009    prep2_song_7, phrase_120,time_41-52.wav    7          prep2   \n",
       "6010  prep4_song_9, phrase_184,time_113-119.wav    9          prep4   \n",
       "6011  prep6_song_7, phrase_143,time_435-442.wav    7          prep6   \n",
       "6012  prep6_song_19,phrase_470,time_111-116.wav   19          prep6   \n",
       "\n",
       "      phrase_number  \n",
       "0               722  \n",
       "1               134  \n",
       "2                21  \n",
       "3               457  \n",
       "4               395  \n",
       "...             ...  \n",
       "6008            773  \n",
       "6009            120  \n",
       "6010            184  \n",
       "6011            143  \n",
       "6012            470  \n",
       "\n",
       "[6013 rows x 5 columns]"
      ],
      "text/html": [
       "<div>\n",
       "<style scoped>\n",
       "    .dataframe tbody tr th:only-of-type {\n",
       "        vertical-align: middle;\n",
       "    }\n",
       "\n",
       "    .dataframe tbody tr th {\n",
       "        vertical-align: top;\n",
       "    }\n",
       "\n",
       "    .dataframe thead th {\n",
       "        text-align: right;\n",
       "    }\n",
       "</style>\n",
       "<table border=\"1\" class=\"dataframe\">\n",
       "  <thead>\n",
       "    <tr style=\"text-align: right;\">\n",
       "      <th></th>\n",
       "      <th>client_id</th>\n",
       "      <th>path</th>\n",
       "      <th>song</th>\n",
       "      <th>phrase_version</th>\n",
       "      <th>phrase_number</th>\n",
       "    </tr>\n",
       "  </thead>\n",
       "  <tbody>\n",
       "    <tr>\n",
       "      <th>0</th>\n",
       "      <td>e687cfb58aa0a2abf7dc596503cfcf68</td>\n",
       "      <td>prep3_song_34,phrase_722,time_113-125.wav</td>\n",
       "      <td>34</td>\n",
       "      <td>prep3</td>\n",
       "      <td>722</td>\n",
       "    </tr>\n",
       "    <tr>\n",
       "      <th>1</th>\n",
       "      <td>5641ceb7957ec589f136638189c5fc5d</td>\n",
       "      <td>prep5_song_7, phrase_134,time_311-321.wav</td>\n",
       "      <td>7</td>\n",
       "      <td>prep5</td>\n",
       "      <td>134</td>\n",
       "    </tr>\n",
       "    <tr>\n",
       "      <th>2</th>\n",
       "      <td>a168b2952fd26fad6352725ad5d32c89</td>\n",
       "      <td>prep1_song_1, phrase_21,time_119-122.wav</td>\n",
       "      <td>1</td>\n",
       "      <td>prep1</td>\n",
       "      <td>21</td>\n",
       "    </tr>\n",
       "    <tr>\n",
       "      <th>3</th>\n",
       "      <td>5200d298dcdf65f11f9b738a8b0b68dd</td>\n",
       "      <td>prep5_song_19,phrase_457,time_00-06.wav</td>\n",
       "      <td>19</td>\n",
       "      <td>prep5</td>\n",
       "      <td>457</td>\n",
       "    </tr>\n",
       "    <tr>\n",
       "      <th>4</th>\n",
       "      <td>a05faf2da14346a9eebcb1cef52cdf70</td>\n",
       "      <td>prep6_song_16,phrase_395,time_22-30.wav</td>\n",
       "      <td>16</td>\n",
       "      <td>prep6</td>\n",
       "      <td>395</td>\n",
       "    </tr>\n",
       "    <tr>\n",
       "      <th>...</th>\n",
       "      <td>...</td>\n",
       "      <td>...</td>\n",
       "      <td>...</td>\n",
       "      <td>...</td>\n",
       "      <td>...</td>\n",
       "    </tr>\n",
       "    <tr>\n",
       "      <th>6008</th>\n",
       "      <td>717a92c1cd9b05391b5e20b6ddb6e98e</td>\n",
       "      <td>prep4_song_37,phrase_773,time_203-208.wav</td>\n",
       "      <td>37</td>\n",
       "      <td>prep4</td>\n",
       "      <td>773</td>\n",
       "    </tr>\n",
       "    <tr>\n",
       "      <th>6009</th>\n",
       "      <td>5641ceb7957ec589f136638189c5fc5d</td>\n",
       "      <td>prep2_song_7, phrase_120,time_41-52.wav</td>\n",
       "      <td>7</td>\n",
       "      <td>prep2</td>\n",
       "      <td>120</td>\n",
       "    </tr>\n",
       "    <tr>\n",
       "      <th>6010</th>\n",
       "      <td>2bfd305a6c139c602fcf11065c368d67</td>\n",
       "      <td>prep4_song_9, phrase_184,time_113-119.wav</td>\n",
       "      <td>9</td>\n",
       "      <td>prep4</td>\n",
       "      <td>184</td>\n",
       "    </tr>\n",
       "    <tr>\n",
       "      <th>6011</th>\n",
       "      <td>5641ceb7957ec589f136638189c5fc5d</td>\n",
       "      <td>prep6_song_7, phrase_143,time_435-442.wav</td>\n",
       "      <td>7</td>\n",
       "      <td>prep6</td>\n",
       "      <td>143</td>\n",
       "    </tr>\n",
       "    <tr>\n",
       "      <th>6012</th>\n",
       "      <td>5200d298dcdf65f11f9b738a8b0b68dd</td>\n",
       "      <td>prep6_song_19,phrase_470,time_111-116.wav</td>\n",
       "      <td>19</td>\n",
       "      <td>prep6</td>\n",
       "      <td>470</td>\n",
       "    </tr>\n",
       "  </tbody>\n",
       "</table>\n",
       "<p>6013 rows × 5 columns</p>\n",
       "</div>"
      ]
     },
     "execution_count": 47,
     "metadata": {},
     "output_type": "execute_result"
    }
   ],
   "execution_count": 47
  },
  {
   "metadata": {
    "ExecuteTime": {
     "end_time": "2024-09-05T10:15:32.269326Z",
     "start_time": "2024-09-05T10:15:32.241569Z"
    }
   },
   "cell_type": "code",
   "source": "final_df = lyrics_original[['phrase_number', 'sentence']].merge(file_df, how='inner', on='phrase_number')",
   "id": "4fd8f1d71999b637",
   "outputs": [],
   "execution_count": 48
  },
  {
   "metadata": {
    "ExecuteTime": {
     "end_time": "2024-09-05T10:15:32.365003Z",
     "start_time": "2024-09-05T10:15:32.326678Z"
    }
   },
   "cell_type": "code",
   "source": [
    "final_df = final_df.assign(locale='ga-IE')\n",
    "final_df = final_df.assign(sentence_domain='')\n",
    "final_df = final_df.assign(up_votes='')\n",
    "final_df = final_df.assign(down_votes='')\n",
    "final_df = final_df.assign(age='')\n",
    "final_df = final_df.assign(gender='')\n",
    "final_df = final_df.assign(accents='')\n",
    "final_df = final_df.assign(variant='')"
   ],
   "id": "58ea882dcab884",
   "outputs": [],
   "execution_count": 49
  },
  {
   "metadata": {
    "ExecuteTime": {
     "end_time": "2024-09-05T10:15:32.430032Z",
     "start_time": "2024-09-05T10:15:32.404696Z"
    }
   },
   "cell_type": "code",
   "source": [
    "gender_map = {\n",
    "    '1': 'male',\n",
    "    '2': 'female',\n",
    "    '3': 'female',\n",
    "    '4': 'male',\n",
    "    '5': 'female',\n",
    "    '6': 'female', \n",
    "    '7': 'male',\n",
    "    '8': 'male',\n",
    "    '9': 'male',\n",
    "    '11': 'female',\n",
    "    '12': 'female',\n",
    "    '13': 'female',\n",
    "    '14': 'female',\n",
    "    '15': 'male',\n",
    "    '16': 'male',\n",
    "    '17': 'female',\n",
    "    '18': 'male',\n",
    "    '19': 'male',\n",
    "    '22': 'female',\n",
    "    '23': 'female',\n",
    "    '24': 'female',\n",
    "    '25': 'female',\n",
    "    '26': 'female',\n",
    "    '27': 'female',\n",
    "    '28': 'female',\n",
    "    '29': 'female',\n",
    "    '30': 'male',\n",
    "    '31': 'female',\n",
    "    '32': 'female', \n",
    "    '33': 'female',\n",
    "    '34': 'female',\n",
    "    '35': 'female',\n",
    "    '36': 'female',\n",
    "    '37': 'female',\n",
    "    '38': 'male',\n",
    "    '39': 'female',   \n",
    "}\n",
    "\n",
    "client_map = {\n",
    "    'fb10b1b655a2b34af288a4ff51460080': 'female',\n",
    "    'eb6e87c69c6bb1914b33b66e22c43b22': 'female',\n",
    "    'ce29c518eaf3469a00c1b49df4a6fa58': 'female',\n",
    "    'b9ce569cc8664a79633c2e49b6951772': 'female',\n",
    "    'b501dd4c046f528a66c085a29a77fa96': 'female',\n",
    "    'ad7c36b78f0904b97958275bc316fc4a': 'female',\n",
    "    'a168b2952fd26fad6352725ad5d32c89': 'male',\n",
    "    'a05faf2da14346a9eebcb1cef52cdf70': 'male',\n",
    "    '9d6bf453b18c2401cf42e86fd7084048': 'male',\n",
    "    '9be4875162b0b52ac5853090d9816d9e': 'female',\n",
    "    '8a3d80b09d305f7e61710569dacd7b8a': 'male',\n",
    "    '82072466fe7e953258121bfed776c4c8': 'male',\n",
    "    '8059835b0296b8f2d8f88ee9d5ff2bc1': 'female',\n",
    "    '7cc5fa83c13a9bba0058047168213fd3': 'female',\n",
    "    '7396e94dda5897f01e213ea8895f5f34': 'female',\n",
    "    '6685ae01c52fccb1b73d803bc0ac65f2': 'female',\n",
    "    '5d179b5ee524d198cb483c6b6ff22e56': 'female',\n",
    "    '5641ceb7957ec589f136638189c5fc5d': 'male',\n",
    "    '53deaae6c3c39e7db142a88fb1859ba8': 'female',\n",
    "    '5200d298dcdf65f11f9b738a8b0b68dd': 'male',\n",
    "    '42a114cfae45f0e7562ecee67c7c4b9b': 'female',\n",
    "    '40b30d9f3e6d06f3d9cc6d118b04fda7': 'male',\n",
    "    '3f4d025bf63ba0bd11873d448217c394': 'female',\n",
    "    '3c514de0167d3e12cda5f1221269ccfa': 'male',\n",
    "    '3b1b99b2d042b9228b9b6ed7ba6ef0cf': 'female',\n",
    "    '2d6587eaf934b300a40091b3df85ce66': 'female',\n",
    "    '2bfd305a6c139c602fcf11065c368d67': 'male',\n",
    "    '23f2d50b628d98ecd1458b53ebd1e0c4': 'male',\n",
    "    '24b00678a1add71b1a69837a0e2478c1': 'female',\n",
    "    '5599a98ac42fb2d3b2618ca52d4ee48c': 'female',\n",
    "    'e687cfb58aa0a2abf7dc596503cfcf68': 'female',\n",
    "    '666ac977145186527ee2ee11e0b8335e': 'female',\n",
    "    '40291794d294568b8e881d84b63b4d4a': 'female',\n",
    "    '717a92c1cd9b05391b5e20b6ddb6e98e': 'female',\n",
    "    '03c0170448334d0b0cfab68ee3690b7c': 'male',\n",
    "    'e30aaf33d6b93dc7b766641a2a03efc1': 'female'\n",
    "}\n"
   ],
   "id": "ea7fd35e023e7534",
   "outputs": [],
   "execution_count": 50
  },
  {
   "metadata": {
    "ExecuteTime": {
     "end_time": "2024-09-05T10:15:32.472697Z",
     "start_time": "2024-09-05T10:15:32.448481Z"
    }
   },
   "cell_type": "code",
   "source": [
    "final_df = final_df.assign(gender=final_df.song.map(gender_map))\n",
    "#final_df = final_df.assign(client_id=final_df.client_id.map(client_map))"
   ],
   "id": "91c91867d279edc5",
   "outputs": [],
   "execution_count": 51
  },
  {
   "metadata": {
    "ExecuteTime": {
     "end_time": "2024-09-05T10:15:32.527669Z",
     "start_time": "2024-09-05T10:15:32.505285Z"
    }
   },
   "cell_type": "code",
   "source": "final_df = final_df.dropna(subset=['sentence'], axis=0)",
   "id": "4e1ab175f378a13a",
   "outputs": [],
   "execution_count": 52
  },
  {
   "metadata": {
    "ExecuteTime": {
     "end_time": "2024-09-05T10:15:32.583575Z",
     "start_time": "2024-09-05T10:15:32.557757Z"
    }
   },
   "cell_type": "code",
   "source": "final_df = final_df.assign(sentence_id = final_df.sentence.apply(lambda s: hashlib.md5(s.encode(\"utf-8\")).hexdigest() ))",
   "id": "f94eabcaf085bb39",
   "outputs": [],
   "execution_count": 53
  },
  {
   "metadata": {
    "ExecuteTime": {
     "end_time": "2024-09-05T10:19:20.477570Z",
     "start_time": "2024-09-05T10:19:20.412706Z"
    }
   },
   "cell_type": "code",
   "source": [
    "final_df.sentence = final_df.sentence.str.replace('*','', regex=False)\n",
    "final_df.sentence = final_df.sentence.str.replace('-',', ', regex=False)\n",
    "final_df.sentence = final_df.sentence.str.replace('`',\"'\", regex=False)\n",
    "final_df.sentence = final_df.sentence.str.replace('’',\"'\", regex=False)\n",
    "final_df.sentence = final_df.sentence.str.replace('‘',\"'\", regex=False)"
   ],
   "id": "c1aa2141d69f17d6",
   "outputs": [],
   "execution_count": 63
  },
  {
   "metadata": {
    "ExecuteTime": {
     "end_time": "2024-09-05T10:19:25.097236Z",
     "start_time": "2024-09-05T10:19:25.014240Z"
    }
   },
   "cell_type": "code",
   "source": [
    "columns = ['client_id', 'path', 'sentence', 'sentence_id', 'sentence_domain', 'up_votes', 'down_votes', 'age', 'gender', 'accents', 'variant', 'locale']\n",
    "\n",
    "# from client_id select 2 sentences for validation and remove from final_df\n",
    "test_df = final_df.groupby('client_id').apply(lambda x: x.sample(n=2, replace=False)).drop('client_id', axis=1).reset_index()\n",
    "rm_indcs = test_df.level_1\n",
    "test_df = test_df.drop('level_1', axis=1)"
   ],
   "id": "19699cd563387673",
   "outputs": [],
   "execution_count": 64
  },
  {
   "metadata": {
    "ExecuteTime": {
     "end_time": "2024-09-05T10:19:25.417068Z",
     "start_time": "2024-09-05T10:19:25.383960Z"
    }
   },
   "cell_type": "code",
   "source": [
    "mask = np.ones(len(final_df), dtype=bool)\n",
    "mask[rm_indcs] = False\n",
    "train_df = final_df.iloc[mask]"
   ],
   "id": "ade6f4d64f752a1",
   "outputs": [],
   "execution_count": 65
  },
  {
   "metadata": {
    "ExecuteTime": {
     "end_time": "2024-09-05T10:19:25.808365Z",
     "start_time": "2024-09-05T10:19:25.699395Z"
    }
   },
   "cell_type": "code",
   "source": [
    "test_df[columns].to_csv('test.tsv', sep='\\t', index=False)\n",
    "train_df[columns].to_csv('train.tsv', sep='\\t', index=False)"
   ],
   "id": "85fbbb7f4a835913",
   "outputs": [],
   "execution_count": 66
  },
  {
   "metadata": {
    "ExecuteTime": {
     "end_time": "2024-09-05T10:19:26.523097Z",
     "start_time": "2024-09-05T10:19:26.441996Z"
    }
   },
   "cell_type": "code",
   "source": "train_df",
   "id": "c0000cf1540f9390",
   "outputs": [
    {
     "data": {
      "text/plain": [
       "      phrase_number                              sentence  \\\n",
       "0                 1  'Sé do bheatha, a bhean ba léanmhar,   \n",
       "1                 1  'Sé do bheatha, a bhean ba léanmhar,   \n",
       "2                 1  'Sé do bheatha, a bhean ba léanmhar,   \n",
       "3                 1  'Sé do bheatha, a bhean ba léanmhar,   \n",
       "4                 1  'Sé do bheatha, a bhean ba léanmhar,   \n",
       "...             ...                                   ...   \n",
       "5924            859    Agus bheadh sí i gcónaí agam féin.   \n",
       "5925            859    Agus bheadh sí i gcónaí agam féin.   \n",
       "5926            859    Agus bheadh sí i gcónaí agam féin.   \n",
       "5927            859    Agus bheadh sí i gcónaí agam féin.   \n",
       "5928            859    Agus bheadh sí i gcónaí agam féin.   \n",
       "\n",
       "                             client_id  \\\n",
       "0     a168b2952fd26fad6352725ad5d32c89   \n",
       "1     a168b2952fd26fad6352725ad5d32c89   \n",
       "2     a168b2952fd26fad6352725ad5d32c89   \n",
       "3     a168b2952fd26fad6352725ad5d32c89   \n",
       "4     a168b2952fd26fad6352725ad5d32c89   \n",
       "...                                ...   \n",
       "5924  e30aaf33d6b93dc7b766641a2a03efc1   \n",
       "5925  e30aaf33d6b93dc7b766641a2a03efc1   \n",
       "5926  e30aaf33d6b93dc7b766641a2a03efc1   \n",
       "5927  e30aaf33d6b93dc7b766641a2a03efc1   \n",
       "5928  e30aaf33d6b93dc7b766641a2a03efc1   \n",
       "\n",
       "                                           path song phrase_version locale  \\\n",
       "0       prep1_song_1,phrase_1, ime_range0-5.wav    1          prep1  ga-IE   \n",
       "1       prep5_song_1,phrase_1, ime_range0-5.wav    1          prep5  ga-IE   \n",
       "2       prep3_song_1,phrase_1, ime_range0-5.wav    1          prep3  ga-IE   \n",
       "3       prep6_song_1,phrase_1, ime_range0-5.wav    1          prep6  ga-IE   \n",
       "4       prep7_song_1,phrase_1, ime_range0-5.wav    1          prep7  ga-IE   \n",
       "...                                         ...  ...            ...    ...   \n",
       "5924  prep2_song_39,phrase_859,time_139-140.wav   39          prep2  ga-IE   \n",
       "5925  prep4_song_39,phrase_859,time_139-140.wav   39          prep4  ga-IE   \n",
       "5926  prep3_song_39,phrase_859,time_139-140.wav   39          prep3  ga-IE   \n",
       "5927  prep6_song_39,phrase_859,time_139-140.wav   39          prep6  ga-IE   \n",
       "5928  prep1_song_39,phrase_859,time_139-140.wav   39          prep1  ga-IE   \n",
       "\n",
       "     sentence_domain up_votes down_votes age  gender accents variant  \\\n",
       "0                                               male                   \n",
       "1                                               male                   \n",
       "2                                               male                   \n",
       "3                                               male                   \n",
       "4                                               male                   \n",
       "...              ...      ...        ...  ..     ...     ...     ...   \n",
       "5924                                          female                   \n",
       "5925                                          female                   \n",
       "5926                                          female                   \n",
       "5927                                          female                   \n",
       "5928                                          female                   \n",
       "\n",
       "                           sentence_id  \n",
       "0     6970c4d40220f150755cc0a753f3859d  \n",
       "1     6970c4d40220f150755cc0a753f3859d  \n",
       "2     6970c4d40220f150755cc0a753f3859d  \n",
       "3     6970c4d40220f150755cc0a753f3859d  \n",
       "4     6970c4d40220f150755cc0a753f3859d  \n",
       "...                                ...  \n",
       "5924  fc4386880d31bbcbc874880bae34dc83  \n",
       "5925  fc4386880d31bbcbc874880bae34dc83  \n",
       "5926  fc4386880d31bbcbc874880bae34dc83  \n",
       "5927  fc4386880d31bbcbc874880bae34dc83  \n",
       "5928  fc4386880d31bbcbc874880bae34dc83  \n",
       "\n",
       "[5855 rows x 15 columns]"
      ],
      "text/html": [
       "<div>\n",
       "<style scoped>\n",
       "    .dataframe tbody tr th:only-of-type {\n",
       "        vertical-align: middle;\n",
       "    }\n",
       "\n",
       "    .dataframe tbody tr th {\n",
       "        vertical-align: top;\n",
       "    }\n",
       "\n",
       "    .dataframe thead th {\n",
       "        text-align: right;\n",
       "    }\n",
       "</style>\n",
       "<table border=\"1\" class=\"dataframe\">\n",
       "  <thead>\n",
       "    <tr style=\"text-align: right;\">\n",
       "      <th></th>\n",
       "      <th>phrase_number</th>\n",
       "      <th>sentence</th>\n",
       "      <th>client_id</th>\n",
       "      <th>path</th>\n",
       "      <th>song</th>\n",
       "      <th>phrase_version</th>\n",
       "      <th>locale</th>\n",
       "      <th>sentence_domain</th>\n",
       "      <th>up_votes</th>\n",
       "      <th>down_votes</th>\n",
       "      <th>age</th>\n",
       "      <th>gender</th>\n",
       "      <th>accents</th>\n",
       "      <th>variant</th>\n",
       "      <th>sentence_id</th>\n",
       "    </tr>\n",
       "  </thead>\n",
       "  <tbody>\n",
       "    <tr>\n",
       "      <th>0</th>\n",
       "      <td>1</td>\n",
       "      <td>'Sé do bheatha, a bhean ba léanmhar,</td>\n",
       "      <td>a168b2952fd26fad6352725ad5d32c89</td>\n",
       "      <td>prep1_song_1,phrase_1, ime_range0-5.wav</td>\n",
       "      <td>1</td>\n",
       "      <td>prep1</td>\n",
       "      <td>ga-IE</td>\n",
       "      <td></td>\n",
       "      <td></td>\n",
       "      <td></td>\n",
       "      <td></td>\n",
       "      <td>male</td>\n",
       "      <td></td>\n",
       "      <td></td>\n",
       "      <td>6970c4d40220f150755cc0a753f3859d</td>\n",
       "    </tr>\n",
       "    <tr>\n",
       "      <th>1</th>\n",
       "      <td>1</td>\n",
       "      <td>'Sé do bheatha, a bhean ba léanmhar,</td>\n",
       "      <td>a168b2952fd26fad6352725ad5d32c89</td>\n",
       "      <td>prep5_song_1,phrase_1, ime_range0-5.wav</td>\n",
       "      <td>1</td>\n",
       "      <td>prep5</td>\n",
       "      <td>ga-IE</td>\n",
       "      <td></td>\n",
       "      <td></td>\n",
       "      <td></td>\n",
       "      <td></td>\n",
       "      <td>male</td>\n",
       "      <td></td>\n",
       "      <td></td>\n",
       "      <td>6970c4d40220f150755cc0a753f3859d</td>\n",
       "    </tr>\n",
       "    <tr>\n",
       "      <th>2</th>\n",
       "      <td>1</td>\n",
       "      <td>'Sé do bheatha, a bhean ba léanmhar,</td>\n",
       "      <td>a168b2952fd26fad6352725ad5d32c89</td>\n",
       "      <td>prep3_song_1,phrase_1, ime_range0-5.wav</td>\n",
       "      <td>1</td>\n",
       "      <td>prep3</td>\n",
       "      <td>ga-IE</td>\n",
       "      <td></td>\n",
       "      <td></td>\n",
       "      <td></td>\n",
       "      <td></td>\n",
       "      <td>male</td>\n",
       "      <td></td>\n",
       "      <td></td>\n",
       "      <td>6970c4d40220f150755cc0a753f3859d</td>\n",
       "    </tr>\n",
       "    <tr>\n",
       "      <th>3</th>\n",
       "      <td>1</td>\n",
       "      <td>'Sé do bheatha, a bhean ba léanmhar,</td>\n",
       "      <td>a168b2952fd26fad6352725ad5d32c89</td>\n",
       "      <td>prep6_song_1,phrase_1, ime_range0-5.wav</td>\n",
       "      <td>1</td>\n",
       "      <td>prep6</td>\n",
       "      <td>ga-IE</td>\n",
       "      <td></td>\n",
       "      <td></td>\n",
       "      <td></td>\n",
       "      <td></td>\n",
       "      <td>male</td>\n",
       "      <td></td>\n",
       "      <td></td>\n",
       "      <td>6970c4d40220f150755cc0a753f3859d</td>\n",
       "    </tr>\n",
       "    <tr>\n",
       "      <th>4</th>\n",
       "      <td>1</td>\n",
       "      <td>'Sé do bheatha, a bhean ba léanmhar,</td>\n",
       "      <td>a168b2952fd26fad6352725ad5d32c89</td>\n",
       "      <td>prep7_song_1,phrase_1, ime_range0-5.wav</td>\n",
       "      <td>1</td>\n",
       "      <td>prep7</td>\n",
       "      <td>ga-IE</td>\n",
       "      <td></td>\n",
       "      <td></td>\n",
       "      <td></td>\n",
       "      <td></td>\n",
       "      <td>male</td>\n",
       "      <td></td>\n",
       "      <td></td>\n",
       "      <td>6970c4d40220f150755cc0a753f3859d</td>\n",
       "    </tr>\n",
       "    <tr>\n",
       "      <th>...</th>\n",
       "      <td>...</td>\n",
       "      <td>...</td>\n",
       "      <td>...</td>\n",
       "      <td>...</td>\n",
       "      <td>...</td>\n",
       "      <td>...</td>\n",
       "      <td>...</td>\n",
       "      <td>...</td>\n",
       "      <td>...</td>\n",
       "      <td>...</td>\n",
       "      <td>...</td>\n",
       "      <td>...</td>\n",
       "      <td>...</td>\n",
       "      <td>...</td>\n",
       "      <td>...</td>\n",
       "    </tr>\n",
       "    <tr>\n",
       "      <th>5924</th>\n",
       "      <td>859</td>\n",
       "      <td>Agus bheadh sí i gcónaí agam féin.</td>\n",
       "      <td>e30aaf33d6b93dc7b766641a2a03efc1</td>\n",
       "      <td>prep2_song_39,phrase_859,time_139-140.wav</td>\n",
       "      <td>39</td>\n",
       "      <td>prep2</td>\n",
       "      <td>ga-IE</td>\n",
       "      <td></td>\n",
       "      <td></td>\n",
       "      <td></td>\n",
       "      <td></td>\n",
       "      <td>female</td>\n",
       "      <td></td>\n",
       "      <td></td>\n",
       "      <td>fc4386880d31bbcbc874880bae34dc83</td>\n",
       "    </tr>\n",
       "    <tr>\n",
       "      <th>5925</th>\n",
       "      <td>859</td>\n",
       "      <td>Agus bheadh sí i gcónaí agam féin.</td>\n",
       "      <td>e30aaf33d6b93dc7b766641a2a03efc1</td>\n",
       "      <td>prep4_song_39,phrase_859,time_139-140.wav</td>\n",
       "      <td>39</td>\n",
       "      <td>prep4</td>\n",
       "      <td>ga-IE</td>\n",
       "      <td></td>\n",
       "      <td></td>\n",
       "      <td></td>\n",
       "      <td></td>\n",
       "      <td>female</td>\n",
       "      <td></td>\n",
       "      <td></td>\n",
       "      <td>fc4386880d31bbcbc874880bae34dc83</td>\n",
       "    </tr>\n",
       "    <tr>\n",
       "      <th>5926</th>\n",
       "      <td>859</td>\n",
       "      <td>Agus bheadh sí i gcónaí agam féin.</td>\n",
       "      <td>e30aaf33d6b93dc7b766641a2a03efc1</td>\n",
       "      <td>prep3_song_39,phrase_859,time_139-140.wav</td>\n",
       "      <td>39</td>\n",
       "      <td>prep3</td>\n",
       "      <td>ga-IE</td>\n",
       "      <td></td>\n",
       "      <td></td>\n",
       "      <td></td>\n",
       "      <td></td>\n",
       "      <td>female</td>\n",
       "      <td></td>\n",
       "      <td></td>\n",
       "      <td>fc4386880d31bbcbc874880bae34dc83</td>\n",
       "    </tr>\n",
       "    <tr>\n",
       "      <th>5927</th>\n",
       "      <td>859</td>\n",
       "      <td>Agus bheadh sí i gcónaí agam féin.</td>\n",
       "      <td>e30aaf33d6b93dc7b766641a2a03efc1</td>\n",
       "      <td>prep6_song_39,phrase_859,time_139-140.wav</td>\n",
       "      <td>39</td>\n",
       "      <td>prep6</td>\n",
       "      <td>ga-IE</td>\n",
       "      <td></td>\n",
       "      <td></td>\n",
       "      <td></td>\n",
       "      <td></td>\n",
       "      <td>female</td>\n",
       "      <td></td>\n",
       "      <td></td>\n",
       "      <td>fc4386880d31bbcbc874880bae34dc83</td>\n",
       "    </tr>\n",
       "    <tr>\n",
       "      <th>5928</th>\n",
       "      <td>859</td>\n",
       "      <td>Agus bheadh sí i gcónaí agam féin.</td>\n",
       "      <td>e30aaf33d6b93dc7b766641a2a03efc1</td>\n",
       "      <td>prep1_song_39,phrase_859,time_139-140.wav</td>\n",
       "      <td>39</td>\n",
       "      <td>prep1</td>\n",
       "      <td>ga-IE</td>\n",
       "      <td></td>\n",
       "      <td></td>\n",
       "      <td></td>\n",
       "      <td></td>\n",
       "      <td>female</td>\n",
       "      <td></td>\n",
       "      <td></td>\n",
       "      <td>fc4386880d31bbcbc874880bae34dc83</td>\n",
       "    </tr>\n",
       "  </tbody>\n",
       "</table>\n",
       "<p>5855 rows × 15 columns</p>\n",
       "</div>"
      ]
     },
     "execution_count": 67,
     "metadata": {},
     "output_type": "execute_result"
    }
   ],
   "execution_count": 67
  },
  {
   "metadata": {
    "ExecuteTime": {
     "end_time": "2024-09-05T10:19:27.296131Z",
     "start_time": "2024-09-05T10:19:27.275995Z"
    }
   },
   "cell_type": "code",
   "source": [
    "import wave\n",
    "def get_wav_duration(filepath):\n",
    "    with wave.open(filepath, 'rb') as wav_file:\n",
    "        frames = wav_file.getnframes()\n",
    "        rate = wav_file.getframerate()\n",
    "        duration = frames / float(rate)\n",
    "        return int(duration * 1000)  "
   ],
   "id": "ebf5ba359be2dd6a",
   "outputs": [],
   "execution_count": 68
  },
  {
   "metadata": {
    "ExecuteTime": {
     "end_time": "2024-09-05T10:19:28.127230Z",
     "start_time": "2024-09-05T10:19:27.681849Z"
    }
   },
   "cell_type": "code",
   "source": [
    "duration_df = []\n",
    "for f in filenames:\n",
    "    duration = get_wav_duration(os.path.join('clips_processed', f))\n",
    "    duration_df.append({'clip': f,  'duration[ms': duration})\n",
    "    \n",
    "pd.DataFrame(duration_df).to_csv('clip_durations.tsv', sep='\\t', index=False)\n",
    "\n"
   ],
   "id": "6d6195743d74a2fc",
   "outputs": [],
   "execution_count": 69
  },
  {
   "metadata": {},
   "cell_type": "code",
   "outputs": [],
   "execution_count": null,
   "source": "",
   "id": "5477eaec9e63f4d1"
  }
 ],
 "metadata": {
  "kernelspec": {
   "display_name": "Python 3",
   "language": "python",
   "name": "python3"
  },
  "language_info": {
   "codemirror_mode": {
    "name": "ipython",
    "version": 2
   },
   "file_extension": ".py",
   "mimetype": "text/x-python",
   "name": "python",
   "nbconvert_exporter": "python",
   "pygments_lexer": "ipython2",
   "version": "2.7.6"
  }
 },
 "nbformat": 4,
 "nbformat_minor": 5
}
