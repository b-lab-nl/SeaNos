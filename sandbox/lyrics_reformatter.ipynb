{
 "cells": [
  {
   "metadata": {
    "ExecuteTime": {
     "end_time": "2024-09-10T14:58:28.825671Z",
     "start_time": "2024-09-10T14:58:28.788637Z"
    }
   },
   "cell_type": "code",
   "source": [
    "'''\n",
    "We ingest the data.ods and reformat to\n",
    "client_id \\t path \\t sentence_id \\t sentence \\t locale\n",
    "\n",
    "Here\n",
    "client_id is a unique identifier for the song\n",
    "path is a path to the song\n",
    "sentence_id is a unique identifier for the sentence\n",
    "sentence is the Gaelic text\n",
    "sentence_domain=up_votes=down_votes=age=gender=accents=variant\n",
    "locale is set to ga-IE\n",
    "\n",
    "The client_id can be extracted from the filename \"song_x,..wav\"\n",
    "The sentence_id can be extracted from the \"..., phrase_xx..wav\"\n",
    "\n",
    "The filenames can be coupled to the filenames via the phrase_number, which is in on the data.ods\n",
    "'''\n"
   ],
   "id": "7b63461d10852377",
   "outputs": [
    {
     "data": {
      "text/plain": [
       "'\\nWe ingest the data.ods and reformat to\\nclient_id \\t path \\t sentence_id \\t sentence \\t locale\\n\\nHere\\nclient_id is a unique identifier for the song\\npath is a path to the song\\nsentence_id is a unique identifier for the sentence\\nsentence is the Gaelic text\\nsentence_domain=up_votes=down_votes=age=gender=accents=variant\\nlocale is set to ga-IE\\n\\nThe client_id can be extracted from the filename \"song_x,..wav\"\\nThe sentence_id can be extracted from the \"..., phrase_xx..wav\"\\n\\nThe filenames can be coupled to the filenames via the phrase_number, which is in on the data.ods\\n'"
      ]
     },
     "execution_count": 23,
     "metadata": {},
     "output_type": "execute_result"
    }
   ],
   "execution_count": 23
  },
  {
   "metadata": {
    "ExecuteTime": {
     "end_time": "2024-09-10T14:58:28.896953Z",
     "start_time": "2024-09-10T14:58:28.856312Z"
    }
   },
   "cell_type": "code",
   "source": [
    "%load_ext autoreload\n",
    "%autoreload 2\n",
    "import os\n",
    "import re\n",
    "import hashlib\n",
    "import pandas as pd\n",
    "import numpy as np"
   ],
   "id": "e2484a0f5dea91a6",
   "outputs": [
    {
     "name": "stdout",
     "output_type": "stream",
     "text": [
      "The autoreload extension is already loaded. To reload it, use:\n",
      "  %reload_ext autoreload\n"
     ]
    }
   ],
   "execution_count": 24
  },
  {
   "metadata": {
    "ExecuteTime": {
     "end_time": "2024-09-10T14:58:28.978582Z",
     "start_time": "2024-09-10T14:58:28.952062Z"
    }
   },
   "cell_type": "code",
   "source": "os.chdir('/media/bramiozo/DATA-FAST/TTS/tts_models/gle/seannos_datasource')",
   "id": "f897864e2adefed1",
   "outputs": [],
   "execution_count": 25
  },
  {
   "metadata": {
    "ExecuteTime": {
     "end_time": "2024-09-10T14:58:29.526548Z",
     "start_time": "2024-09-10T14:58:29.021512Z"
    }
   },
   "cell_type": "code",
   "source": "lyrics_original =  pd.read_excel('dataset_lyrics/lyrics.ods')",
   "id": "5c6e2d153be528f6",
   "outputs": [],
   "execution_count": 26
  },
  {
   "metadata": {
    "ExecuteTime": {
     "end_time": "2024-09-10T14:58:29.582798Z",
     "start_time": "2024-09-10T14:58:29.559542Z"
    }
   },
   "cell_type": "code",
   "source": "lyrics_original.dtypes",
   "id": "2d3dd7398cbd91d6",
   "outputs": [
    {
     "data": {
      "text/plain": [
       "phrase_number     int64\n",
       "sentence         object\n",
       "Title            object\n",
       "English          object\n",
       "dtype: object"
      ]
     },
     "execution_count": 27,
     "metadata": {},
     "output_type": "execute_result"
    }
   ],
   "execution_count": 27
  },
  {
   "metadata": {
    "ExecuteTime": {
     "end_time": "2024-09-10T14:58:29.686753Z",
     "start_time": "2024-09-10T14:58:29.663496Z"
    }
   },
   "cell_type": "code",
   "source": "hashlib.md5(b\"bladiebla\").hexdigest()",
   "id": "2eea17e322ef9ee3",
   "outputs": [
    {
     "data": {
      "text/plain": [
       "'29940b146d722a311446ca2d68f9739d'"
      ]
     },
     "execution_count": 28,
     "metadata": {},
     "output_type": "execute_result"
    }
   ],
   "execution_count": 28
  },
  {
   "metadata": {
    "ExecuteTime": {
     "end_time": "2024-09-10T14:58:29.788737Z",
     "start_time": "2024-09-10T14:58:29.766319Z"
    }
   },
   "cell_type": "code",
   "source": [
    "def get_song_str(fn):\n",
    "    part_1 = (fn.split(',')[0]).strip()\n",
    "    part_2 = part_1.split(\"_\")[-2:]\n",
    "    return \"_\".join(part_2)"
   ],
   "id": "819cf68f4682ad86",
   "outputs": [],
   "execution_count": 29
  },
  {
   "metadata": {
    "ExecuteTime": {
     "end_time": "2024-09-10T14:58:29.892982Z",
     "start_time": "2024-09-10T14:58:29.817691Z"
    }
   },
   "cell_type": "code",
   "source": [
    "filenames = os.listdir('clips_processed')\n",
    "\n",
    "file_df = pd.DataFrame([{'client_id': hashlib.md5(b\"\"+(f\"{get_song_str(s)}\").encode(\"latin1\")).hexdigest(),\n",
    "  'path': s,\n",
    "  'song': s.split(\",\")[0].strip().split(\"_\")[-1],\n",
    "  'phrase_version': s.split(\"_\")[0],\n",
    "  'phrase_number': int(s.split(',')[1].strip().split(\"_\")[1])\n",
    "  } for s in filenames])"
   ],
   "id": "c38f20cb39ac9220",
   "outputs": [],
   "execution_count": 30
  },
  {
   "metadata": {
    "ExecuteTime": {
     "end_time": "2024-09-10T14:58:29.977069Z",
     "start_time": "2024-09-10T14:58:29.929777Z"
    }
   },
   "cell_type": "code",
   "source": "file_df",
   "id": "5fca883a9bdcbf8d",
   "outputs": [
    {
     "data": {
      "text/plain": [
       "                             client_id  \\\n",
       "0     b501dd4c046f528a66c085a29a77fa96   \n",
       "1     e687cfb58aa0a2abf7dc596503cfcf68   \n",
       "2     5641ceb7957ec589f136638189c5fc5d   \n",
       "3     a168b2952fd26fad6352725ad5d32c89   \n",
       "4     03c0170448334d0b0cfab68ee3690b7c   \n",
       "...                                ...   \n",
       "7438  666ac977145186527ee2ee11e0b8335e   \n",
       "7439  5641ceb7957ec589f136638189c5fc5d   \n",
       "7440  2bfd305a6c139c602fcf11065c368d67   \n",
       "7441  5641ceb7957ec589f136638189c5fc5d   \n",
       "7442  5200d298dcdf65f11f9b738a8b0b68dd   \n",
       "\n",
       "                                                   path song phrase_version  \\\n",
       "0     resampled_noise_song_11,phrase_228,time_117-12...   11      resampled   \n",
       "1             prep3_song_34,phrase_722,time_113-125.wav   34          prep3   \n",
       "2             prep5_song_7, phrase_134,time_311-321.wav    7          prep5   \n",
       "3              prep1_song_1, phrase_21,time_119-122.wav    1          prep1   \n",
       "4         resampled_song_38,phrase_838,time_753-802.wav   38      resampled   \n",
       "...                                                 ...  ...            ...   \n",
       "7438      resampled_song_35,phrase_747,time_348-403.wav   35      resampled   \n",
       "7439            prep2_song_7, phrase_120,time_41-52.wav    7          prep2   \n",
       "7440          prep4_song_9, phrase_184,time_113-119.wav    9          prep4   \n",
       "7441          prep6_song_7, phrase_143,time_435-442.wav    7          prep6   \n",
       "7442          prep6_song_19,phrase_470,time_111-116.wav   19          prep6   \n",
       "\n",
       "      phrase_number  \n",
       "0               228  \n",
       "1               722  \n",
       "2               134  \n",
       "3                21  \n",
       "4               838  \n",
       "...             ...  \n",
       "7438            747  \n",
       "7439            120  \n",
       "7440            184  \n",
       "7441            143  \n",
       "7442            470  \n",
       "\n",
       "[7443 rows x 5 columns]"
      ],
      "text/html": [
       "<div>\n",
       "<style scoped>\n",
       "    .dataframe tbody tr th:only-of-type {\n",
       "        vertical-align: middle;\n",
       "    }\n",
       "\n",
       "    .dataframe tbody tr th {\n",
       "        vertical-align: top;\n",
       "    }\n",
       "\n",
       "    .dataframe thead th {\n",
       "        text-align: right;\n",
       "    }\n",
       "</style>\n",
       "<table border=\"1\" class=\"dataframe\">\n",
       "  <thead>\n",
       "    <tr style=\"text-align: right;\">\n",
       "      <th></th>\n",
       "      <th>client_id</th>\n",
       "      <th>path</th>\n",
       "      <th>song</th>\n",
       "      <th>phrase_version</th>\n",
       "      <th>phrase_number</th>\n",
       "    </tr>\n",
       "  </thead>\n",
       "  <tbody>\n",
       "    <tr>\n",
       "      <th>0</th>\n",
       "      <td>b501dd4c046f528a66c085a29a77fa96</td>\n",
       "      <td>resampled_noise_song_11,phrase_228,time_117-12...</td>\n",
       "      <td>11</td>\n",
       "      <td>resampled</td>\n",
       "      <td>228</td>\n",
       "    </tr>\n",
       "    <tr>\n",
       "      <th>1</th>\n",
       "      <td>e687cfb58aa0a2abf7dc596503cfcf68</td>\n",
       "      <td>prep3_song_34,phrase_722,time_113-125.wav</td>\n",
       "      <td>34</td>\n",
       "      <td>prep3</td>\n",
       "      <td>722</td>\n",
       "    </tr>\n",
       "    <tr>\n",
       "      <th>2</th>\n",
       "      <td>5641ceb7957ec589f136638189c5fc5d</td>\n",
       "      <td>prep5_song_7, phrase_134,time_311-321.wav</td>\n",
       "      <td>7</td>\n",
       "      <td>prep5</td>\n",
       "      <td>134</td>\n",
       "    </tr>\n",
       "    <tr>\n",
       "      <th>3</th>\n",
       "      <td>a168b2952fd26fad6352725ad5d32c89</td>\n",
       "      <td>prep1_song_1, phrase_21,time_119-122.wav</td>\n",
       "      <td>1</td>\n",
       "      <td>prep1</td>\n",
       "      <td>21</td>\n",
       "    </tr>\n",
       "    <tr>\n",
       "      <th>4</th>\n",
       "      <td>03c0170448334d0b0cfab68ee3690b7c</td>\n",
       "      <td>resampled_song_38,phrase_838,time_753-802.wav</td>\n",
       "      <td>38</td>\n",
       "      <td>resampled</td>\n",
       "      <td>838</td>\n",
       "    </tr>\n",
       "    <tr>\n",
       "      <th>...</th>\n",
       "      <td>...</td>\n",
       "      <td>...</td>\n",
       "      <td>...</td>\n",
       "      <td>...</td>\n",
       "      <td>...</td>\n",
       "    </tr>\n",
       "    <tr>\n",
       "      <th>7438</th>\n",
       "      <td>666ac977145186527ee2ee11e0b8335e</td>\n",
       "      <td>resampled_song_35,phrase_747,time_348-403.wav</td>\n",
       "      <td>35</td>\n",
       "      <td>resampled</td>\n",
       "      <td>747</td>\n",
       "    </tr>\n",
       "    <tr>\n",
       "      <th>7439</th>\n",
       "      <td>5641ceb7957ec589f136638189c5fc5d</td>\n",
       "      <td>prep2_song_7, phrase_120,time_41-52.wav</td>\n",
       "      <td>7</td>\n",
       "      <td>prep2</td>\n",
       "      <td>120</td>\n",
       "    </tr>\n",
       "    <tr>\n",
       "      <th>7440</th>\n",
       "      <td>2bfd305a6c139c602fcf11065c368d67</td>\n",
       "      <td>prep4_song_9, phrase_184,time_113-119.wav</td>\n",
       "      <td>9</td>\n",
       "      <td>prep4</td>\n",
       "      <td>184</td>\n",
       "    </tr>\n",
       "    <tr>\n",
       "      <th>7441</th>\n",
       "      <td>5641ceb7957ec589f136638189c5fc5d</td>\n",
       "      <td>prep6_song_7, phrase_143,time_435-442.wav</td>\n",
       "      <td>7</td>\n",
       "      <td>prep6</td>\n",
       "      <td>143</td>\n",
       "    </tr>\n",
       "    <tr>\n",
       "      <th>7442</th>\n",
       "      <td>5200d298dcdf65f11f9b738a8b0b68dd</td>\n",
       "      <td>prep6_song_19,phrase_470,time_111-116.wav</td>\n",
       "      <td>19</td>\n",
       "      <td>prep6</td>\n",
       "      <td>470</td>\n",
       "    </tr>\n",
       "  </tbody>\n",
       "</table>\n",
       "<p>7443 rows × 5 columns</p>\n",
       "</div>"
      ]
     },
     "execution_count": 31,
     "metadata": {},
     "output_type": "execute_result"
    }
   ],
   "execution_count": 31
  },
  {
   "metadata": {
    "ExecuteTime": {
     "end_time": "2024-09-10T14:58:30.091612Z",
     "start_time": "2024-09-10T14:58:30.063534Z"
    }
   },
   "cell_type": "code",
   "source": "final_df = lyrics_original[['phrase_number', 'sentence']].merge(file_df, how='inner', on='phrase_number')",
   "id": "4fd8f1d71999b637",
   "outputs": [],
   "execution_count": 32
  },
  {
   "metadata": {
    "ExecuteTime": {
     "end_time": "2024-09-10T14:58:30.191754Z",
     "start_time": "2024-09-10T14:58:30.151668Z"
    }
   },
   "cell_type": "code",
   "source": [
    "final_df = final_df.assign(locale='ga-IE')\n",
    "final_df = final_df.assign(sentence_domain='')\n",
    "final_df = final_df.assign(up_votes='')\n",
    "final_df = final_df.assign(down_votes='')\n",
    "final_df = final_df.assign(age='')\n",
    "final_df = final_df.assign(gender='')\n",
    "final_df = final_df.assign(accents='')\n",
    "final_df = final_df.assign(variant='')"
   ],
   "id": "58ea882dcab884",
   "outputs": [],
   "execution_count": 33
  },
  {
   "metadata": {
    "ExecuteTime": {
     "end_time": "2024-09-10T14:58:30.246500Z",
     "start_time": "2024-09-10T14:58:30.218829Z"
    }
   },
   "cell_type": "code",
   "source": [
    "gender_map = {\n",
    "    '1': 'male',\n",
    "    '2': 'female',\n",
    "    '3': 'female',\n",
    "    '4': 'male',\n",
    "    '5': 'female',\n",
    "    '6': 'female', \n",
    "    '7': 'male',\n",
    "    '8': 'male',\n",
    "    '9': 'male',\n",
    "    '11': 'female',\n",
    "    '12': 'female',\n",
    "    '13': 'female',\n",
    "    '14': 'female',\n",
    "    '15': 'male',\n",
    "    '16': 'male',\n",
    "    '17': 'female',\n",
    "    '18': 'male',\n",
    "    '19': 'male',\n",
    "    '22': 'female',\n",
    "    '23': 'female',\n",
    "    '24': 'female',\n",
    "    '25': 'female',\n",
    "    '26': 'female',\n",
    "    '27': 'female',\n",
    "    '28': 'female',\n",
    "    '29': 'female',\n",
    "    '30': 'male',\n",
    "    '31': 'female',\n",
    "    '32': 'female', \n",
    "    '33': 'female',\n",
    "    '34': 'female',\n",
    "    '35': 'female',\n",
    "    '36': 'female',\n",
    "    '37': 'female',\n",
    "    '38': 'male',\n",
    "    '39': 'female',   \n",
    "}\n",
    "\n",
    "client_map = {\n",
    "    'fb10b1b655a2b34af288a4ff51460080': 'female',\n",
    "    'eb6e87c69c6bb1914b33b66e22c43b22': 'female',\n",
    "    'ce29c518eaf3469a00c1b49df4a6fa58': 'female',\n",
    "    'b9ce569cc8664a79633c2e49b6951772': 'female',\n",
    "    'b501dd4c046f528a66c085a29a77fa96': 'female',\n",
    "    'ad7c36b78f0904b97958275bc316fc4a': 'female',\n",
    "    'a168b2952fd26fad6352725ad5d32c89': 'male',\n",
    "    'a05faf2da14346a9eebcb1cef52cdf70': 'male',\n",
    "    '9d6bf453b18c2401cf42e86fd7084048': 'male',\n",
    "    '9be4875162b0b52ac5853090d9816d9e': 'female',\n",
    "    '8a3d80b09d305f7e61710569dacd7b8a': 'male',\n",
    "    '82072466fe7e953258121bfed776c4c8': 'male',\n",
    "    '8059835b0296b8f2d8f88ee9d5ff2bc1': 'female',\n",
    "    '7cc5fa83c13a9bba0058047168213fd3': 'female',\n",
    "    '7396e94dda5897f01e213ea8895f5f34': 'female',\n",
    "    '6685ae01c52fccb1b73d803bc0ac65f2': 'female',\n",
    "    '5d179b5ee524d198cb483c6b6ff22e56': 'female',\n",
    "    '5641ceb7957ec589f136638189c5fc5d': 'male',\n",
    "    '53deaae6c3c39e7db142a88fb1859ba8': 'female',\n",
    "    '5200d298dcdf65f11f9b738a8b0b68dd': 'male',\n",
    "    '42a114cfae45f0e7562ecee67c7c4b9b': 'female',\n",
    "    '40b30d9f3e6d06f3d9cc6d118b04fda7': 'male',\n",
    "    '3f4d025bf63ba0bd11873d448217c394': 'female',\n",
    "    '3c514de0167d3e12cda5f1221269ccfa': 'male',\n",
    "    '3b1b99b2d042b9228b9b6ed7ba6ef0cf': 'female',\n",
    "    '2d6587eaf934b300a40091b3df85ce66': 'female',\n",
    "    '2bfd305a6c139c602fcf11065c368d67': 'male',\n",
    "    '23f2d50b628d98ecd1458b53ebd1e0c4': 'male',\n",
    "    '24b00678a1add71b1a69837a0e2478c1': 'female',\n",
    "    '5599a98ac42fb2d3b2618ca52d4ee48c': 'female',\n",
    "    'e687cfb58aa0a2abf7dc596503cfcf68': 'female',\n",
    "    '666ac977145186527ee2ee11e0b8335e': 'female',\n",
    "    '40291794d294568b8e881d84b63b4d4a': 'female',\n",
    "    '717a92c1cd9b05391b5e20b6ddb6e98e': 'female',\n",
    "    '03c0170448334d0b0cfab68ee3690b7c': 'male',\n",
    "    'e30aaf33d6b93dc7b766641a2a03efc1': 'female'\n",
    "}\n"
   ],
   "id": "ea7fd35e023e7534",
   "outputs": [],
   "execution_count": 34
  },
  {
   "metadata": {
    "ExecuteTime": {
     "end_time": "2024-09-10T14:58:30.308878Z",
     "start_time": "2024-09-10T14:58:30.284891Z"
    }
   },
   "cell_type": "code",
   "source": [
    "final_df = final_df.assign(gender=final_df.song.map(gender_map))\n",
    "#final_df = final_df.assign(client_id=final_df.client_id.map(client_map))"
   ],
   "id": "91c91867d279edc5",
   "outputs": [],
   "execution_count": 35
  },
  {
   "metadata": {
    "ExecuteTime": {
     "end_time": "2024-09-10T14:58:30.373721Z",
     "start_time": "2024-09-10T14:58:30.344893Z"
    }
   },
   "cell_type": "code",
   "source": "final_df = final_df.dropna(subset=['sentence'], axis=0)",
   "id": "4e1ab175f378a13a",
   "outputs": [],
   "execution_count": 36
  },
  {
   "metadata": {
    "ExecuteTime": {
     "end_time": "2024-09-10T14:58:30.444821Z",
     "start_time": "2024-09-10T14:58:30.409618Z"
    }
   },
   "cell_type": "code",
   "source": "final_df = final_df.assign(sentence_id = final_df.sentence.apply(lambda s: hashlib.md5(s.encode(\"utf-8\")).hexdigest() ))",
   "id": "f94eabcaf085bb39",
   "outputs": [],
   "execution_count": 37
  },
  {
   "metadata": {
    "ExecuteTime": {
     "end_time": "2024-09-10T14:58:30.525397Z",
     "start_time": "2024-09-10T14:58:30.480004Z"
    }
   },
   "cell_type": "code",
   "source": [
    "final_df.sentence = final_df.sentence.str.replace('*','', regex=False)\n",
    "final_df.sentence = final_df.sentence.str.replace('-',', ', regex=False)\n",
    "final_df.sentence = final_df.sentence.str.replace('–',', ', regex=False)\n",
    "final_df.sentence = final_df.sentence.str.replace('`',\"'\", regex=False)\n",
    "final_df.sentence = final_df.sentence.str.replace('’',\"'\", regex=False)\n",
    "final_df.sentence = final_df.sentence.str.replace('‘',\"'\", regex=False)"
   ],
   "id": "c1aa2141d69f17d6",
   "outputs": [],
   "execution_count": 38
  },
  {
   "metadata": {
    "ExecuteTime": {
     "end_time": "2024-09-10T14:58:30.606405Z",
     "start_time": "2024-09-10T14:58:30.559884Z"
    }
   },
   "cell_type": "code",
   "source": [
    "columns = ['client_id', 'path', 'sentence', 'sentence_id', 'sentence_domain', 'up_votes', 'down_votes', 'age', 'gender', 'accents', 'variant', 'locale']\n",
    "\n",
    "# from client_id select 2 sentences for validation and remove from final_df\n",
    "test_df = final_df.groupby('client_id').apply(lambda x: x.sample(n=2, replace=False)).drop('client_id', axis=1).reset_index()\n",
    "rm_indcs = test_df.level_1\n",
    "test_df = test_df.drop('level_1', axis=1)"
   ],
   "id": "19699cd563387673",
   "outputs": [],
   "execution_count": 39
  },
  {
   "metadata": {
    "ExecuteTime": {
     "end_time": "2024-09-10T14:58:30.661339Z",
     "start_time": "2024-09-10T14:58:30.638806Z"
    }
   },
   "cell_type": "code",
   "source": [
    "mask = np.ones(len(final_df), dtype=bool)\n",
    "mask[rm_indcs] = False\n",
    "train_df = final_df.iloc[mask]"
   ],
   "id": "ade6f4d64f752a1",
   "outputs": [],
   "execution_count": 40
  },
  {
   "metadata": {
    "ExecuteTime": {
     "end_time": "2024-09-10T14:58:30.964856Z",
     "start_time": "2024-09-10T14:58:30.944111Z"
    }
   },
   "cell_type": "code",
   "source": [
    "import wave\n",
    "def get_wav_duration(filepath):\n",
    "    with wave.open(filepath, 'rb') as wav_file:\n",
    "        frames = wav_file.getnframes()\n",
    "        rate = wav_file.getframerate()\n",
    "        duration = frames / float(rate)\n",
    "        return int(duration * 1000)  "
   ],
   "id": "ebf5ba359be2dd6a",
   "outputs": [],
   "execution_count": 43
  },
  {
   "metadata": {
    "ExecuteTime": {
     "end_time": "2024-09-10T14:58:31.676213Z",
     "start_time": "2024-09-10T14:58:31.049402Z"
    }
   },
   "cell_type": "code",
   "source": [
    "duration_df = []\n",
    "for f in filenames:\n",
    "    duration = get_wav_duration(os.path.join('clips_processed', f))\n",
    "    duration_df.append({'clip': f,  'duration[ms': duration})\n",
    "    \n",
    "pd.DataFrame(duration_df).to_csv('clip_durations.tsv', sep='\\t', index=False)\n",
    "\n"
   ],
   "id": "6d6195743d74a2fc",
   "outputs": [],
   "execution_count": 44
  },
  {
   "metadata": {
    "ExecuteTime": {
     "end_time": "2024-09-10T15:06:21.977554Z",
     "start_time": "2024-09-10T15:06:21.946875Z"
    }
   },
   "cell_type": "code",
   "source": "dur_df = pd.DataFrame(duration_df)",
   "id": "5477eaec9e63f4d1",
   "outputs": [],
   "execution_count": 70
  },
  {
   "metadata": {
    "ExecuteTime": {
     "end_time": "2024-09-10T15:04:33.290643Z",
     "start_time": "2024-09-10T15:04:33.243037Z"
    }
   },
   "cell_type": "code",
   "source": "dur_df[dur_df['duration[ms']>15_000]['clip'].str.split(\",\").apply(lambda x: x[1]).nunique()",
   "id": "64f5dea214a84be5",
   "outputs": [
    {
     "data": {
      "text/plain": [
       "93"
      ]
     },
     "execution_count": 67,
     "metadata": {},
     "output_type": "execute_result"
    }
   ],
   "execution_count": 67
  },
  {
   "metadata": {
    "ExecuteTime": {
     "end_time": "2024-09-10T15:08:31.188264Z",
     "start_time": "2024-09-10T15:08:31.146087Z"
    }
   },
   "cell_type": "code",
   "source": "keep_phrases = dur_df[dur_df['duration[ms']<15_000]['clip'].values",
   "id": "d476221a7cbd009e",
   "outputs": [],
   "execution_count": 75
  },
  {
   "metadata": {
    "ExecuteTime": {
     "end_time": "2024-09-10T15:09:58.535141Z",
     "start_time": "2024-09-10T15:09:58.495309Z"
    }
   },
   "cell_type": "code",
   "source": [
    "train_df = train_df.loc[train_df.path.isin(keep_phrases)]\n",
    "test_df = test_df.loc[test_df.path.isin(keep_phrases)]\n"
   ],
   "id": "fa8b745ee6c42f34",
   "outputs": [],
   "execution_count": 79
  },
  {
   "metadata": {
    "ExecuteTime": {
     "end_time": "2024-09-10T15:10:00.931153Z",
     "start_time": "2024-09-10T15:10:00.847335Z"
    }
   },
   "cell_type": "code",
   "source": [
    "test_df[columns].to_csv('test.tsv', sep='\\t', index=False)\n",
    "train_df[columns].to_csv('train.tsv', sep='\\t', index=False)"
   ],
   "id": "e5c324062ba30af2",
   "outputs": [],
   "execution_count": 80
  },
  {
   "metadata": {},
   "cell_type": "code",
   "outputs": [],
   "execution_count": null,
   "source": "",
   "id": "990a34d5e67960f7"
  }
 ],
 "metadata": {
  "kernelspec": {
   "display_name": "Python 3",
   "language": "python",
   "name": "python3"
  },
  "language_info": {
   "codemirror_mode": {
    "name": "ipython",
    "version": 2
   },
   "file_extension": ".py",
   "mimetype": "text/x-python",
   "name": "python",
   "nbconvert_exporter": "python",
   "pygments_lexer": "ipython2",
   "version": "2.7.6"
  }
 },
 "nbformat": 4,
 "nbformat_minor": 5
}
