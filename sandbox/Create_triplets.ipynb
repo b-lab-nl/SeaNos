{
 "cells": [
  {
   "cell_type": "code",
   "execution_count": null,
   "id": "initial_id",
   "metadata": {
    "collapsed": true
   },
   "outputs": [],
   "source": [
    "# take the original lyrics from the training set\n",
    "# use the TTS model to create synthetic songs with the singer associated with each song \n",
    "# triplet: (singerID,synthetic song, actual song) \n",
    "# where the singerID is used as a conditional for the model\n",
    "# The model should turn (singerID, synthetic song) -> (improved song)\n",
    "\n",
    "# more specifically\n",
    "# (singerID, synthetic song) -> (singerID, mel spectrogram) -> (improved song mel spectrogram)\n",
    "\n",
    "# An idea is:\n",
    "# VAE for non-linear mapping \n",
    "# What else?"
   ]
  }
 ],
 "metadata": {
  "kernelspec": {
   "display_name": "Python 3",
   "language": "python",
   "name": "python3"
  },
  "language_info": {
   "codemirror_mode": {
    "name": "ipython",
    "version": 2
   },
   "file_extension": ".py",
   "mimetype": "text/x-python",
   "name": "python",
   "nbconvert_exporter": "python",
   "pygments_lexer": "ipython2",
   "version": "2.7.6"
  }
 },
 "nbformat": 4,
 "nbformat_minor": 5
}
