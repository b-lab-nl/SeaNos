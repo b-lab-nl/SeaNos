{
 "cells": [
  {
   "cell_type": "code",
   "id": "initial_id",
   "metadata": {
    "collapsed": true,
    "ExecuteTime": {
     "end_time": "2024-09-16T20:56:53.943637Z",
     "start_time": "2024-09-16T20:56:53.935889Z"
    }
   },
   "source": [
    "from TTS.tts.utils.text import phonemizers\n",
    "\n",
    "print(phonemizers.__dir__())\n",
    "\n",
    "\n",
    "#"
   ],
   "outputs": [
    {
     "name": "stdout",
     "output_type": "stream",
     "text": [
      "['__name__', '__doc__', '__package__', '__loader__', '__spec__', '__path__', '__file__', '__cached__', '__builtins__', 'base', 'bangla_phonemizer', 'BN_Phonemizer', 'BasePhonemizer', 'belarusian_phonemizer', 'BEL_Phonemizer', 'espeak_wrapper', 'ESpeak', 'gruut_wrapper', 'Gruut', 'ko_kr_phonemizer', 'KO_KR_Phonemizer', 'zh_cn_phonemizer', 'ZH_CN_Phonemizer', 'JA_JP_Phonemizer', 'PHONEMIZERS', 'ESPEAK_LANGS', 'GRUUT_LANGS', '_', 'DEF_LANG_TO_PHONEMIZER', '_new_dict', 'get_phonemizer_by_name', 'multi_phonemizer']\n"
     ]
    }
   ],
   "execution_count": 3
  },
  {
   "metadata": {
    "ExecuteTime": {
     "end_time": "2024-09-16T21:26:48.801101Z",
     "start_time": "2024-09-16T21:26:48.676593Z"
    }
   },
   "cell_type": "code",
   "source": [
    "#Create a phonemizer instance\n",
    "phonemizer = phonemizers.ESpeak(language=\"ga\",keep_puncs=False)\n",
    "\n",
    "# Phonemize a sample text\n",
    "text = \"Dia dhuit. Conas atá tú?\"\n",
    "phonemes = phonemizer.phonemize(text, separator=\" \")\n",
    "print(phonemes)"
   ],
   "id": "ab040151205f4f3b",
   "outputs": [
    {
     "name": "stdout",
     "output_type": "stream",
     "text": [
      "dʲ ˈiə ɣ ə ˈɪ c k ˈɔ n ɐ s ə t̪ ˌɑː t̪ ˈuː\n"
     ]
    }
   ],
   "execution_count": 9
  },
  {
   "metadata": {
    "ExecuteTime": {
     "end_time": "2024-09-16T21:27:03.974039Z",
     "start_time": "2024-09-16T21:27:03.829596Z"
    }
   },
   "cell_type": "code",
   "source": [
    "# Sample sentences\n",
    "sentences = [\n",
    "    \"Dia dhuit.\",\n",
    "    \"Conas atá tú?\",\n",
    "    \"Tá an aimsir go hálainn inniu.\"\n",
    "]\n",
    "\n",
    "for sentence in sentences:\n",
    "    phonemes = phonemizer.phonemize(sentence, separator=\" \")\n",
    "    print(f\"Sentence: {sentence}\")\n",
    "    print(f\"Phonemes: {phonemes}\")\n",
    "    print(\"---\")"
   ],
   "id": "36772e90143da59c",
   "outputs": [
    {
     "name": "stdout",
     "output_type": "stream",
     "text": [
      "Sentence: Dia dhuit.\n",
      "Phonemes: dʲ ˈiə ɣ ə ˈɪ c\n",
      "---\n",
      "Sentence: Conas atá tú?\n",
      "Phonemes: k ˈɔ n ɐ s ə t̪ ˌɑː t̪ ˈuː\n",
      "---\n",
      "Sentence: Tá an aimsir go hálainn inniu.\n",
      "Phonemes: t̪ ˈɑː ə n ˈaɪ m ʃ ɪ r ɡ ˈɔ h ˈɑː l ɪ ŋ ɪ n j ˈuː v\n",
      "---\n"
     ]
    }
   ],
   "execution_count": 11
  },
  {
   "metadata": {},
   "cell_type": "code",
   "outputs": [],
   "execution_count": null,
   "source": "",
   "id": "e02bca8f95e125ad"
  }
 ],
 "metadata": {
  "kernelspec": {
   "display_name": "Python 3",
   "language": "python",
   "name": "python3"
  },
  "language_info": {
   "codemirror_mode": {
    "name": "ipython",
    "version": 2
   },
   "file_extension": ".py",
   "mimetype": "text/x-python",
   "name": "python",
   "nbconvert_exporter": "python",
   "pygments_lexer": "ipython2",
   "version": "2.7.6"
  }
 },
 "nbformat": 4,
 "nbformat_minor": 5
}
